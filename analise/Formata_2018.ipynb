{
 "metadata": {
  "name": ""
 },
 "nbformat": 3,
 "nbformat_minor": 0,
 "worksheets": [
  {
   "cells": [
    {
     "cell_type": "heading",
     "level": 3,
     "metadata": {},
     "source": [
      "Preliminares"
     ]
    },
    {
     "cell_type": "code",
     "collapsed": false,
     "input": [
      "import pandas as pd\n",
      "import numpy as np\n",
      "from glob import glob\n",
      "import matplotlib.pyplot as pl"
     ],
     "language": "python",
     "metadata": {},
     "outputs": [],
     "prompt_number": 25
    },
    {
     "cell_type": "heading",
     "level": 3,
     "metadata": {},
     "source": [
      "Carrega dados brutos"
     ]
    },
    {
     "cell_type": "code",
     "collapsed": false,
     "input": [
      "# Carrega base de dados de 2018:\n",
      "from glob import glob\n",
      "cand18files = glob('../dados/consulta_cand_2018/unicode_cand_2018_??.csv')\n",
      "cand18 = pd.concat([pd.read_csv(f, sep=';', quotechar='\\\"') for f in cand18files],ignore_index=True)\n",
      "\n",
      "# Carrega base de dados anterior:\n",
      "base = pd.read_csv('../dados/concatenados/completa+bens.csv',sep='>')\n",
      "\n",
      "# Convers\u00e3o profiss\u00e3o-categoria:\n",
      "# Carrega categorias de profiss\u00f5es:\n",
      "profBase = pd.read_csv('profissoes-v2.txt',sep=';')\n",
      "profDict = profBase.groupby('PROFISSAO')['CATEGORIA'].unique().apply(lambda x: x[-1]).to_dict()"
     ],
     "language": "python",
     "metadata": {},
     "outputs": [],
     "prompt_number": 151
    },
    {
     "cell_type": "heading",
     "level": 3,
     "metadata": {},
     "source": [
      "C\u00e1lculo de novas colunas"
     ]
    },
    {
     "cell_type": "code",
     "collapsed": false,
     "input": [
      "# Tamanho de nomes e tamanho de coliga\u00e7\u00f5es:\n",
      "NumNomesUrna     = cand18.NM_URNA_CANDIDATO.astype(str).str.split().apply(lambda x:len(x)).values\n",
      "NumNomesCand     = cand18.NM_CANDIDATO.astype(str).str.split().apply(lambda x:len(x)).values\n",
      "TamanhoColigacao = cand18.DS_COMPOSICAO_COLIGACAO.apply(lambda x: x.count('/')+1)"
     ],
     "language": "python",
     "metadata": {},
     "outputs": [],
     "prompt_number": 23
    },
    {
     "cell_type": "code",
     "collapsed": false,
     "input": [
      "# Participa\u00e7\u00e3o e votos anteriores:\n",
      "\n",
      "ByTitEleitor   = base.groupby('NUM_TITULO_ELEITORAL_CANDIDATO')\n",
      "PrevTitEleitor = base.NUM_TITULO_ELEITORAL_CANDIDATO.unique()\n",
      "\n",
      "def PrevVotes(candidate):\n",
      "    if (candidate in PrevTitEleitor)==True:\n",
      "        return ByTitEleitor.get_group(candidate).TOTAL_VOTOS.sum()\n",
      "    else:\n",
      "        return 0\n",
      "def NumPrevElections(candidate):\n",
      "    if (candidate in PrevTitEleitor)==True:\n",
      "        return len(ByTitEleitor.get_group(candidate))\n",
      "    else:\n",
      "        return 0\n",
      "    \n",
      "NumVotosAntes    = cand18.NR_TITULO_ELEITORAL_CANDIDATO.apply(PrevVotes)\n",
      "NumEleicoesAntes = cand18.NR_TITULO_ELEITORAL_CANDIDATO.apply(NumPrevElections)"
     ],
     "language": "python",
     "metadata": {},
     "outputs": []
    },
    {
     "cell_type": "heading",
     "level": 3,
     "metadata": {},
     "source": [
      "Declara\u00e7\u00e3o de bens"
     ]
    },
    {
     "cell_type": "code",
     "collapsed": false,
     "input": [
      "# Em 2018, SQ_CANDIDATO \u00e9 unico no pa\u00eds:\n",
      "np.all(cand18.groupby('SQ_CANDIDATO')['SG_UF'].unique().apply(len)==1)"
     ],
     "language": "python",
     "metadata": {},
     "outputs": [
      {
       "metadata": {},
       "output_type": "pyout",
       "prompt_number": 148,
       "text": [
        "True"
       ]
      }
     ],
     "prompt_number": 148
    },
    {
     "cell_type": "code",
     "collapsed": false,
     "input": [
      "# Carrega arquivos:\n",
      "bemFiles = glob('../dados/bem_candidato_2018/bem_candidato_2018_??.csv')\n",
      "bem18 = pd.concat([pd.read_csv(f, sep=';', quotechar='\\\"') for f in bemFiles],ignore_index=True)"
     ],
     "language": "python",
     "metadata": {},
     "outputs": [],
     "prompt_number": 149
    },
    {
     "cell_type": "code",
     "collapsed": false,
     "input": [
      "bem18.VR_BEM_CANDIDATO = bem18.VR_BEM_CANDIDATO.str.replace(',','.').astype(float)\n",
      "bem18Grouped = bem18.groupby('SQ_CANDIDATO')\n",
      "# Conta n\u00famero de bens:         \n",
      "NumBens = bem18Grouped.size()\n",
      "NumBens.name = 'NUMERO_BENS'\n",
      "# Totaliza valor dos bens:\n",
      "ValorBens = bem18Grouped['VR_BEM_CANDIDATO'].sum()"
     ],
     "language": "python",
     "metadata": {},
     "outputs": [],
     "prompt_number": 150
    },
    {
     "cell_type": "heading",
     "level": 3,
     "metadata": {},
     "source": [
      "Junta e finaliza dados"
     ]
    },
    {
     "cell_type": "code",
     "collapsed": false,
     "input": [
      "cand18['TAMANHO_NOME']      = pd.Series(NumNomesCand)\n",
      "cand18['TAMANHO_NOME_URNA'] = pd.Series(NumNomesUrna)\n",
      "cand18['TAMANHO_LEGENDA']   = pd.Series(TamanhoColigacao)\n",
      "cand18['NUM_ELEICOES_ANTERIORES'] = pd.Series(NumEleicoesAntes)\n",
      "cand18['TOTAL_VOTOS_ANTERIORES']  = pd.Series(NumVotosAntes)"
     ],
     "language": "python",
     "metadata": {},
     "outputs": [],
     "prompt_number": 152
    },
    {
     "cell_type": "code",
     "collapsed": false,
     "input": [
      "cand18 = cand18.join(NumBens, on='SQ_CANDIDATO')\n",
      "cand18 = cand18.join(ValorBens, on='SQ_CANDIDATO')      "
     ],
     "language": "python",
     "metadata": {},
     "outputs": [],
     "prompt_number": 153
    },
    {
     "cell_type": "code",
     "collapsed": false,
     "input": [
      "# Salva resultados:\n",
      "cand18.to_csv('../dados/concatenados/cand2018+anterior+bens.csv', sep='>', index=False)"
     ],
     "language": "python",
     "metadata": {},
     "outputs": [],
     "prompt_number": 160
    },
    {
     "cell_type": "heading",
     "level": 3,
     "metadata": {},
     "source": [
      "Visualiza um candidato"
     ]
    },
    {
     "cell_type": "code",
     "collapsed": false,
     "input": [
      "with pd.option_context('display.max_rows', None, 'display.max_columns', None):\n",
      "   print cand18.iloc[6,:].transpose()"
     ],
     "language": "python",
     "metadata": {},
     "outputs": [
      {
       "output_type": "stream",
       "stream": "stdout",
       "text": [
        "DT_GERACAO                                            20/08/2018\n",
        "HH_GERACAO                                              15:14:58\n",
        "ANO_ELEICAO                                                 2018\n",
        "CD_TIPO_ELEICAO                                                2\n",
        "NM_TIPO_ELEICAO                                ELEI\u00c7\u00c3O ORDIN\u00c1RIA\n",
        "NR_TURNO                                                       1\n",
        "CD_ELEICAO                                                   297\n",
        "DS_ELEICAO                        Elei\u00e7\u00f5es Gerais Estaduais 2018\n",
        "DT_ELEICAO                                            07/10/2018\n",
        "TP_ABRANGENCIA                                          ESTADUAL\n",
        "SG_UF                                                         MS\n",
        "SG_UE                                                         MS\n",
        "NM_UE                                         MATO GROSSO DO SUL\n",
        "CD_CARGO                                                       7\n",
        "DS_CARGO                                       DEPUTADO ESTADUAL\n",
        "SQ_CANDIDATO                                        120000603797\n",
        "NR_CANDIDATO                                               12888\n",
        "NM_CANDIDATO                            MARIA TERESA BARROS LIMA\n",
        "NM_URNA_CANDIDATO                                   MARIA TERESA\n",
        "NM_SOCIAL_CANDIDATO                                       #NULO#\n",
        "NR_CPF_CANDIDATO                                     26689952134\n",
        "NM_EMAIL                           TEREZAMARIABARROS12@GMAIL.COM\n",
        "CD_SITUACAO_CANDIDATURA                                        1\n",
        "DS_SITUACAO_CANDIDATURA                               CADASTRADO\n",
        "CD_DETALHE_SITUACAO_CAND                                       8\n",
        "DS_DETALHE_SITUACAO_CAND                   AGUARDANDO JULGAMENTO\n",
        "TP_AGREMIACAO                                          COLIGA\u00c7\u00c3O\n",
        "NR_PARTIDO                                                    12\n",
        "SG_PARTIDO                                                   PDT\n",
        "NM_PARTIDO                       PARTIDO DEMOCR\u00c1TICO TRABALHISTA\n",
        "SQ_COLIGACAO                                        120000050106\n",
        "NM_COLIGACAO                               Esperan\u00e7a e Mudan\u00e7a 2\n",
        "DS_COMPOSICAO_COLIGACAO                                PDT / PRB\n",
        "CD_NACIONALIDADE                                               1\n",
        "DS_NACIONALIDADE                                 BRASILEIRA NATA\n",
        "SG_UF_NASCIMENTO                                              MS\n",
        "CD_MUNICIPIO_NASCIMENTO                                       -3\n",
        "NM_MUNICIPIO_NASCIMENTO                                  TERENOS\n",
        "DT_NASCIMENTO                                         12/11/1961\n",
        "NR_IDADE_DATA_POSSE                                           57\n",
        "NR_TITULO_ELEITORAL_CANDIDATO                         7305771902\n",
        "CD_GENERO                                                      4\n",
        "DS_GENERO                                               FEMININO\n",
        "CD_GRAU_INSTRUCAO                                              6\n",
        "DS_GRAU_INSTRUCAO                          ENSINO M\u00c9DIO COMPLETO\n",
        "CD_ESTADO_CIVIL                                                3\n",
        "DS_ESTADO_CIVIL                                        CASADO(A)\n",
        "CD_COR_RACA                                                    2\n",
        "DS_COR_RACA                                                PRETA\n",
        "CD_OCUPACAO                                                  512\n",
        "DS_OCUPACAO                              CABELEIREIRO E BARBEIRO\n",
        "NR_DESPESA_MAX_CAMPANHA                                       -1\n",
        "CD_SIT_TOT_TURNO                                              -1\n",
        "DS_SIT_TOT_TURNO                                          #NULO#\n",
        "ST_REELEICAO                                                   N\n",
        "ST_DECLARAR_BENS                                               S\n",
        "NR_PROTOCOLO_CANDIDATURA                                      -1\n",
        "NR_PROCESSO                                  6004485220186120000\n",
        "TAMANHO_NOME                                                   4\n",
        "TAMANHO_NOME_URNA                                              2\n",
        "TAMANHO_LEGENDA                                                2\n",
        "NUM_ELEICOES_ANTERIORES                                        3\n",
        "TOTAL_VOTOS_ANTERIORES                                       283\n",
        "NUMERO_BENS                                                    1\n",
        "VR_BEM_CANDIDATO                                          200000\n",
        "Name: 6, Length: 65, dtype: object\n"
       ]
      }
     ],
     "prompt_number": 158
    },
    {
     "cell_type": "code",
     "collapsed": false,
     "input": [
      "      "
     ],
     "language": "python",
     "metadata": {},
     "outputs": []
    }
   ],
   "metadata": {}
  }
 ]
}