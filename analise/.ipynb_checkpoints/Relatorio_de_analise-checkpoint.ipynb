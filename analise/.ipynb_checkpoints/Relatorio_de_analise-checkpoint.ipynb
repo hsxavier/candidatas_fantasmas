{
 "metadata": {
  "name": ""
 },
 "nbformat": 3,
 "nbformat_minor": 0,
 "worksheets": [
  {
   "cells": [
    {
     "cell_type": "code",
     "collapsed": false,
     "input": [
      "import numpy as np\n",
      "import pandas as pd\n",
      "import matplotlib.pyplot as pl\n",
      "import matplotlib.patches as mpatches\n",
      "import matplotlib.lines as mlines\n",
      "from __future__ import unicode_literals"
     ],
     "language": "python",
     "metadata": {},
     "outputs": [],
     "prompt_number": 1
    },
    {
     "cell_type": "code",
     "collapsed": false,
     "input": [
      "base = pd.read_csv('../dados/concatenados/completa+bens.csv',sep='>')"
     ],
     "language": "python",
     "metadata": {},
     "outputs": [
      {
       "output_type": "stream",
       "stream": "stderr",
       "text": [
        "/usr/lib/python2.7/dist-packages/pandas/io/parsers.py:1070: DtypeWarning: Columns (12,14,25,35) have mixed types. Specify dtype option on import or set low_memory=False.\n",
        "  data = self._reader.read(nrows)\n"
       ]
      }
     ],
     "prompt_number": 2
    },
    {
     "cell_type": "code",
     "collapsed": false,
     "input": [
      "print base.columns.values"
     ],
     "language": "python",
     "metadata": {},
     "outputs": [
      {
       "output_type": "stream",
       "stream": "stdout",
       "text": [
        "['ANO_ELEICAO' 'CODIGO_CARGO' 'CODIGO_COR_RACA' 'CODIGO_ESTADO_CIVIL'\n",
        " 'CODIGO_LEGENDA' 'CODIGO_NACIONALIDADE' 'CODIGO_OCUPACAO' 'CODIGO_SEXO'\n",
        " 'COD_GRAU_INSTRUCAO' 'COD_SITUACAO_CANDIDATURA' 'COD_SIT_TOT_TURNO'\n",
        " 'COMPOSICAO_LEGENDA' 'CPF_CANDIDATO' 'DESCRICAO_CARGO'\n",
        " 'DESCRICAO_COR_RACA' 'DESCRICAO_ESTADO_CIVIL' 'DESCRICAO_GRAU_INSTRUCAO'\n",
        " 'DESCRICAO_NACIONALIDADE' 'DESCRICAO_OCUPACAO' 'DESCRICAO_SEXO'\n",
        " 'DESCRICAO_UE' 'DESC_SIT_TOT_TURNO' 'DESPESA_MAX_CAMPANHA'\n",
        " 'DES_SITUACAO_CANDIDATURA' 'IDADE_DATA_ELEICAO' 'NM_EMAIL'\n",
        " 'NOME_CANDIDATO' 'NOME_MUNICIPIO_NASCIMENTO' 'NOME_URNA_CANDIDATO'\n",
        " 'NUMERO_BENS' 'NUMERO_CANDIDATO' 'NUMERO_PARTIDO'\n",
        " 'NUM_TITULO_ELEITORAL_CANDIDATO' 'SEQUENCIAL_CANDIDATO' 'SIGLA_PARTIDO'\n",
        " 'SIGLA_UE' 'SIGLA_UF' 'SIGLA_UF_NASCIMENTO' 'VALOR_BEM'\n",
        " 'DESCRICAO_CATEGORIA' 'TAMANHO_NOME' 'TAMANHO_NOME_URNA' 'TAMANHO_LEGENDA'\n",
        " 'NUM_ELEICOES_ANTERIORES' 'TOTAL_VOTOS_ANTERIORES' 'TOTAL_VOTOS']\n"
       ]
      }
     ],
     "prompt_number": 3
    },
    {
     "cell_type": "code",
     "collapsed": false,
     "input": [],
     "language": "python",
     "metadata": {},
     "outputs": []
    },
    {
     "cell_type": "code",
     "collapsed": false,
     "input": [
      "# Calcula fra\u00e7\u00e3o de cand. com zero votos antes que obt\u00e9m, depois, <=5 votos para deputados:\n",
      "zerovotosAntes = base.loc[(base.NUM_ELEICOES_ANTERIORES>0)&\\\n",
      "                          (base.TOTAL_VOTOS_ANTERIORES==0)&\\\n",
      "                          (base.ANO_ELEICAO>2009)&\\\n",
      "                          (base.CODIGO_SEXO==4)&\\\n",
      "                          (base.CODIGO_CARGO!=13)]\n",
      "print zerovotosAntes.DES_SITUACAO_CANDIDATURA.unique()\n",
      "print float(len(zerovotosAntes.loc[zerovotosAntes.TOTAL_VOTOS<=5]))/len(zerovotosAntes)"
     ],
     "language": "python",
     "metadata": {},
     "outputs": [
      {
       "output_type": "stream",
       "stream": "stdout",
       "text": [
        "['DEFERIDO']\n",
        "0.253012048193\n"
       ]
      }
     ],
     "prompt_number": 18
    },
    {
     "cell_type": "heading",
     "level": 3,
     "metadata": {},
     "source": [
      "Tabelas para AzMina (tem outras mais abaixo)"
     ]
    },
    {
     "cell_type": "code",
     "collapsed": false,
     "input": [
      "# Prepara base de dados\n",
      "base['FAIXA_VOTOS'] = pd.Series(pd.cut(base.TOTAL_VOTOS.fillna(-1),[-2,-1,0,5,1e100],\n",
      "                                                        labels=['-','0','<=5','>5']))\n",
      "instrucao_dict = base.groupby('COD_GRAU_INSTRUCAO').DESCRICAO_GRAU_INSTRUCAO.unique().apply(lambda x: x[0]).to_dict()\n",
      "base['DESCRICAO_GRAU_INSTRUCAO'] = base.COD_GRAU_INSTRUCAO.map(instrucao_dict)"
     ],
     "language": "python",
     "metadata": {},
     "outputs": [],
     "prompt_number": 19
    },
    {
     "cell_type": "code",
     "collapsed": false,
     "input": [
      "ocupacao_dict = {240:'Servidor',296:'Servidor',297:'Servidor',298:'Servidor',\n",
      "                 922:'Aposentado',923:'Aposentado',581:'Dona de casa',999:'Respondeu OUTROS'}\n",
      "base['OCUPACAO_SELECIONADA'] = base.CODIGO_OCUPACAO.apply(lambda x: ocupacao_dict.get(x,'Outros mesmo'))"
     ],
     "language": "python",
     "metadata": {},
     "outputs": [],
     "prompt_number": 48
    },
    {
     "cell_type": "code",
     "collapsed": false,
     "input": [
      "togo = base.groupby(['ANO_ELEICAO','DESCRICAO_CARGO','DESCRICAO_SEXO','FAIXA_VOTOS','OCUPACAO_SELECIONADA']).size()\n",
      "togo.to_csv('tabelas/num-cand-X-ano-cargo-sexo-votos-ocupacao.csv')"
     ],
     "language": "python",
     "metadata": {},
     "outputs": [],
     "prompt_number": 49
    },
    {
     "cell_type": "heading",
     "level": 3,
     "metadata": {},
     "source": [
      "Testes para AzMina"
     ]
    },
    {
     "cell_type": "code",
     "collapsed": false,
     "input": [
      "len(base.loc[(base.CODIGO_SEXO==4)&((base.ANO_ELEICAO==2014))\\\n",
      "             &(base.SIGLA_UF=='RR')])"
     ],
     "language": "python",
     "metadata": {},
     "outputs": [
      {
       "metadata": {},
       "output_type": "pyout",
       "prompt_number": 10,
       "text": [
        "149"
       ]
      }
     ],
     "prompt_number": 10
    },
    {
     "cell_type": "heading",
     "level": 3,
     "metadata": {},
     "source": [
      "Conferindo caracter\u00edsticas da amostra"
     ]
    },
    {
     "cell_type": "code",
     "collapsed": false,
     "input": [
      "print 'Tipos de situa\u00e7\u00e3o do candidato presentes:'\n",
      "print base.ANO_ELEICAO.unique()"
     ],
     "language": "python",
     "metadata": {},
     "outputs": [
      {
       "output_type": "stream",
       "stream": "stdout",
       "text": [
        "Tipos de situa\u00e7\u00e3o do candidato presentes:\n",
        "[2004 2006 2008 2010 2012 2014 2016]\n"
       ]
      }
     ],
     "prompt_number": 5
    },
    {
     "cell_type": "code",
     "collapsed": false,
     "input": [
      "print 'Tipos de situa\u00e7\u00e3o do candidato presentes:'\n",
      "print base.DES_SITUACAO_CANDIDATURA.unique()"
     ],
     "language": "python",
     "metadata": {},
     "outputs": [
      {
       "output_type": "stream",
       "stream": "stdout",
       "text": [
        "Tipos de situa\u00e7\u00e3o do candidato presentes:\n",
        "['DEFERIDO' 'SUB JUDICE' 'INDEFERIDO COM RECURSO' 'DEFERIDO COM RECURSO']"
       ]
      },
      {
       "output_type": "stream",
       "stream": "stdout",
       "text": [
        "\n"
       ]
      }
     ],
     "prompt_number": 6
    },
    {
     "cell_type": "code",
     "collapsed": false,
     "input": [
      "print 'Tipos de cargos presentes:'\n",
      "print base.DESCRICAO_CARGO.unique()"
     ],
     "language": "python",
     "metadata": {},
     "outputs": [
      {
       "output_type": "stream",
       "stream": "stdout",
       "text": [
        "Tipos de cargos presentes:\n",
        "['VEREADOR' 'DEPUTADO FEDERAL' 'DEPUTADO ESTADUAL' 'DEPUTADO DISTRITAL']"
       ]
      },
      {
       "output_type": "stream",
       "stream": "stdout",
       "text": [
        "\n"
       ]
      }
     ],
     "prompt_number": 7
    },
    {
     "cell_type": "code",
     "collapsed": false,
     "input": [
      "print 'Tamanho da base, n\u00famero de candidatos s/ registro de votos (NaN)'\n",
      "print len(base), len(base.loc[base.TOTAL_VOTOS.isnull()==True])"
     ],
     "language": "python",
     "metadata": {},
     "outputs": [
      {
       "output_type": "stream",
       "stream": "stdout",
       "text": [
        "Tamanho da base, n\u00famero de candidatos s/ registro de votos (NaN)\n",
        "1581983 "
       ]
      },
      {
       "output_type": "stream",
       "stream": "stdout",
       "text": [
        "13738\n"
       ]
      }
     ],
     "prompt_number": 8
    },
    {
     "cell_type": "heading",
     "level": 3,
     "metadata": {},
     "source": [
      "Evolu\u00e7\u00e3o de candidaturas com zero e <=5 votos ao longo dos anos"
     ]
    },
    {
     "cell_type": "code",
     "collapsed": false,
     "input": [
      "CandPAno = pd.DataFrame(data={'TOTAL':base.groupby('ANO_ELEICAO').size(),\\\n",
      "                              'TOT_FEM':base.loc[(base.CODIGO_SEXO==4)].groupby('ANO_ELEICAO').size(),\\\n",
      "                   'ZERO_VOTOS_FEM':base.loc[(base.CODIGO_SEXO==4) & \\\n",
      "                                             (base.TOTAL_VOTOS==0)].groupby('ANO_ELEICAO').size(),\\\n",
      "                   'ATE_CINCO_FEM':base.loc[(base.CODIGO_SEXO==4) & \\\n",
      "                                            (base.TOTAL_VOTOS>0) & (base.TOTAL_VOTOS<=5)].groupby('ANO_ELEICAO').size(),\\\n",
      "                   'MAIS_CINCO_FEM':base.loc[(base.CODIGO_SEXO==4) & \\\n",
      "                                             (base.TOTAL_VOTOS>5)].groupby('ANO_ELEICAO').size(),\\\n",
      "                   'TOT_MASC':base.loc[(base.CODIGO_SEXO==2)].groupby('ANO_ELEICAO').size(),\\\n",
      "                   'ZERO_VOTOS_MASC':base.loc[(base.CODIGO_SEXO==2) & \\\n",
      "                                             (base.TOTAL_VOTOS==0)].groupby('ANO_ELEICAO').size(),\\\n",
      "                   'ATE_CINCO_MASC':base.loc[(base.CODIGO_SEXO==2) & \\\n",
      "                                            (base.TOTAL_VOTOS>0) & (base.TOTAL_VOTOS<=5)].groupby('ANO_ELEICAO').size(),\\\n",
      "                   'MAIS_CINCO_MASC':base.loc[(base.CODIGO_SEXO==2) & \\\n",
      "                                             (base.TOTAL_VOTOS>5)].groupby('ANO_ELEICAO').size()})\n",
      "CandPAno['ZERO_VOTOS_MASC'] = pd.Series(np.nan_to_num(CandPAno.ZERO_VOTOS_MASC))\n",
      "CandPAno['ZERO_VOTOS_FEM'] = pd.Series(np.nan_to_num(CandPAno.ZERO_VOTOS_FEM))"
     ],
     "language": "python",
     "metadata": {},
     "outputs": [],
     "prompt_number": 6
    },
    {
     "cell_type": "code",
     "collapsed": false,
     "input": [
      "#CandPAno.to_csv('tabelas/num-cand-com-tantos-votos-X-ano.csv')"
     ],
     "language": "python",
     "metadata": {},
     "outputs": [],
     "prompt_number": 5
    },
    {
     "cell_type": "code",
     "collapsed": false,
     "input": [
      "CandPAno.transpose()"
     ],
     "language": "python",
     "metadata": {},
     "outputs": [
      {
       "html": [
        "<div style=\"max-height:1000px;max-width:1500px;overflow:auto;\">\n",
        "<table border=\"1\" class=\"dataframe\">\n",
        "  <thead>\n",
        "    <tr style=\"text-align: right;\">\n",
        "      <th>ANO_ELEICAO</th>\n",
        "      <th>2004</th>\n",
        "      <th>2006</th>\n",
        "      <th>2008</th>\n",
        "      <th>2010</th>\n",
        "      <th>2012</th>\n",
        "      <th>2014</th>\n",
        "      <th>2016</th>\n",
        "    </tr>\n",
        "  </thead>\n",
        "  <tbody>\n",
        "    <tr>\n",
        "      <th>ATE_CINCO_FEM</th>\n",
        "      <td>   2952</td>\n",
        "      <td>    25</td>\n",
        "      <td>   3075</td>\n",
        "      <td>   132</td>\n",
        "      <td>  15232</td>\n",
        "      <td>   277</td>\n",
        "      <td>  18316</td>\n",
        "    </tr>\n",
        "    <tr>\n",
        "      <th>ATE_CINCO_MASC</th>\n",
        "      <td>   4879</td>\n",
        "      <td>    75</td>\n",
        "      <td>   4450</td>\n",
        "      <td>    45</td>\n",
        "      <td>   5019</td>\n",
        "      <td>    46</td>\n",
        "      <td>   4773</td>\n",
        "    </tr>\n",
        "    <tr>\n",
        "      <th>MAIS_CINCO_FEM</th>\n",
        "      <td>  70562</td>\n",
        "      <td>  2330</td>\n",
        "      <td>  66186</td>\n",
        "      <td>  3391</td>\n",
        "      <td>  96163</td>\n",
        "      <td>  5807</td>\n",
        "      <td> 108620</td>\n",
        "    </tr>\n",
        "    <tr>\n",
        "      <th>MAIS_CINCO_MASC</th>\n",
        "      <td> 260228</td>\n",
        "      <td> 14581</td>\n",
        "      <td> 247364</td>\n",
        "      <td> 13861</td>\n",
        "      <td> 274216</td>\n",
        "      <td> 14907</td>\n",
        "      <td> 287879</td>\n",
        "    </tr>\n",
        "    <tr>\n",
        "      <th>TOTAL</th>\n",
        "      <td> 346419</td>\n",
        "      <td> 17080</td>\n",
        "      <td> 326817</td>\n",
        "      <td> 17563</td>\n",
        "      <td> 415387</td>\n",
        "      <td> 21144</td>\n",
        "      <td> 437573</td>\n",
        "    </tr>\n",
        "    <tr>\n",
        "      <th>TOT_FEM</th>\n",
        "      <td>  76655</td>\n",
        "      <td>  2362</td>\n",
        "      <td>  71637</td>\n",
        "      <td>  3585</td>\n",
        "      <td> 132415</td>\n",
        "      <td>  6166</td>\n",
        "      <td> 142058</td>\n",
        "    </tr>\n",
        "    <tr>\n",
        "      <th>TOT_MASC</th>\n",
        "      <td> 269733</td>\n",
        "      <td> 14718</td>\n",
        "      <td> 255180</td>\n",
        "      <td> 13978</td>\n",
        "      <td> 282972</td>\n",
        "      <td> 14978</td>\n",
        "      <td> 295515</td>\n",
        "    </tr>\n",
        "    <tr>\n",
        "      <th>ZERO_VOTOS_FEM</th>\n",
        "      <td>      0</td>\n",
        "      <td>     0</td>\n",
        "      <td>      9</td>\n",
        "      <td>    49</td>\n",
        "      <td>  21020</td>\n",
        "      <td>    82</td>\n",
        "      <td>  15052</td>\n",
        "    </tr>\n",
        "    <tr>\n",
        "      <th>ZERO_VOTOS_MASC</th>\n",
        "      <td>      0</td>\n",
        "      <td>     0</td>\n",
        "      <td>     16</td>\n",
        "      <td>    10</td>\n",
        "      <td>   3731</td>\n",
        "      <td>    24</td>\n",
        "      <td>   2833</td>\n",
        "    </tr>\n",
        "  </tbody>\n",
        "</table>\n",
        "<p>9 rows \u00d7 7 columns</p>\n",
        "</div>"
       ],
       "metadata": {},
       "output_type": "pyout",
       "prompt_number": 5,
       "text": [
        "ANO_ELEICAO        2004   2006    2008   2010    2012   2014    2016\n",
        "ATE_CINCO_FEM      2952     25    3075    132   15232    277   18316\n",
        "ATE_CINCO_MASC     4879     75    4450     45    5019     46    4773\n",
        "MAIS_CINCO_FEM    70562   2330   66186   3391   96163   5807  108620\n",
        "MAIS_CINCO_MASC  260228  14581  247364  13861  274216  14907  287879\n",
        "TOTAL            346419  17080  326817  17563  415387  21144  437573\n",
        "TOT_FEM           76655   2362   71637   3585  132415   6166  142058\n",
        "TOT_MASC         269733  14718  255180  13978  282972  14978  295515\n",
        "ZERO_VOTOS_FEM        0      0       9     49   21020     82   15052\n",
        "ZERO_VOTOS_MASC       0      0      16     10    3731     24    2833\n",
        "\n",
        "[9 rows x 7 columns]"
       ]
      }
     ],
     "prompt_number": 5
    },
    {
     "cell_type": "code",
     "collapsed": false,
     "input": [
      "# Gr\u00e1fico de \u00e1reas segmentadas com n\u00famero de candidatos em cada faixa de votos:\n",
      "# (MUNICIPAIS)\n",
      "x = base.ANO_ELEICAO.unique()[::2]\n",
      "scale = 1000\n",
      "# Mulheres:\n",
      "n1 = CandPAno.ZERO_VOTOS_FEM[::2] / scale\n",
      "n2 = CandPAno.ATE_CINCO_FEM[::2] / scale\n",
      "n3 = CandPAno.MAIS_CINCO_FEM[::2] / scale\n",
      "# Homens:\n",
      "n4 = CandPAno.MAIS_CINCO_MASC[::2] / scale\n",
      "n5 = CandPAno.ATE_CINCO_MASC[::2] / scale\n",
      "n6 = CandPAno.ZERO_VOTOS_MASC[::2] / scale\n",
      "descricao = ['Fem. 0 votos','Fem. at\u00e9 5 votos','Fem. mais votos',\\\n",
      "             'Masc. mais votos','Masc. at\u00e9 5 votos','Masc. 0 votos']\n",
      "\n",
      "cores = ['darkmagenta','orchid','lightpink','honeydew','lightgreen','olive']\n",
      "pl.stackplot(x,n1,n2,n3,n4,n5,n6, colors=cores)\n",
      "\n",
      "proxy = map(lambda x: mpatches.Patch(color=x),cores) \n",
      "pl.legend(proxy,descricao,loc='center right', bbox_to_anchor=[1,0.6])\n",
      "\n",
      "pl.axvline(2009, linestyle='--', linewidth=2, color='gray') # vertical lines\n",
      "\n",
      "\n",
      "pl.xlim([2004,2016])\n",
      "pl.xticks(x)\n",
      "pl.ylim([0,np.max(n1+n2+n3+n4+n5+n6)])\n",
      "pl.xlabel('Ano da elei\u00e7\u00e3o')\n",
      "pl.ylabel('N\u00famero de candidaturas (mil)')\n",
      "pl.title('Elei\u00e7\u00f5es municipais')\n",
      "#pl.savefig('/home/skems/websites/analises/fantasmas/num-cand-x-ano-vereador.png')\n",
      "pl.show()"
     ],
     "language": "python",
     "metadata": {},
     "outputs": [],
     "prompt_number": 8
    },
    {
     "cell_type": "code",
     "collapsed": false,
     "input": [
      "# Gr\u00e1fico de \u00e1reas segmentadas com n\u00famero de candidatos em cada faixa de votos:\n",
      "# (ESTADUAIS e FEDERAIS)\n",
      "x = base.ANO_ELEICAO.unique()[1::2]\n",
      "scale = 1000\n",
      "# Mulheres:\n",
      "n1 = CandPAno.ZERO_VOTOS_FEM[1::2] / scale\n",
      "n2 = CandPAno.ATE_CINCO_FEM[1::2] / scale\n",
      "n3 = CandPAno.MAIS_CINCO_FEM[1::2] / scale\n",
      "# Homens:\n",
      "n4 = CandPAno.MAIS_CINCO_MASC[1::2] / scale\n",
      "n5 = CandPAno.ATE_CINCO_MASC[1::2] / scale\n",
      "n6 = CandPAno.ZERO_VOTOS_MASC[1::2] / scale\n",
      "\n",
      "cores = ['darkmagenta','orchid','lightpink','honeydew','lightgreen','olive']\n",
      "pl.stackplot(x,n1,n2,n3,n4,n5,n6, colors=cores)\n",
      "\n",
      "proxy = map(lambda x: mpatches.Patch(color=x),cores) \n",
      "pl.legend(proxy,descricao,loc='center right', bbox_to_anchor=[1,0.6])\n",
      "\n",
      "pl.axvline(2009, linestyle='--', linewidth=2, color='gray') # vertical lines\n",
      "\n",
      "pl.xlim([2006,2014])\n",
      "pl.xticks(x)\n",
      "pl.ylim([0,np.max(n1+n2+n3+n4+n5+n6)])\n",
      "pl.xlabel('Ano da elei\u00e7\u00e3o')\n",
      "pl.ylabel('N\u00famero de candidaturas (mil)')\n",
      "pl.title('Elei\u00e7\u00f5es estaduais e federais')\n",
      "pl.ticklabel_format(useOffset=False)\n",
      "pl.savefig('/home/skems/websites/analises/fantasmas/num-cand-x-ano-deputados.png')\n",
      "pl.show()"
     ],
     "language": "python",
     "metadata": {},
     "outputs": [],
     "prompt_number": 9
    },
    {
     "cell_type": "heading",
     "level": 3,
     "metadata": {},
     "source": [
      "Compara\u00e7\u00e3o de caracter\u00edsticas m\u00e9dias entre candidaturas em faixas de votos diferentes"
     ]
    },
    {
     "cell_type": "code",
     "collapsed": false,
     "input": [
      "base.groupby('CODIGO_CARGO')['DESCRICAO_CARGO'].unique()"
     ],
     "language": "python",
     "metadata": {},
     "outputs": [
      {
       "metadata": {},
       "output_type": "pyout",
       "prompt_number": 6,
       "text": [
        "CODIGO_CARGO\n",
        "6                 [DEPUTADO FEDERAL]\n",
        "7                [DEPUTADO ESTADUAL]\n",
        "8               [DEPUTADO DISTRITAL]\n",
        "13                        [VEREADOR]\n",
        "dtype: object"
       ]
      }
     ],
     "prompt_number": 6
    },
    {
     "cell_type": "code",
     "collapsed": false,
     "input": [
      "# Para criar tabela para AzMina:\n",
      "togo = pd.DataFrame() # \u00c9 preciso passar isso para fora da c\u00e9lula para construir a tabela para diversos cargos.\n",
      "FemAntesBaixo   = base.loc[(base.ANO_ELEICAO<2009)&(base.CODIGO_SEXO==4)&(base.TOTAL_VOTOS<=5)&(base.CODIGO_CARGO==13)]\n",
      "FemAntesAlto    = base.loc[(base.ANO_ELEICAO<2009)&(base.CODIGO_SEXO==4)&(base.TOTAL_VOTOS >5)&(base.CODIGO_CARGO==13)]\n",
      "FemDepoisBaixo  = base.loc[(base.ANO_ELEICAO>2009)&(base.CODIGO_SEXO==4)&(base.TOTAL_VOTOS<=5)&(base.CODIGO_CARGO==13)]\n",
      "FemDepoisAlto   = base.loc[(base.ANO_ELEICAO>2009)&(base.CODIGO_SEXO==4)&(base.TOTAL_VOTOS >5)&(base.CODIGO_CARGO==13)]\n",
      "MascAntesBaixo  = base.loc[(base.ANO_ELEICAO<2009)&(base.CODIGO_SEXO==2)&(base.TOTAL_VOTOS<=5)&(base.CODIGO_CARGO==13)]\n",
      "MascAntesAlto   = base.loc[(base.ANO_ELEICAO<2009)&(base.CODIGO_SEXO==2)&(base.TOTAL_VOTOS >5)&(base.CODIGO_CARGO==13)]\n",
      "MascDepoisBaixo = base.loc[(base.ANO_ELEICAO>2009)&(base.CODIGO_SEXO==2)&(base.TOTAL_VOTOS<=5)&(base.CODIGO_CARGO==13)]\n",
      "MascDepoisAlto  = base.loc[(base.ANO_ELEICAO>2009)&(base.CODIGO_SEXO==2)&(base.TOTAL_VOTOS >5)&(base.CODIGO_CARGO==13)]\n",
      "togo['SEXO'] = pd.Series(['Fem','Fem','Fem','Fem','Masc','Masc','Masc','Masc'])\n",
      "togo['EPOCA']= pd.Series(['Antes','Antes','Depois','Depois','Antes','Antes','Depois','Depois'])\n",
      "togo['NUM_VOTOS'] = pd.Series(['Menos','Mais','Menos','Mais','Menos','Mais','Menos','Mais'])\n",
      "togo['VEREADOR'] = pd.Series([len(FemAntesBaixo),len(FemAntesAlto),len(FemDepoisBaixo),len(FemDepoisAlto),\n",
      "                                 len(MascAntesBaixo),len(MascAntesAlto),len(MascDepoisBaixo),len(MascDepoisAlto)])\n",
      "#togo.to_csv('tabelas/num-cand-X-sexo-epoca-Nvotos.csv',index=False)"
     ],
     "language": "python",
     "metadata": {},
     "outputs": [],
     "prompt_number": 19
    },
    {
     "cell_type": "code",
     "collapsed": false,
     "input": [
      "FemAntesBaixo   = base.loc[(base.ANO_ELEICAO<2009)&(base.CODIGO_SEXO==4)&(base.TOTAL_VOTOS<=5)]\n",
      "FemAntesAlto    = base.loc[(base.ANO_ELEICAO<2009)&(base.CODIGO_SEXO==4)&(base.TOTAL_VOTOS >5)]\n",
      "FemDepoisBaixo  = base.loc[(base.ANO_ELEICAO>2009)&(base.CODIGO_SEXO==4)&(base.TOTAL_VOTOS<=5)]\n",
      "FemDepoisAlto   = base.loc[(base.ANO_ELEICAO>2009)&(base.CODIGO_SEXO==4)&(base.TOTAL_VOTOS >5)]\n",
      "MascAntesBaixo  = base.loc[(base.ANO_ELEICAO<2009)&(base.CODIGO_SEXO==2)&(base.TOTAL_VOTOS<=5)]\n",
      "MascAntesAlto   = base.loc[(base.ANO_ELEICAO<2009)&(base.CODIGO_SEXO==2)&(base.TOTAL_VOTOS >5)]\n",
      "MascDepoisBaixo = base.loc[(base.ANO_ELEICAO>2009)&(base.CODIGO_SEXO==2)&(base.TOTAL_VOTOS<=5)]\n",
      "MascDepoisAlto  = base.loc[(base.ANO_ELEICAO>2009)&(base.CODIGO_SEXO==2)&(base.TOTAL_VOTOS >5)]"
     ],
     "language": "python",
     "metadata": {},
     "outputs": [],
     "prompt_number": 5
    },
    {
     "cell_type": "code",
     "collapsed": false,
     "input": [
      "print len(FemAntesBaixo), len(FemAntesAlto), len(FemDepoisBaixo),len(FemDepoisAlto), \\\n",
      "      len(MascAntesBaixo), len(MascAntesAlto), len(MascDepoisBaixo),len(MascDepoisAlto)"
     ],
     "language": "python",
     "metadata": {},
     "outputs": [
      {
       "output_type": "stream",
       "stream": "stdout",
       "text": [
        "6061 139078 70160 213981 9420 522173 16481 590863\n"
       ]
      }
     ],
     "prompt_number": 13
    },
    {
     "cell_type": "heading",
     "level": 4,
     "metadata": {},
     "source": [
      "Fra\u00e7\u00e3o de mulheres nos grupos"
     ]
    },
    {
     "cell_type": "code",
     "collapsed": false,
     "input": [
      "# Candidatos com 5 votos ou menos:\n",
      "pl.subplot(221)\n",
      "pl.pie([len(FemAntesBaixo),len(MascAntesBaixo)],startangle=90,colors=['mediumorchid','khaki'],autopct='%1.0f%%',\\\n",
      "       labels=['Fem.','Masc.'])\n",
      "pl.title('Antes de 2009, $\\leq$ 5 votos')\n",
      "pl.subplot(222)\n",
      "pl.pie([len(FemDepoisBaixo),len(MascDepoisBaixo)],startangle=90,colors=['mediumorchid','khaki'],autopct='%1.0f%%',\\\n",
      "       labels=['Fem.','Masc.'])\n",
      "pl.title('Depois de 2009, $\\leq$ 5 votos')\n",
      "# Candidatos com mais de 5 votos:\n",
      "pl.subplot(223)\n",
      "pl.pie([len(FemAntesAlto),len(MascAntesAlto)],startangle=90,colors=['mediumorchid','khaki'],autopct='%1.0f%%',\\\n",
      "       labels=['Fem.','Masc.'])\n",
      "pl.title('Antes de 2009, $>$ 5 votos')\n",
      "pl.subplot(224)\n",
      "pl.pie([len(FemDepoisAlto),len(MascDepoisAlto)],startangle=90,colors=['mediumorchid','khaki'],autopct='%1.0f%%',\\\n",
      "       labels=['Fem.','Masc.'])\n",
      "pl.title('Depois de 2009, $>$ 5 votos')\n",
      "\n",
      "pl.show()"
     ],
     "language": "python",
     "metadata": {},
     "outputs": [],
     "prompt_number": 17
    },
    {
     "cell_type": "code",
     "collapsed": false,
     "input": [
      "# Mesma an\u00e1lise que acima, mas apenas com DEPUTADOS:\n",
      "VerFemAntesBaixo   = base.loc[(base.CODIGO_CARGO!=13)&(base.ANO_ELEICAO<2009)&(base.CODIGO_SEXO==4)&(base.TOTAL_VOTOS<=5)]\n",
      "VerFemAntesAlto    = base.loc[(base.CODIGO_CARGO!=13)&(base.ANO_ELEICAO<2009)&(base.CODIGO_SEXO==4)&(base.TOTAL_VOTOS >5)]\n",
      "VerFemDepoisBaixo  = base.loc[(base.CODIGO_CARGO!=13)&(base.ANO_ELEICAO>2009)&(base.CODIGO_SEXO==4)&(base.TOTAL_VOTOS<=5)]\n",
      "VerFemDepoisAlto   = base.loc[(base.CODIGO_CARGO!=13)&(base.ANO_ELEICAO>2009)&(base.CODIGO_SEXO==4)&(base.TOTAL_VOTOS >5)]\n",
      "VerMascAntesBaixo  = base.loc[(base.CODIGO_CARGO!=13)&(base.ANO_ELEICAO<2009)&(base.CODIGO_SEXO==2)&(base.TOTAL_VOTOS<=5)]\n",
      "VerMascAntesAlto   = base.loc[(base.CODIGO_CARGO!=13)&(base.ANO_ELEICAO<2009)&(base.CODIGO_SEXO==2)&(base.TOTAL_VOTOS >5)]\n",
      "VerMascDepoisBaixo = base.loc[(base.CODIGO_CARGO!=13)&(base.ANO_ELEICAO>2009)&(base.CODIGO_SEXO==2)&(base.TOTAL_VOTOS<=5)]\n",
      "VerMascDepoisAlto  = base.loc[(base.CODIGO_CARGO!=13)&(base.ANO_ELEICAO>2009)&(base.CODIGO_SEXO==2)&(base.TOTAL_VOTOS >5)]"
     ],
     "language": "python",
     "metadata": {},
     "outputs": [],
     "prompt_number": 6
    },
    {
     "cell_type": "code",
     "collapsed": false,
     "input": [
      "print len(VerFemAntesBaixo), len(VerFemAntesAlto), len(VerFemDepoisBaixo),len(VerFemDepoisAlto), \\\n",
      "      len(VerMascAntesBaixo), len(VerMascAntesAlto), len(VerMascDepoisBaixo),len(VerMascDepoisAlto)"
     ],
     "language": "python",
     "metadata": {},
     "outputs": [
      {
       "output_type": "stream",
       "stream": "stdout",
       "text": [
        "25 2330 540 9198 75 14581 125 28768\n"
       ]
      }
     ],
     "prompt_number": 10
    },
    {
     "cell_type": "code",
     "collapsed": false,
     "input": [
      "# Candidatos com 5 votos ou menos:\n",
      "pl.subplot(221)\n",
      "pl.pie([len(VerFemAntesBaixo),len(VerMascAntesBaixo)],startangle=90,colors=['mediumorchid','khaki'],autopct='%1.0f%%',\\\n",
      "       labels=['Fem.','Masc.'])\n",
      "pl.title('Antes de 2009, $\\leq$ 5 votos')\n",
      "pl.subplot(222)\n",
      "pl.pie([len(VerFemDepoisBaixo),len(VerMascDepoisBaixo)],startangle=90,colors=['mediumorchid','khaki'],autopct='%1.0f%%',\\\n",
      "       labels=['Fem.','Masc.'])\n",
      "pl.title('Depois de 2009, $\\leq$ 5 votos')\n",
      "# Candidatos com mais de 5 votos:\n",
      "pl.subplot(223)\n",
      "pl.pie([len(VerFemAntesAlto),len(VerMascAntesAlto)],startangle=90,colors=['mediumorchid','khaki'],autopct='%1.0f%%',\\\n",
      "       labels=['Fem.','Masc.'])\n",
      "pl.title('Antes de 2009, $>$ 5 votos')\n",
      "pl.subplot(224)\n",
      "pl.pie([len(VerFemDepoisAlto),len(VerMascDepoisAlto)],startangle=90,colors=['mediumorchid','khaki'],autopct='%1.0f%%',\\\n",
      "       labels=['Fem.','Masc.'])\n",
      "pl.title('Depois de 2009, $>$ 5 votos')\n",
      "\n",
      "pl.show()"
     ],
     "language": "python",
     "metadata": {},
     "outputs": [],
     "prompt_number": 7
    },
    {
     "cell_type": "heading",
     "level": 4,
     "metadata": {},
     "source": [
      "Grau de instru\u00e7\u00e3o"
     ]
    },
    {
     "cell_type": "code",
     "collapsed": false,
     "input": [
      "# Tabela para AzMina:\n",
      "\n",
      "def epoca(ano):\n",
      "    if ano<2009:\n",
      "        return 'Antes'\n",
      "    else:\n",
      "        return 'Depois'\n",
      "base['EPOCA']=base.ANO_ELEICAO.apply(epoca)\n",
      "\n",
      "def qVotos(nvotos):\n",
      "    if nvotos<=5:\n",
      "        return 'Menos'\n",
      "    else:\n",
      "        return 'Mais'\n",
      "base['QUANT_VOTOS']=base.TOTAL_VOTOS.apply(qVotos)\n",
      "togo = base.groupby(['DESCRICAO_SEXO','EPOCA','QUANT_VOTOS','DESCRICAO_CARGO','COD_GRAU_INSTRUCAO']).size()\n",
      "#Script errado, afeta n\u00famero de cand., n\u00e3o o grau de instrucao:\n",
      "#instrucaoDict = base.groupby('COD_GRAU_INSTRUCAO')['DESCRICAO_GRAU_INSTRUCAO'].unique().apply(lambda x: x[-1]).to_dict()\n",
      "#togo = togo.map(instrucaoDict)\n",
      "#togo.to_csv('tabelas/num-cand-X-sexo-epoca-Nvotos-cargo-instrucao.csv')"
     ],
     "language": "python",
     "metadata": {},
     "outputs": [],
     "prompt_number": 65
    },
    {
     "cell_type": "code",
     "collapsed": false,
     "input": [
      "# Comparando apenas as mulheres, dado que elas s\u00e3o maioria dos fantasmas e que a distribui\u00e7\u00e3o de \n",
      "# forma\u00e7\u00e3o dos homens e mulheres \u00e9 diferente. \n",
      "# Retiramos a categoria Analfabeto, sempre muito pequena, e a N\u00e3o Informado, tamb\u00e9m pequena mas\n",
      "# Que s\u00f3 aparece antes de 2009.\n",
      "# CONCLUS\u00d5ES: vemos que embora a escolaridade tenha aumentado de antes para depois de 2009, \n",
      "# as candidatas possivelmente fantasmas tiveram um decl\u00ednio de ensino superior. Basicamente, \n",
      "# as pessoas escolhidas para entrar como fantasmas s\u00e3o, na maioria, sem ensino superior.\n",
      "cores = ['darksalmon','khaki','gold','lightgreen','forestgreen','lightcyan','royalblue']\n",
      "legenda = base.loc[base.COD_GRAU_INSTRUCAO>1].groupby('COD_GRAU_INSTRUCAO').DESCRICAO_GRAU_INSTRUCAO.unique()\\\n",
      ".apply(lambda x: x[0]).str.decode('utf-8')\n",
      "\n",
      "pl.suptitle('Cand. femininas', fontsize=16, fontweight='bold')\n",
      "\n",
      "pl.subplot(221)\n",
      "pl.pie(FemAntesBaixo.loc[base.COD_GRAU_INSTRUCAO>1].groupby('COD_GRAU_INSTRUCAO').size(),\\\n",
      "       startangle=90,autopct='%1.0f%%',colors=cores)\n",
      "pl.title('Antes de 2009, $\\leq$ 5 votos')\n",
      "pl.subplot(222)\n",
      "pl.pie(FemDepoisBaixo.loc[base.COD_GRAU_INSTRUCAO>1].groupby('COD_GRAU_INSTRUCAO').size(),\\\n",
      "       startangle=90,autopct='%1.0f%%',colors=cores)\n",
      "pl.title('Depois de 2009, $\\leq$ 5 votos')\n",
      "pl.subplot(223)\n",
      "pl.pie(FemAntesAlto.loc[base.COD_GRAU_INSTRUCAO>1].groupby('COD_GRAU_INSTRUCAO').size(),\\\n",
      "       startangle=90,autopct='%1.0f%%',colors=cores)\n",
      "pl.title('Antes de 2009, $>$ 5 votos')\n",
      "pl.subplot(224)\n",
      "patches, t1, t2 = pl.pie(FemDepoisAlto.loc[base.COD_GRAU_INSTRUCAO>1].groupby('COD_GRAU_INSTRUCAO').size(),\\\n",
      "       startangle=90,autopct='%1.0f%%',colors=cores)\n",
      "pl.title('Depois de 2009, $>$ 5 votos')\n",
      "pl.legend(patches, list(legenda.values), bbox_to_anchor=(0.5,0.15), loc=\"center\", fontsize=10, \n",
      "           bbox_transform=pl.gcf().transFigure)\n",
      "pl.subplots_adjust(bottom=0.25)\n",
      "pl.show()"
     ],
     "language": "python",
     "metadata": {},
     "outputs": [],
     "prompt_number": 34
    },
    {
     "cell_type": "code",
     "collapsed": false,
     "input": [
      "# Para homens, a quantidade com ensino superior cresceu em todas as categorias.\n",
      "cores = ['darksalmon','khaki','gold','lightgreen','forestgreen','lightcyan','royalblue']\n",
      "legenda = base.loc[base.COD_GRAU_INSTRUCAO>1].groupby('COD_GRAU_INSTRUCAO').DESCRICAO_GRAU_INSTRUCAO.unique()\\\n",
      ".apply(lambda x: x[0]).str.decode('utf-8')\n",
      "\n",
      "pl.suptitle('Cand. masculinas', fontsize=16, fontweight='bold')\n",
      "\n",
      "pl.subplot(221)\n",
      "pl.pie(MascAntesBaixo.loc[base.COD_GRAU_INSTRUCAO>1].groupby('COD_GRAU_INSTRUCAO').size(),\\\n",
      "       startangle=90,autopct='%1.0f%%',colors=cores)\n",
      "pl.title('Antes de 2009, $\\leq$ 5 votos')\n",
      "pl.subplot(222)\n",
      "pl.pie(MascDepoisBaixo.loc[base.COD_GRAU_INSTRUCAO>1].groupby('COD_GRAU_INSTRUCAO').size(),\\\n",
      "       startangle=90,autopct='%1.0f%%',colors=cores)\n",
      "pl.title('Depois de 2009, $\\leq$ 5 votos')\n",
      "pl.subplot(223)\n",
      "pl.pie(MascAntesAlto.loc[base.COD_GRAU_INSTRUCAO>1].groupby('COD_GRAU_INSTRUCAO').size(),\\\n",
      "       startangle=90,autopct='%1.0f%%',colors=cores)\n",
      "pl.title('Antes de 2009, $>$ 5 votos')\n",
      "pl.subplot(224)\n",
      "patches, t1, t2 = pl.pie(MascDepoisAlto.loc[base.COD_GRAU_INSTRUCAO>1].groupby('COD_GRAU_INSTRUCAO').size(),\\\n",
      "       startangle=90,autopct='%1.0f%%',colors=cores)\n",
      "pl.title('Depois de 2009, $>$ 5 votos')\n",
      "pl.legend(patches, list(legenda.values), bbox_to_anchor=(0.5,0.15), loc=\"center\", fontsize=10, \n",
      "           bbox_transform=pl.gcf().transFigure)\n",
      "pl.subplots_adjust(bottom=0.25)\n",
      "pl.show()"
     ],
     "language": "python",
     "metadata": {},
     "outputs": [],
     "prompt_number": 28
    },
    {
     "cell_type": "code",
     "collapsed": false,
     "input": [
      "# Gr\u00e1fico da popula\u00e7\u00e3o brasileira em geral, de acordo com o PNAD 2015 (gr\u00e1fico 11):\n",
      "pnadInstrucao = [11.1,31.3,9.6,4.1,26.4,3.8,13.5]\n",
      "patches, t1, t2 = pl.pie(pnadInstrucao,startangle=90,autopct='%1.0f%%',colors=cores)\n",
      "pl.title('Popula\u00e7\u00e3o brasileira (PNAD 2015)')\n",
      "pl.legend(patches, list(legenda.values), bbox_to_anchor=(0.83,0.5), loc=\"center\", fontsize=10, \n",
      "           bbox_transform=pl.gcf().transFigure)\n",
      "pl.subplots_adjust(right=0.7)\n",
      "pl.show()"
     ],
     "language": "python",
     "metadata": {},
     "outputs": [],
     "prompt_number": 60
    },
    {
     "cell_type": "heading",
     "level": 4,
     "metadata": {},
     "source": [
      "Cor"
     ]
    },
    {
     "cell_type": "code",
     "collapsed": false,
     "input": [
      "# Tabela para AzMina:\n",
      "\n",
      "def qVotos(nvotos):\n",
      "    if nvotos<=5:\n",
      "        return 'Menos'\n",
      "    else:\n",
      "        return 'Mais'\n",
      "base['QUANT_VOTOS']=base.TOTAL_VOTOS.apply(qVotos)\n",
      "togo = base.loc[base.ANO_ELEICAO>2013].groupby(['DESCRICAO_SEXO','QUANT_VOTOS','DESCRICAO_CARGO','DESCRICAO_COR_RACA']).size()\n",
      "#Script errado, afeta n\u00famero de cand., n\u00e3o o grau de instrucao:\n",
      "#instrucaoDict = base.groupby('COD_GRAU_INSTRUCAO')['DESCRICAO_GRAU_INSTRUCAO'].unique().apply(lambda x: x[-1]).to_dict()\n",
      "#togo = togo.map(instrucaoDict)\n",
      "#togo.to_csv('tabelas/num-cand-X-sexo-Nvotos-cargo-cor.csv')"
     ],
     "language": "python",
     "metadata": {},
     "outputs": [],
     "prompt_number": 71
    },
    {
     "cell_type": "code",
     "collapsed": false,
     "input": [
      "base.groupby('ANO_ELEICAO')['DESCRICAO_COR_RACA'].unique()"
     ],
     "language": "python",
     "metadata": {},
     "outputs": [
      {
       "metadata": {},
       "output_type": "pyout",
       "prompt_number": 29,
       "text": [
        "ANO_ELEICAO\n",
        "2004                                               [nan]\n",
        "2006                                               [nan]\n",
        "2008                                               [nan]\n",
        "2010                                               [nan]\n",
        "2012                                               [nan]\n",
        "2014           [PARDA, PRETA, BRANCA, AMARELA, IND\u00cdGENA]\n",
        "2016           [PARDA, BRANCA, PRETA, AMARELA, IND\u00cdGENA]\n",
        "dtype: object"
       ]
      }
     ],
     "prompt_number": 29
    },
    {
     "cell_type": "code",
     "collapsed": false,
     "input": [
      "FemBaixoCor = \\\n",
      "base.loc[(base.ANO_ELEICAO>2013)&(base.CODIGO_SEXO==4)&(base.TOTAL_VOTOS<=5)].groupby('DESCRICAO_COR_RACA').size()\n",
      "FemAltoCor = \\\n",
      "base.loc[(base.ANO_ELEICAO>2013)&(base.CODIGO_SEXO==4)&(base.TOTAL_VOTOS>5)].groupby('DESCRICAO_COR_RACA').size()\n",
      "MascBaixoCor = \\\n",
      "base.loc[(base.ANO_ELEICAO>2013)&(base.CODIGO_SEXO==2)&(base.TOTAL_VOTOS<=5)].groupby('DESCRICAO_COR_RACA').size()\n",
      "MascAltoCor = \\\n",
      "base.loc[(base.ANO_ELEICAO>2013)&(base.CODIGO_SEXO==2)&(base.TOTAL_VOTOS>5)].groupby('DESCRICAO_COR_RACA').size()"
     ],
     "language": "python",
     "metadata": {},
     "outputs": [],
     "prompt_number": 30
    },
    {
     "cell_type": "code",
     "collapsed": false,
     "input": [
      "# Tanto mulheres quanto homens tem peles mais escuras no grupo com menos votos.\n",
      "# N\u00e3o \u00e9 poss\u00edvel indicar que a Lei de 2009 tenha criado preferencialmente fantasmas negros.\n",
      "cores=['bisque','sandybrown','sienna']\n",
      "pl.subplot(221)\n",
      "pl.pie(FemBaixoCor[[1,3,4]],startangle=90,autopct='%1.0f%%',colors=cores)\n",
      "pl.title('Fem. $\\leq$ 5 votos')\n",
      "pl.subplot(222)\n",
      "patches, t1, t2 = pl.pie(FemAltoCor[[1,3,4]],startangle=90,autopct='%1.0f%%',colors=cores)\n",
      "pl.title('Fem. $>$ 5 votos')\n",
      "pl.subplot(223)\n",
      "pl.pie(MascBaixoCor[[1,3,4]],startangle=90,autopct='%1.0f%%',colors=cores)\n",
      "pl.title('Masc.  $\\leq$ 5 votos')\n",
      "pl.subplot(224)\n",
      "patches, t1, t2 = pl.pie(MascAltoCor[[1,3,4]],startangle=90,autopct='%1.0f%%',colors=cores)\n",
      "pl.title('Masc. $>$ 5 votos')\n",
      "\n",
      "legenda = base.loc[base.ANO_ELEICAO>2013].groupby('DESCRICAO_COR_RACA').DESCRICAO_COR_RACA.unique()\\\n",
      ".apply(lambda x: x[0]).str.decode('utf-8')[[1,3,4]]\n",
      "pl.legend(patches, list(legenda.values), bbox_to_anchor=(0.5,0.15), loc=\"center\", fontsize=10, \n",
      "           bbox_transform=pl.gcf().transFigure)\n",
      "pl.subplots_adjust(bottom=0.1)\n",
      "\n",
      "pl.show()"
     ],
     "language": "python",
     "metadata": {},
     "outputs": [],
     "prompt_number": 32
    },
    {
     "cell_type": "heading",
     "level": 4,
     "metadata": {},
     "source": [
      "Estado civil"
     ]
    },
    {
     "cell_type": "code",
     "collapsed": false,
     "input": [
      "# Verificamos um aumento com o tempo de mulheres solteiras com o tempo, mas esse comportamento \u00e9 \n",
      "# igual em todos os grupos, e n\u00e3o parece haver prefer\u00eancia na categoria dos fantasmas. \n",
      "# Tamb\u00e9m verificamos um aumento de pessoas casadas entre os mais votados. Isso acontece em todos os anos.\n",
      "cores = ['darksalmon','khaki','gold','lightgreen','forestgreen','lightcyan','royalblue']\n",
      "legenda = base.groupby('CODIGO_ESTADO_CIVIL').DESCRICAO_ESTADO_CIVIL.unique()\\\n",
      ".apply(lambda x: x[0]).str.decode('utf-8')\n",
      "\n",
      "pl.subplot(221)\n",
      "pl.pie(FemAntesBaixo.groupby('CODIGO_ESTADO_CIVIL').size(),\\\n",
      "       startangle=90,autopct='%1.0f%%',colors=cores,\\\n",
      "       labels=FemAntesBaixo.groupby('CODIGO_ESTADO_CIVIL').DESCRICAO_ESTADO_CIVIL.unique()\\\n",
      ".apply(lambda x: x[0]).str.decode('utf-8'))\n",
      "pl.title('Antes de 2009, $\\leq$ 5 votos')\n",
      "pl.subplot(222)\n",
      "pl.pie(FemDepoisBaixo.groupby('CODIGO_ESTADO_CIVIL').size(),\\\n",
      "       startangle=90,autopct='%1.0f%%',colors=cores,\\\n",
      "       labels=FemDepoisBaixo.groupby('CODIGO_ESTADO_CIVIL').DESCRICAO_ESTADO_CIVIL.unique()\\\n",
      ".apply(lambda x: x[0]).str.decode('utf-8'))\n",
      "pl.title('Depois de 2009, $\\leq$ 5 votos')\n",
      "pl.subplot(223)\n",
      "pl.pie(FemAntesAlto.groupby('CODIGO_ESTADO_CIVIL').size(),\\\n",
      "       startangle=90,autopct='%1.0f%%',colors=cores,\\\n",
      "       labels=FemAntesAlto.groupby('CODIGO_ESTADO_CIVIL').DESCRICAO_ESTADO_CIVIL.unique()\\\n",
      ".apply(lambda x: x[0]).str.decode('utf-8'))\n",
      "pl.title('Antes de 2009, $>$ 5 votos')\n",
      "pl.subplot(224)\n",
      "patches, t1, t2 = pl.pie(FemDepoisAlto.groupby('CODIGO_ESTADO_CIVIL').size(),\\\n",
      "       startangle=90,autopct='%1.0f%%',colors=cores,\\\n",
      "       labels=FemDepoisAlto.groupby('CODIGO_ESTADO_CIVIL').DESCRICAO_ESTADO_CIVIL.unique()\\\n",
      ".apply(lambda x: x[0]).str.decode('utf-8'))\n",
      "pl.title('Depois de 2009, $>$ 5 votos')\n",
      "#pl.legend(patches, list(legenda.values), bbox_to_anchor=(1.0,0.5), loc=\"center right\", fontsize=10, \n",
      "#           bbox_transform=pl.gcf().transFigure)\n",
      "#pl.subplots_adjust(left=0.0, bottom=0.1, right=0.8)\n",
      "pl.show()"
     ],
     "language": "python",
     "metadata": {},
     "outputs": [],
     "prompt_number": 749
    },
    {
     "cell_type": "code",
     "collapsed": false,
     "input": [
      "# Verificamos um aumento com o tempo de homens solteiros com o tempo, mas esse comportamento \u00e9 \n",
      "# igual em todos os grupos, e n\u00e3o parece haver prefer\u00eancia na categoria dos fantasmas. \n",
      "# Tamb\u00e9m verificamos um aumento de pessoas casadas entre os mais votados. Isso acontece em todos os anos.\n",
      "cores = ['darksalmon','khaki','gold','lightgreen','forestgreen','lightcyan','royalblue']\n",
      "legenda = base.groupby('CODIGO_ESTADO_CIVIL').DESCRICAO_ESTADO_CIVIL.unique()\\\n",
      ".apply(lambda x: x[0]).str.decode('utf-8')\n",
      "\n",
      "pl.subplot(221)\n",
      "pl.pie(MascAntesBaixo.groupby('CODIGO_ESTADO_CIVIL').size(),\\\n",
      "       startangle=90,autopct='%1.0f%%',colors=cores,\\\n",
      "       labels=MascAntesBaixo.groupby('CODIGO_ESTADO_CIVIL').DESCRICAO_ESTADO_CIVIL.unique()\\\n",
      ".apply(lambda x: x[0]).str.decode('utf-8'))\n",
      "pl.title('Antes de 2009, $\\leq$ 5 votos')\n",
      "pl.subplot(222)\n",
      "pl.pie(MascDepoisBaixo.groupby('CODIGO_ESTADO_CIVIL').size(),\\\n",
      "       startangle=90,autopct='%1.0f%%',colors=cores,\\\n",
      "       labels=MascDepoisBaixo.groupby('CODIGO_ESTADO_CIVIL').DESCRICAO_ESTADO_CIVIL.unique()\\\n",
      ".apply(lambda x: x[0]).str.decode('utf-8'))\n",
      "pl.title('Depois de 2009, $\\leq$ 5 votos')\n",
      "pl.subplot(223)\n",
      "pl.pie(MascAntesAlto.groupby('CODIGO_ESTADO_CIVIL').size(),\\\n",
      "       startangle=90,autopct='%1.0f%%',colors=cores,\\\n",
      "       labels=MascAntesAlto.groupby('CODIGO_ESTADO_CIVIL').DESCRICAO_ESTADO_CIVIL.unique()\\\n",
      ".apply(lambda x: x[0]).str.decode('utf-8'))\n",
      "pl.title('Antes de 2009, $>$ 5 votos')\n",
      "pl.subplot(224)\n",
      "patches, t1, t2 = pl.pie(MascDepoisAlto.groupby('CODIGO_ESTADO_CIVIL').size(),\\\n",
      "       startangle=90,autopct='%1.0f%%',colors=cores,\\\n",
      "       labels=MascDepoisAlto.groupby('CODIGO_ESTADO_CIVIL').DESCRICAO_ESTADO_CIVIL.unique()\\\n",
      ".apply(lambda x: x[0]).str.decode('utf-8'))\n",
      "pl.title('Depois de 2009, $>$ 5 votos')\n",
      "#pl.legend(patches, list(legenda.values), bbox_to_anchor=(1.0,0.5), loc=\"center right\", fontsize=10, \n",
      "#           bbox_transform=pl.gcf().transFigure)\n",
      "#pl.subplots_adjust(left=0.0, bottom=0.1, right=0.8)\n",
      "pl.show()"
     ],
     "language": "python",
     "metadata": {},
     "outputs": [],
     "prompt_number": 38
    },
    {
     "cell_type": "code",
     "collapsed": false,
     "input": [
      "FemAntesBaixo.groupby('CODIGO_ESTADO_CIVIL')['DESCRICAO_ESTADO_CIVIL'].unique().apply"
     ],
     "language": "python",
     "metadata": {},
     "outputs": [
      {
       "metadata": {},
       "output_type": "pyout",
       "prompt_number": 302,
       "text": [
        "CODIGO_ESTADO_CIVIL\n",
        "0                                  [N\u00c3O INFORMADO]\n",
        "1                                    [SOLTEIRO(A)]\n",
        "3                                      [CASADO(A)]\n",
        "5                                       [VI\u00daVO(A)]\n",
        "7                      [SEPARADO(A) JUDICIALMENTE]\n",
        "9                                  [DIVORCIADO(A)]\n",
        "dtype: object"
       ]
      }
     ],
     "prompt_number": 302
    },
    {
     "cell_type": "heading",
     "level": 4,
     "metadata": {},
     "source": [
      "Ocupa\u00e7\u00e3o"
     ]
    },
    {
     "cell_type": "code",
     "collapsed": false,
     "input": [
      "### Produz tabela para AzMina ###\n",
      "\n",
      "# Fun\u00e7\u00e3o: conta pessoas em grupo:\n",
      "def CountProf(grupo,cods,cargos):\n",
      "    if len(cods)==0:\n",
      "        return len(grupo.loc[grupo.CODIGO_CARGO.isin(cargos)])\n",
      "    else:\n",
      "        return len(grupo.loc[(grupo.CODIGO_OCUPACAO.isin(cods))&(grupo.CODIGO_CARGO.isin(cargos))])\n",
      "# Fun\u00e7\u00e3o: retorna dataframe c/ n\u00famero de pessoas em cada grupo:\n",
      "def ComparisonProf(nome,cods,cargos):\n",
      "    b = pd.DataFrame(columns=['Ocupacao','MascAntesBaixo','MascDepoisBaixo',\\\n",
      "                              'MascAntesAlto','MascDepoisAlto',\\\n",
      "                              'FemAntesBaixo','FemDepoisBaixo',\\\n",
      "                              'FemAntesAlto','FemDepoisAlto'])\n",
      "    b.loc[0] = [nome, CountProf(MascAntesBaixo,cods,cargos),CountProf(MascDepoisBaixo,cods,cargos),\\\n",
      "                CountProf(MascAntesAlto,cods,cargos),CountProf(MascDepoisAlto,cods,cargos),\\\n",
      "                CountProf(FemAntesBaixo,cods,cargos),CountProf(FemDepoisBaixo,cods,cargos),\\\n",
      "                CountProf(FemAntesAlto,cods,cargos),CountProf(FemDepoisAlto,cods,cargos)]\n",
      "    return b\n",
      "\n",
      "# Produz tabela:\n",
      "codCargo = [7,6,8,13]\n",
      "t = pd.concat([ComparisonProf('Dona de dasa',[581],codCargo),\n",
      "           ComparisonProf('Aposentado',[923,922],codCargo),\n",
      "           ComparisonProf('Servidor publico',[240,296,297,298],codCargo),\n",
      "           ComparisonProf('Todas as ocupacoes',[],codCargo)],ignore_index=True)\n",
      "#t.to_csv('tabelas/num-cand-X-ocupacao-sexo-epoca-votos_DEP-ESTADUAL.csv',index=False)"
     ],
     "language": "python",
     "metadata": {},
     "outputs": [],
     "prompt_number": 32
    },
    {
     "cell_type": "code",
     "collapsed": false,
     "input": [
      "# \n",
      "Caract = 'CODIGO_OCUPACAO'\n",
      "ProfDict = dict(base.groupby(Caract).DESCRICAO_OCUPACAO.unique().apply(lambda x: x[-1]))\n",
      "df1 = FemAntesBaixo.groupby(Caract).size()\n",
      "df1Norm = np.sum(df1)\n",
      "df1.name = 'FemAntesBaixo'\n",
      "df2 = FemDepoisBaixo.groupby(Caract).size()\n",
      "df2Norm = np.sum(df2)\n",
      "df2.name = 'FemDepoisBaixo'\n",
      "df3 = FemAntesAlto.groupby(Caract).size()\n",
      "df3Norm = np.sum(df3)\n",
      "df3.name = 'FemAntesAlto'\n",
      "df4 = FemDepoisAlto.groupby(Caract).size()\n",
      "df4Norm = np.sum(df4)\n",
      "df4.name = 'FemDepoisAlto'\n",
      "Prof = pd.concat([df1,df2,df3,df4], axis=1)\n",
      "Prof = Prof.fillna(0)\n",
      "# Calcula normaliza\u00e7\u00e3o de antes para deois de 2009:\n",
      "alphaSample = Prof.FemDepoisAlto/Prof.FemAntesAlto\n",
      "alpha = np.median(alphaSample)\n",
      "Prof['Fantasma'] = Prof['FemDepoisBaixo']-alpha*Prof['FemAntesBaixo']\n",
      "Prof['FantFrac'] = Prof['Fantasma']/np.sum(Prof['Fantasma'])\n",
      "Prof['FemBaixoDiff'] = Prof['FemDepoisBaixo']/np.sum(Prof['FemDepoisBaixo']) - \\\n",
      "                       Prof['FemAntesBaixo']/np.sum(Prof['FemAntesBaixo'])\n",
      "Prof['Descricao']= Prof.index.to_series().map(ProfDict)\n",
      "ProfSorted = Prof.sort('FantFrac',ascending=False)\n",
      "#ProfSorted = Prof.sort('FemBaixoDiff',ascending=False)"
     ],
     "language": "python",
     "metadata": {},
     "outputs": [],
     "prompt_number": 769
    },
    {
     "cell_type": "code",
     "collapsed": false,
     "input": [
      "pl.hist(alphaSample[alphaSample<1000],bins=25,color='skyblue')\n",
      "pl.ylabel('# de ocupa\u00e7\u00f5es',fontsize=16)\n",
      "pl.axvline(alpha, linestyle='--', linewidth=2, color='firebrick') # vertical lines\n",
      "pl.xlabel(r' $\\alpha$ obtido para uma ocupa\u00e7\u00e3o espec\u00edfica',fontsize=16)\n",
      "pl.show()"
     ],
     "language": "python",
     "metadata": {},
     "outputs": [],
     "prompt_number": 787
    },
    {
     "cell_type": "code",
     "collapsed": false,
     "input": [
      "ProfSorted.iloc[:10,:][['Descricao','FantFrac','FemAntesBaixo','FemDepoisBaixo']]"
     ],
     "language": "python",
     "metadata": {},
     "outputs": [
      {
       "html": [
        "<div style=\"max-height:1000px;max-width:1500px;overflow:auto;\">\n",
        "<table border=\"1\" class=\"dataframe\">\n",
        "  <thead>\n",
        "    <tr style=\"text-align: right;\">\n",
        "      <th></th>\n",
        "      <th>Descricao</th>\n",
        "      <th>FantFrac</th>\n",
        "      <th>FemAntesBaixo</th>\n",
        "      <th>FemDepoisBaixo</th>\n",
        "    </tr>\n",
        "    <tr>\n",
        "      <th>CODIGO_OCUPACAO</th>\n",
        "      <th></th>\n",
        "      <th></th>\n",
        "      <th></th>\n",
        "      <th></th>\n",
        "    </tr>\n",
        "  </thead>\n",
        "  <tbody>\n",
        "    <tr>\n",
        "      <th>581</th>\n",
        "      <td>                                   DONA DE CASA</td>\n",
        "      <td> 0.242472</td>\n",
        "      <td> 952</td>\n",
        "      <td> 16106</td>\n",
        "    </tr>\n",
        "    <tr>\n",
        "      <th>999</th>\n",
        "      <td>                                         OUTROS</td>\n",
        "      <td> 0.212138</td>\n",
        "      <td> 782</td>\n",
        "      <td> 14002</td>\n",
        "    </tr>\n",
        "    <tr>\n",
        "      <th>601</th>\n",
        "      <td>                                     AGRICULTOR</td>\n",
        "      <td> 0.068418</td>\n",
        "      <td> 386</td>\n",
        "      <td>  4750</td>\n",
        "    </tr>\n",
        "    <tr>\n",
        "      <th>931</th>\n",
        "      <td> ESTUDANTE, BOLSISTA, ESTAGI\u00c1RIO E ASSEMELHADOS</td>\n",
        "      <td> 0.054426</td>\n",
        "      <td> 245</td>\n",
        "      <td>  3670</td>\n",
        "    </tr>\n",
        "    <tr>\n",
        "      <th>298</th>\n",
        "      <td>                     SERVIDOR P\u00daBLICO MUNICIPAL</td>\n",
        "      <td> 0.044296</td>\n",
        "      <td> 552</td>\n",
        "      <td>  3604</td>\n",
        "    </tr>\n",
        "    <tr>\n",
        "      <th>169</th>\n",
        "      <td>                                    COMERCIANTE</td>\n",
        "      <td> 0.042030</td>\n",
        "      <td> 316</td>\n",
        "      <td>  3056</td>\n",
        "    </tr>\n",
        "    <tr>\n",
        "      <th>923</th>\n",
        "      <td>           APOSENTADO (EXCETO SERVIDOR P\u00daBLICO)</td>\n",
        "      <td> 0.037580</td>\n",
        "      <td> 100</td>\n",
        "      <td>  2413</td>\n",
        "    </tr>\n",
        "    <tr>\n",
        "      <th>265</th>\n",
        "      <td>                PROFESSOR DE ENSINO FUNDAMENTAL</td>\n",
        "      <td> 0.035922</td>\n",
        "      <td> 329</td>\n",
        "      <td>  2715</td>\n",
        "    </tr>\n",
        "    <tr>\n",
        "      <th>257</th>\n",
        "      <td>                                     EMPRES\u00c1RIO</td>\n",
        "      <td> 0.021233</td>\n",
        "      <td>  46</td>\n",
        "      <td>  1345</td>\n",
        "    </tr>\n",
        "    <tr>\n",
        "      <th>394</th>\n",
        "      <td>          AUXILIAR DE ESCRIT\u00d3RIO E ASSEMELHADOS</td>\n",
        "      <td> 0.020574</td>\n",
        "      <td>  81</td>\n",
        "      <td>  1367</td>\n",
        "    </tr>\n",
        "  </tbody>\n",
        "</table>\n",
        "<p>10 rows \u00d7 4 columns</p>\n",
        "</div>"
       ],
       "metadata": {},
       "output_type": "pyout",
       "prompt_number": 789,
       "text": [
        "                                                      Descricao  FantFrac  \\\n",
        "CODIGO_OCUPACAO                                                             \n",
        "581                                                DONA DE CASA  0.242472   \n",
        "999                                                      OUTROS  0.212138   \n",
        "601                                                  AGRICULTOR  0.068418   \n",
        "931              ESTUDANTE, BOLSISTA, ESTAGI\u00c1RIO E ASSEMELHADOS  0.054426   \n",
        "298                                  SERVIDOR P\u00daBLICO MUNICIPAL  0.044296   \n",
        "169                                                 COMERCIANTE  0.042030   \n",
        "923                        APOSENTADO (EXCETO SERVIDOR P\u00daBLICO)  0.037580   \n",
        "265                             PROFESSOR DE ENSINO FUNDAMENTAL  0.035922   \n",
        "257                                                  EMPRES\u00c1RIO  0.021233   \n",
        "394                       AUXILIAR DE ESCRIT\u00d3RIO E ASSEMELHADOS  0.020574   \n",
        "\n",
        "                 FemAntesBaixo  FemDepoisBaixo  \n",
        "CODIGO_OCUPACAO                                 \n",
        "581                        952           16106  \n",
        "999                        782           14002  \n",
        "601                        386            4750  \n",
        "931                        245            3670  \n",
        "298                        552            3604  \n",
        "169                        316            3056  \n",
        "923                        100            2413  \n",
        "265                        329            2715  \n",
        "257                         46            1345  \n",
        "394                         81            1367  \n",
        "\n",
        "[10 rows x 4 columns]"
       ]
      }
     ],
     "prompt_number": 789
    },
    {
     "cell_type": "code",
     "collapsed": false,
     "input": [
      "# PS: Professor na verdade mudou de nome:\n",
      "ProfSorted.iloc[-1,:][['Descricao','FantFrac','FemAntesBaixo','FemDepoisBaixo']]"
     ],
     "language": "python",
     "metadata": {},
     "outputs": [
      {
       "metadata": {},
       "output_type": "pyout",
       "prompt_number": 771,
       "text": [
        "Descricao         PROFESSOR DE ENSINO DE PRIMEIRO E SEGUNDO GRAUS\n",
        "FantFrac                                              -0.01190111\n",
        "FemAntesBaixo                                                 405\n",
        "FemDepoisBaixo                                                  0\n",
        "Name: 143, dtype: object"
       ]
      }
     ],
     "prompt_number": 771
    },
    {
     "cell_type": "code",
     "collapsed": false,
     "input": [
      "# Prof. selecionadas:\n",
      "# Um grupo:\n",
      "FemAntesBaixo10 = \\\n",
      "FemAntesBaixo.loc[FemAntesBaixo.CODIGO_OCUPACAO.isin(ProfSorted.iloc[:10,:].index)].groupby('CODIGO_OCUPACAO').size()\n",
      "FemAntesBaixoSel = np.append(FemAntesBaixo10,\n",
      "                             len(FemAntesBaixo.loc[~FemAntesBaixo.CODIGO_OCUPACAO.isin(ProfSorted.iloc[:10,:].index)]))\n",
      "FemAntesBaixoLabel = FemAntesBaixo10.index.to_series().map(ProfDict)\n",
      "FemAntesBaixoLabel[999]='R: OUTROS'\n",
      "FemAntesBaixoLabel = np.append(FemAntesBaixoLabel.apply(lambda x: x).str.decode('utf-8').values,'OUTROS MESMO')\n",
      "# Um grupo:\n",
      "FemDepoisBaixo10 = \\\n",
      "FemDepoisBaixo.loc[FemDepoisBaixo.CODIGO_OCUPACAO.isin(ProfSorted.iloc[:10,:].index)].groupby('CODIGO_OCUPACAO').size()\n",
      "FemDepoisBaixoSel = np.append(FemDepoisBaixo10,\n",
      "                             len(FemDepoisBaixo.loc[~FemDepoisBaixo.CODIGO_OCUPACAO.isin(ProfSorted.iloc[:10,:].index)]))\n",
      "FemDepoisBaixoLabel = FemDepoisBaixo10.index.to_series().map(ProfDict)\n",
      "FemDepoisBaixoLabel[999]='R: OUTROS'\n",
      "FemDepoisBaixoLabel = np.append(FemDepoisBaixoLabel.apply(lambda x: x).str.decode('utf-8').values,'OUTROS MESMO')\n",
      "# Um grupo:\n",
      "FemAntesAlto10 = \\\n",
      "FemAntesAlto.loc[FemAntesAlto.CODIGO_OCUPACAO.isin(ProfSorted.iloc[:10,:].index)].groupby('CODIGO_OCUPACAO').size()\n",
      "FemAntesAltoSel = np.append(FemAntesAlto10,\n",
      "                             len(FemAntesAlto.loc[~FemAntesAlto.CODIGO_OCUPACAO.isin(ProfSorted.iloc[:10,:].index)]))\n",
      "FemAntesAltoLabel = FemAntesAlto10.index.to_series().map(ProfDict)\n",
      "FemAntesAltoLabel[999]='R: OUTROS'\n",
      "FemAntesAltoLabel = np.append(FemAntesAltoLabel.apply(lambda x: x).str.decode('utf-8').values,'OUTROS MESMO')\n",
      "# Um grupo:\n",
      "FemDepoisAlto10 = \\\n",
      "FemDepoisAlto.loc[FemDepoisAlto.CODIGO_OCUPACAO.isin(ProfSorted.iloc[:10,:].index)].groupby('CODIGO_OCUPACAO').size()\n",
      "FemDepoisAltoSel = np.append(FemDepoisAlto10,\n",
      "                             len(FemDepoisAlto.loc[~FemDepoisAlto.CODIGO_OCUPACAO.isin(ProfSorted.iloc[:10,:].index)]))\n",
      "FemDepoisAltoLabel = FemDepoisAlto10.index.to_series().map(ProfDict)\n",
      "FemDepoisAltoLabel[999]='R: OUTROS'\n",
      "FemDepoisAltoLabel = np.append(FemDepoisAltoLabel.apply(lambda x: x).str.decode('utf-8').values,'OUTROS MESMO')"
     ],
     "language": "python",
     "metadata": {},
     "outputs": [],
     "prompt_number": 772
    },
    {
     "cell_type": "code",
     "collapsed": false,
     "input": [
      "cores = ['firebrick','sandybrown','khaki',\\\n",
      "         'lemonchiffon','palegreen',\\\n",
      "         'mediumseagreen','lightskyblue',\\\n",
      "         'plum','orchid','lightgray','gray']\n",
      "pl.subplot(221)\n",
      "pl.title('Antes de 2009, $\\leq$ 5 votos',fontsize=12)\n",
      "pl.pie(FemAntesBaixoSel,startangle=90,autopct='%1.0f%%',pctdistance=1.2,colors=cores)\n",
      "pl.subplot(222)\n",
      "pl.title('Depois de 2009, $\\leq$ 5 votos',fontsize=12)\n",
      "pl.pie(FemDepoisBaixoSel,startangle=90,autopct='%1.0f%%',pctdistance=1.2,colors=cores)\n",
      "pl.subplot(223)\n",
      "pl.title('Antes de 2009, $>$ 5 votos',fontsize=12)\n",
      "pl.pie(FemAntesAltoSel,startangle=90,autopct='%1.0f%%',pctdistance=1.2,colors=cores)\n",
      "pl.subplot(224)\n",
      "pl.title('Depois de 2009, $>$ 5 votos',fontsize=12)\n",
      "patches, t1, t2 = pl.pie(FemDepoisAltoSel,startangle=90,autopct='%1.0f%%',pctdistance=1.2,colors=cores)\n",
      "\n",
      "pl.legend(patches, list(FemDepoisAltoLabel), bbox_to_anchor=(0.5,0.2), loc=\"center\", fontsize=10, \n",
      "           bbox_transform=pl.gcf().transFigure)\n",
      "pl.subplots_adjust(bottom=0.35)\n",
      "\n",
      "pl.suptitle('Cand. femininas',fontsize=14, fontweight='bold')\n",
      "\n",
      "pl.show()\n"
     ],
     "language": "python",
     "metadata": {},
     "outputs": [],
     "prompt_number": 773
    },
    {
     "cell_type": "heading",
     "level": 4,
     "metadata": {},
     "source": [
      "Categoria profissional"
     ]
    },
    {
     "cell_type": "code",
     "collapsed": false,
     "input": [
      "# FEMININO:\n",
      "# Ap\u00f3s a introdu\u00e7\u00e3o da lei, vemos uma maior incid\u00eancia de batalhadoras e outras entre os fantasmas.\n",
      "cores = ['darksalmon','khaki','gold','lightgreen','forestgreen','lightcyan','royalblue',\\\n",
      "         'darksalmon','khaki','gold','lightgreen','forestgreen','lightcyan','royalblue','lightgray']\n",
      "legenda = base.groupby('DESCRICAO_CATEGORIA').DESCRICAO_CATEGORIA.unique()\\\n",
      ".apply(lambda x: x[0]).str.decode('utf-8')\n",
      "\n",
      "pl.subplot(221)\n",
      "pl.pie(FemAntesBaixo.groupby('DESCRICAO_CATEGORIA').size(),\\\n",
      "       startangle=90,autopct='%1.0f%%',\\\n",
      "       labels=FemAntesBaixo.groupby('DESCRICAO_CATEGORIA').DESCRICAO_CATEGORIA.unique()\\\n",
      ".apply(lambda x: x[0]).str.decode('utf-8'))\n",
      "pl.title('Antes de 2009, $\\leq$ 5 votos')\n",
      "\n",
      "pl.subplot(222)\n",
      "pl.pie(FemDepoisBaixo.groupby('DESCRICAO_CATEGORIA').size(),\\\n",
      "       startangle=90,autopct='%1.0f%%',\\\n",
      "       labels=FemDepoisBaixo.groupby('DESCRICAO_CATEGORIA').DESCRICAO_CATEGORIA.unique()\\\n",
      ".apply(lambda x: x[0]).str.decode('utf-8'))\n",
      "pl.title('Depois de 2009, $\\leq$ 5 votos')\n",
      "\n",
      "pl.subplot(223)\n",
      "pl.pie(FemAntesAlto.groupby('DESCRICAO_CATEGORIA').size(),\\\n",
      "       startangle=90,autopct='%1.0f%%',\\\n",
      "       labels=FemAntesAlto.groupby('DESCRICAO_CATEGORIA').DESCRICAO_CATEGORIA.unique()\\\n",
      ".apply(lambda x: x[0]).str.decode('utf-8'))\n",
      "pl.title('Antes de 2009, $>$ 5 votos')\n",
      "\n",
      "pl.subplot(224)\n",
      "pl.pie(FemDepoisAlto.groupby('DESCRICAO_CATEGORIA').size(),\\\n",
      "       startangle=90,autopct='%1.0f%%',\\\n",
      "       labels=FemDepoisAlto.groupby('DESCRICAO_CATEGORIA').DESCRICAO_CATEGORIA.unique()\\\n",
      ".apply(lambda x: x[0]).str.decode('utf-8'))\n",
      "pl.title('Depois de 2009, $>$ 5 votos')\n",
      "pl.show()"
     ],
     "language": "python",
     "metadata": {},
     "outputs": [],
     "prompt_number": 539
    },
    {
     "cell_type": "code",
     "collapsed": false,
     "input": [
      "# MASCULINO: Vemos uma estabilidade na distribui\u00e7\u00e3o de categorias antes e depois da lei.\n",
      "# Isso indica que n\u00e3o houve uma transi\u00e7\u00e3o demogr\u00e1fica no per\u00edodo.\n",
      "cores = ['darksalmon','khaki','gold','lightgreen','forestgreen','lightcyan','royalblue',\\\n",
      "         'darksalmon','khaki','gold','lightgreen','forestgreen','lightcyan','royalblue','lightgray']\n",
      "legenda = base.groupby('DESCRICAO_CATEGORIA').DESCRICAO_CATEGORIA.unique()\\\n",
      ".apply(lambda x: x[0]).str.decode('utf-8')\n",
      "\n",
      "pl.subplot(221)\n",
      "pl.pie(MascAntesBaixo.groupby('DESCRICAO_CATEGORIA').size(),\\\n",
      "       startangle=90,autopct='%1.0f%%',\\\n",
      "       labels=FemAntesBaixo.groupby('DESCRICAO_CATEGORIA').DESCRICAO_CATEGORIA.unique()\\\n",
      ".apply(lambda x: x[0]).str.decode('utf-8'))\n",
      "pl.title('Antes de 2009, $\\leq$ 5 votos')\n",
      "\n",
      "pl.subplot(222)\n",
      "pl.pie(MascDepoisBaixo.groupby('DESCRICAO_CATEGORIA').size(),\\\n",
      "       startangle=90,autopct='%1.0f%%',\\\n",
      "       labels=FemDepoisBaixo.groupby('DESCRICAO_CATEGORIA').DESCRICAO_CATEGORIA.unique()\\\n",
      ".apply(lambda x: x[0]).str.decode('utf-8'))\n",
      "pl.title('Depois de 2009, $\\leq$ 5 votos')\n",
      "\n",
      "pl.subplot(223)\n",
      "pl.pie(MascAntesAlto.groupby('DESCRICAO_CATEGORIA').size(),\\\n",
      "       startangle=90,autopct='%1.0f%%',\\\n",
      "       labels=FemAntesAlto.groupby('DESCRICAO_CATEGORIA').DESCRICAO_CATEGORIA.unique()\\\n",
      ".apply(lambda x: x[0]).str.decode('utf-8'))\n",
      "pl.title('Antes de 2009, $>$ 5 votos')\n",
      "\n",
      "pl.subplot(224)\n",
      "pl.pie(MascDepoisAlto.groupby('DESCRICAO_CATEGORIA').size(),\\\n",
      "       startangle=90,autopct='%1.0f%%',\\\n",
      "       labels=FemDepoisAlto.groupby('DESCRICAO_CATEGORIA').DESCRICAO_CATEGORIA.unique()\\\n",
      ".apply(lambda x: x[0]).str.decode('utf-8'))\n",
      "pl.title('Depois de 2009, $>$ 5 votos')\n",
      "pl.show()"
     ],
     "language": "python",
     "metadata": {},
     "outputs": [],
     "prompt_number": 540
    },
    {
     "cell_type": "code",
     "collapsed": false,
     "input": [
      "FuncPublico    = base.loc[base.DESCRICAO_CATEGORIA.isin(['funcionario','militar','servidor'])]['TOTAL_VOTOS']\n",
      "Qualificado    = base.loc[base.DESCRICAO_CATEGORIA.isin(['artista','academico','qualificado','religioso'])]['TOTAL_VOTOS']\n",
      "MedioQualif    = base.loc[base.DESCRICAO_CATEGORIA.isin(['tecnico','gerente'])]['TOTAL_VOTOS']\n",
      "NaoQualificado = base.loc[base.DESCRICAO_CATEGORIA.isin(['empregado','precario'])]['TOTAL_VOTOS']\n",
      "Autonomos      = base.loc[base.DESCRICAO_CATEGORIA.isin(['batalhador'])]['TOTAL_VOTOS']\n",
      "Outros         = base.loc[base.DESCRICAO_CATEGORIA.isin(['outros'])]['TOTAL_VOTOS']\n",
      "Empregador     = base.loc[base.DESCRICAO_CATEGORIA.isin(['dono'])]['TOTAL_VOTOS']\n",
      "Politico       = base.loc[base.DESCRICAO_CATEGORIA.isin(['politico'])]['TOTAL_VOTOS']"
     ],
     "language": "python",
     "metadata": {},
     "outputs": [],
     "prompt_number": 541
    },
    {
     "cell_type": "code",
     "collapsed": false,
     "input": [
      "NvotosEdges = 10**np.arange(0,5.4,0.35)\n",
      "NvotosEdges[0]=0\n",
      "AllHist            = np.histogram(base.TOTAL_VOTOS, bins=NvotosEdges)[0]\n",
      "FuncPublicoHist    = np.histogram(FuncPublico,   bins=NvotosEdges)[0].astype(float) / AllHist * 100\n",
      "QualificadoHist    = np.histogram(Qualificado,   bins=NvotosEdges)[0].astype(float) / AllHist * 100\n",
      "MedioQualifHist    = np.histogram(MedioQualif,   bins=NvotosEdges)[0].astype(float) / AllHist * 100\n",
      "NaoQualificadoHist = np.histogram(NaoQualificado,bins=NvotosEdges)[0].astype(float) / AllHist * 100\n",
      "AutonomosHist      = np.histogram(Autonomos,     bins=NvotosEdges)[0].astype(float) / AllHist * 100\n",
      "OutrosHist         = np.histogram(Outros,        bins=NvotosEdges)[0].astype(float) / AllHist * 100\n",
      "EmpregadorHist     = np.histogram(Empregador,    bins=NvotosEdges)[0].astype(float) / AllHist * 100\n",
      "PoliticoHist       = np.histogram(Politico,      bins=NvotosEdges)[0].astype(float) / AllHist * 100"
     ],
     "language": "python",
     "metadata": {},
     "outputs": [],
     "prompt_number": 542
    },
    {
     "cell_type": "code",
     "collapsed": false,
     "input": [
      "# O grafico mostra a fra\u00e7\u00e3o de candidaturas em cada categoria profissional, em fun\u00e7\u00e3o do n\u00famero de votos\n",
      "# recebidos.\n",
      "pl.stackplot(NvotosEdges[1:],QualificadoHist,EmpregadorHist,MedioQualifHist,FuncPublicoHist,OutrosHist,\\\n",
      "             NaoQualificadoHist,AutonomosHist,PoliticoHist,\n",
      "             colors=('lightskyblue','tomato','khaki','lightgreen','silver','peru','darksalmon','darkseagreen'))\n",
      "pl.xscale('log')\n",
      "pl.xlim([NvotosEdges[1],NvotosEdges[-1]])\n",
      "pl.ylim([0,100])\n",
      "pl.xlabel('Numero de votos', fontsize=16)\n",
      "pl.ylabel('% do total de candidaturas', fontsize=16)\n",
      "\n",
      "legend_x = 1\n",
      "legend_y = 0.5\n",
      "pl.legend(loc='center left', bbox_to_anchor=(legend_x, legend_y))\n",
      "\n",
      "\n",
      "pl.show()"
     ],
     "language": "python",
     "metadata": {},
     "outputs": [],
     "prompt_number": 543
    },
    {
     "cell_type": "heading",
     "level": 4,
     "metadata": {},
     "source": [
      "Idade"
     ]
    },
    {
     "cell_type": "code",
     "collapsed": false,
     "input": [
      "# Tabela para AzMina:\n",
      "\n",
      "def epoca(ano):\n",
      "    if ano<2009:\n",
      "        return 'Antes'\n",
      "    else:\n",
      "        return 'Depois'\n",
      "base['EPOCA']=base.ANO_ELEICAO.apply(epoca)\n",
      "\n",
      "def qVotos(nvotos):\n",
      "    if nvotos<=5:\n",
      "        return 'Menos'\n",
      "    else:\n",
      "        return 'Mais'\n",
      "base['QUANT_VOTOS']=base.TOTAL_VOTOS.apply(qVotos)\n",
      "togo = base.groupby(['DESCRICAO_SEXO','EPOCA','QUANT_VOTOS','DESCRICAO_CARGO','IDADE_DATA_ELEICAO']).size()\n",
      "#Script errado, afeta n\u00famero de cand., n\u00e3o o grau de instrucao:\n",
      "#instrucaoDict = base.groupby('COD_GRAU_INSTRUCAO')['DESCRICAO_GRAU_INSTRUCAO'].unique().apply(lambda x: x[-1]).to_dict()\n",
      "#togo = togo.map(instrucaoDict)\n",
      "togo.to_csv('tabelas/num-cand-X-sexo-epoca-Nvotos-cargo-idade.csv')"
     ],
     "language": "python",
     "metadata": {},
     "outputs": [],
     "prompt_number": 73
    },
    {
     "cell_type": "code",
     "collapsed": false,
     "input": [
      "# Carregando dados do IBGE sobre popula\u00e7\u00e3o brasileira:\n",
      "IdadeBras = pd.read_csv('../dados/IBGE/populacao_brasileira_2010.csv')"
     ],
     "language": "python",
     "metadata": {},
     "outputs": [],
     "prompt_number": 172
    },
    {
     "cell_type": "code",
     "collapsed": false,
     "input": [
      "# Distribui\u00e7\u00f5es da popula\u00e7\u00e3o por idade, normalizada pelo total de adultos:\n",
      "IdadeBrasIdade = np.arange(IdadeMax+1)\n",
      "# Homens:\n",
      "IdadeBrasMasc = np.interp(IdadeBrasIdade,np.arange(2,107,5),np.array(IdadeBras['masc'])[::-1])\n",
      "IdadeBrasMascNorm = np.sum(IdadeBrasMasc[18:])\n",
      "IdadeBrasMascDist = IdadeBrasMasc.astype(float)/IdadeBrasMascNorm\n",
      "# Mulheres:\n",
      "IdadeBrasFem = np.interp(IdadeBrasIdade,np.arange(2,107,5),np.array(IdadeBras['fem'])[::-1])\n",
      "IdadeBrasFemNorm = np.sum(IdadeBrasFem[18:])\n",
      "IdadeBrasFemDist = IdadeBrasFem.astype(float)/IdadeBrasFemNorm"
     ],
     "language": "python",
     "metadata": {},
     "outputs": [],
     "prompt_number": 197
    },
    {
     "cell_type": "code",
     "collapsed": false,
     "input": [
      "# Plot de idade feminino:\n",
      "IdadeMax=120\n",
      "def MovAvg3(arr):\n",
      "    sampleN = np.insert(np.append(3*np.ones(len(arr)-2),2),0,2)\n",
      "    sum3 = np.insert(np.insert(arr,0,0),0,0) + np.append(np.insert(arr,0,0),0) + np.append(np.append(arr,0),0)\n",
      "    return sum3[1:-1]/sampleN\n",
      "Idades = np.arange(IdadeMax+1)\n",
      "# Um grupo:\n",
      "FemAntesBaixoCor = 'plum'\n",
      "FemAntesBaixoCount = np.bincount(np.array(FemAntesBaixo['IDADE_DATA_ELEICAO']).astype(int),minlength=IdadeMax+1)\n",
      "FemAntesBaixoNorm  = np.sum(FemAntesBaixoCount)\n",
      "FemAntesBaixoErr   = MovAvg3(np.sqrt(FemAntesBaixoCount)/FemAntesBaixoNorm)\n",
      "FemAntesBaixoDist  = MovAvg3(FemAntesBaixoCount.astype(float)/FemAntesBaixoNorm)\n",
      "pl.fill_between(Idades,100*(FemAntesBaixoDist+FemAntesBaixoErr),100*(FemAntesBaixoDist-FemAntesBaixoErr),\\\n",
      "                color=FemAntesBaixoCor, alpha=0.5)\n",
      "# Um grupo:\n",
      "FemDepoisBaixoCor = 'purple'\n",
      "FemDepoisBaixoCount = np.bincount(np.array(FemDepoisBaixo['IDADE_DATA_ELEICAO']).astype(int),minlength=IdadeMax+1)\n",
      "FemDepoisBaixoNorm  = np.sum(FemDepoisBaixoCount)\n",
      "FemDepoisBaixoErr   = MovAvg3(np.sqrt(FemDepoisBaixoCount)/FemDepoisBaixoNorm)\n",
      "FemDepoisBaixoDist  = MovAvg3(FemDepoisBaixoCount.astype(float)/FemDepoisBaixoNorm)\n",
      "pl.fill_between(Idades,100*(FemDepoisBaixoDist+FemDepoisBaixoErr),100*(FemDepoisBaixoDist-FemDepoisBaixoErr),\\\n",
      "                color=FemDepoisBaixoCor, alpha=0.5)\n",
      "# Um grupo:\n",
      "FemAntesAltoCor = 'palegreen'\n",
      "FemAntesAltoIdade = np.array(FemAntesAlto['IDADE_DATA_ELEICAO']).astype(int)\n",
      "FemAntesAltoCount = np.bincount(FemAntesAltoIdade[FemAntesAltoIdade>0],minlength=IdadeMax+1)\n",
      "FemAntesAltoNorm  = np.sum(FemAntesAltoCount)\n",
      "FemAntesAltoErr   = MovAvg3(np.sqrt(FemAntesAltoCount)/FemAntesAltoNorm)\n",
      "FemAntesAltoDist  = MovAvg3(FemAntesAltoCount.astype(float)/FemAntesAltoNorm)\n",
      "pl.fill_between(Idades,100*(FemAntesAltoDist+FemAntesAltoErr),100*(FemAntesAltoDist-FemAntesAltoErr),\\\n",
      "                color=FemAntesAltoCor, alpha=0.5)\n",
      "# Um grupo:\n",
      "FemDepoisAltoCor = 'darkgreen'\n",
      "FemDepoisAltoCount = np.bincount(np.array(FemDepoisAlto['IDADE_DATA_ELEICAO']).astype(int),minlength=IdadeMax+1)\n",
      "FemDepoisAltoNorm  = np.sum(FemDepoisAltoCount)\n",
      "FemDepoisAltoErr   = MovAvg3(np.sqrt(FemDepoisAltoCount)/FemDepoisAltoNorm)\n",
      "FemDepoisAltoDist  = MovAvg3(FemDepoisAltoCount.astype(float)/FemDepoisAltoNorm)\n",
      "pl.fill_between(Idades,100*(FemDepoisAltoDist+FemDepoisAltoErr),100*(FemDepoisAltoDist-FemDepoisAltoErr),\\\n",
      "                color=FemDepoisAltoCor, alpha=0.5)\n",
      "\n",
      "# Distribui\u00e7\u00e3o do IBGE:\n",
      "pl.plot(IdadeBrasIdade,100*IdadeBrasFemDist, linestyle='--',color='gray',linewidth=2)\n",
      "ibgeLine = mlines.Line2D([], [], color='gray', linewidth=2, linestyle='--')\n",
      "\n",
      "\n",
      "cores = [FemAntesBaixoCor,FemDepoisBaixoCor,FemAntesAltoCor,FemDepoisAltoCor]\n",
      "descricao = ['Antes de 2009, $\\leq$ 5 votos', 'Depois de 2009, $\\leq$ 5 votos', \\\n",
      "             'Antes de 2009, $>$ 5 votos', 'Depois de 2009, $>$ 5 votos']\n",
      "proxy = map(lambda x: mpatches.Patch(color=x, alpha=0.5),cores) \n",
      "pl.legend(np.append(proxy,ibgeLine),np.append(descricao,'Censo 2010 (fem.)'),loc='upper right', fontsize=12)\n",
      "\n",
      "pl.title('Candidaturas femininas')\n",
      "pl.xlim([15,90])\n",
      "pl.ylabel('Fra\u00e7\u00e3o de candidaturas (%)')\n",
      "pl.xlabel('Idade')\n",
      "pl.show()"
     ],
     "language": "python",
     "metadata": {},
     "outputs": [],
     "prompt_number": 206
    },
    {
     "cell_type": "code",
     "collapsed": false,
     "input": [
      "IdadeMax=120\n",
      "def MovAvg3(arr):\n",
      "    sampleN = np.insert(np.append(3*np.ones(len(arr)-2),2),0,2)\n",
      "    sum3 = np.insert(np.insert(arr,0,0),0,0) + np.append(np.insert(arr,0,0),0) + np.append(np.append(arr,0),0)\n",
      "    return sum3[1:-1]/sampleN\n",
      "Idades = np.arange(IdadeMax+1)\n",
      "# Um grupo:\n",
      "MascAntesBaixoCor = 'plum'\n",
      "MascAntesBaixoIdade = np.array(MascAntesBaixo['IDADE_DATA_ELEICAO']).astype(int)\n",
      "MascAntesBaixoCount = np.bincount(MascAntesBaixoIdade[MascAntesBaixoIdade>0],minlength=IdadeMax+1)\n",
      "MascAntesBaixoNorm  = np.sum(MascAntesBaixoCount)\n",
      "MascAntesBaixoErr   = MovAvg3(np.sqrt(MascAntesBaixoCount)/MascAntesBaixoNorm)\n",
      "MascAntesBaixoDist  = MovAvg3(MascAntesBaixoCount.astype(float)/MascAntesBaixoNorm)\n",
      "pl.fill_between(Idades,100*(MascAntesBaixoDist+MascAntesBaixoErr),100*(MascAntesBaixoDist-MascAntesBaixoErr),\\\n",
      "                color=MascAntesBaixoCor, alpha=0.5)\n",
      "# Um grupo:\n",
      "MascDepoisBaixoCor = 'purple'\n",
      "MascDepoisBaixoCount = np.bincount(np.array(MascDepoisBaixo['IDADE_DATA_ELEICAO']).astype(int),minlength=IdadeMax+1)\n",
      "MascDepoisBaixoNorm  = np.sum(MascDepoisBaixoCount)\n",
      "MascDepoisBaixoErr   = MovAvg3(np.sqrt(MascDepoisBaixoCount)/MascDepoisBaixoNorm)\n",
      "MascDepoisBaixoDist  = MovAvg3(MascDepoisBaixoCount.astype(float)/MascDepoisBaixoNorm)\n",
      "pl.fill_between(Idades,100*(MascDepoisBaixoDist+MascDepoisBaixoErr),100*(MascDepoisBaixoDist-MascDepoisBaixoErr),\\\n",
      "                color=MascDepoisBaixoCor, alpha=0.5)\n",
      "# Um grupo:\n",
      "MascAntesAltoCor = 'palegreen'\n",
      "MascAntesAltoIdade = np.array(MascAntesAlto['IDADE_DATA_ELEICAO']).astype(int)\n",
      "MascAntesAltoCount = np.bincount(MascAntesAltoIdade[MascAntesAltoIdade>0],minlength=IdadeMax+1)\n",
      "MascAntesAltoNorm  = np.sum(MascAntesAltoCount)\n",
      "MascAntesAltoErr   = MovAvg3(np.sqrt(MascAntesAltoCount)/MascAntesAltoNorm)\n",
      "MascAntesAltoDist  = MovAvg3(MascAntesAltoCount.astype(float)/MascAntesAltoNorm)\n",
      "pl.fill_between(Idades,100*(MascAntesAltoDist+MascAntesAltoErr),100*(MascAntesAltoDist-MascAntesAltoErr),\\\n",
      "                color=MascAntesAltoCor, alpha=0.5)\n",
      "# Um grupo:\n",
      "MascDepoisAltoCor = 'darkgreen'\n",
      "MascDepoisAltoCount = np.bincount(np.array(MascDepoisAlto['IDADE_DATA_ELEICAO']).astype(int),minlength=IdadeMax+1)\n",
      "MascDepoisAltoNorm  = np.sum(MascDepoisAltoCount)\n",
      "MascDepoisAltoErr   = MovAvg3(np.sqrt(MascDepoisAltoCount)/MascDepoisAltoNorm)\n",
      "MascDepoisAltoDist  = MovAvg3(MascDepoisAltoCount.astype(float)/MascDepoisAltoNorm)\n",
      "pl.fill_between(Idades,100*(MascDepoisAltoDist+MascDepoisAltoErr),100*(MascDepoisAltoDist-MascDepoisAltoErr),\\\n",
      "                color=MascDepoisAltoCor, alpha=0.5)\n",
      "\n",
      "# Distribui\u00e7\u00e3o do IBGE:\n",
      "pl.plot(IdadeBrasIdade,100*IdadeBrasMascDist, linestyle='--',color='gray',linewidth=2)\n",
      "ibgeLine = mlines.Line2D([], [], color='gray', linewidth=2, linestyle='--')\n",
      "\n",
      "cores = [MascAntesBaixoCor,MascDepoisBaixoCor,MascAntesAltoCor,MascDepoisAltoCor]\n",
      "descricao = ['Antes de 2009, $\\leq$ 5 votos', 'Depois de 2009, $\\leq$ 5 votos', \\\n",
      "             'Antes de 2009, $>$ 5 votos', 'Depois de 2009, $>$ 5 votos']\n",
      "proxy = map(lambda x: mpatches.Patch(color=x, alpha=0.5),cores) \n",
      "pl.legend(np.append(proxy,ibgeLine),np.append(descricao,'Censo 2010 (masc.)'),loc='upper right', fontsize=12)\n",
      "\n",
      "pl.title('Candidaturas masculinas')\n",
      "pl.xlim([15,90])\n",
      "pl.ylabel('Fra\u00e7\u00e3o de candidaturas (%)')\n",
      "pl.xlabel('Idade')\n",
      "pl.show()"
     ],
     "language": "python",
     "metadata": {},
     "outputs": [],
     "prompt_number": 207
    },
    {
     "cell_type": "code",
     "collapsed": false,
     "input": [
      "# Idade m\u00e9dia:\n",
      "print FemAntesBaixo.loc[FemAntesBaixo.IDADE_DATA_ELEICAO>0]['IDADE_DATA_ELEICAO'].mean()\n",
      "print FemDepoisBaixo.loc[FemDepoisBaixo.IDADE_DATA_ELEICAO>0]['IDADE_DATA_ELEICAO'].mean()\n",
      "print FemAntesAlto.loc[FemAntesAlto.IDADE_DATA_ELEICAO>0]['IDADE_DATA_ELEICAO'].mean()\n",
      "print FemDepoisAlto.loc[FemDepoisAlto.IDADE_DATA_ELEICAO>0]['IDADE_DATA_ELEICAO'].mean()"
     ],
     "language": "python",
     "metadata": {},
     "outputs": [
      {
       "output_type": "stream",
       "stream": "stdout",
       "text": [
        "40.698861574\n",
        "40.2673534856\n",
        "43.6433249804"
       ]
      },
      {
       "output_type": "stream",
       "stream": "stdout",
       "text": [
        "\n",
        "44.4114282071"
       ]
      },
      {
       "output_type": "stream",
       "stream": "stdout",
       "text": [
        "\n"
       ]
      }
     ],
     "prompt_number": 793
    },
    {
     "cell_type": "heading",
     "level": 4,
     "metadata": {},
     "source": [
      "Patrim\u00f4nio declarado"
     ]
    },
    {
     "cell_type": "code",
     "collapsed": false,
     "input": [
      "np.histogram(np.log10(1+np.nan_to_num(np.array(FemDepoisAlto.loc[FemDepoisAlto.ANO_ELEICAO>2004].VALOR_BEM))),\\\n",
      "             bins=np.arange(0,11))"
     ],
     "language": "python",
     "metadata": {},
     "outputs": [
      {
       "metadata": {},
       "output_type": "pyout",
       "prompt_number": 272,
       "text": [
        "(array([97852,   298,  1209, 16644, 56737, 39514,  1665,    50,    11,     1]),\n",
        " array([ 0,  1,  2,  3,  4,  5,  6,  7,  8,  9, 10]))"
       ]
      }
     ],
     "prompt_number": 272
    },
    {
     "cell_type": "code",
     "collapsed": false,
     "input": [
      "# Bens declarados:\n",
      "# Tivemos que excluir dados de 2004 que est\u00e3o faltando na base compilada.\n",
      "# No futuro, precisamos corrigir o processamento anterior da base para incluir esses dados.\n",
      "#logbemEdges  = np.append(np.arange(0,8),12)\n",
      "logbemEdges  = [0,1,4,5,12]\n",
      "#logbemColors = ['firebrick','tomato','lightsalmon','khaki','palegreen','mediumaquamarine','seagreen','darkgreen']\n",
      "logbemColors = ['tomato','palegreen','mediumaquamarine','seagreen']\n",
      "legenda = ['Nada a declarar','At\u00e9 R\\$10 mil','At\u00e9 R\\$100 mil','Mais de R\\$100 mil']\n",
      "\n",
      "pl.subplot(221)\n",
      "FemAntesBaixoCount, BemEdges = \\\n",
      "np.histogram(np.log10(1+np.nan_to_num(np.array(FemAntesBaixo.loc[FemAntesBaixo.ANO_ELEICAO>2004].VALOR_BEM))),\\\n",
      "             bins=logbemEdges)\n",
      "pl.pie(FemAntesBaixoCount,startangle=90,autopct='%1.0f%%',colors=logbemColors)\n",
      "pl.title('Antes de 2009, $\\leq$ 5 votos')\n",
      "\n",
      "pl.subplot(222)\n",
      "FemDepoisBaixoCount, BemEdges = \\\n",
      "np.histogram(np.log10(1+np.nan_to_num(np.array(FemDepoisBaixo.loc[FemDepoisBaixo.ANO_ELEICAO>2004].VALOR_BEM))),\\\n",
      "             bins=logbemEdges)\n",
      "pl.pie(FemDepoisBaixoCount,startangle=90,autopct='%1.0f%%',colors=logbemColors)\n",
      "pl.title('Depois de 2009, $\\leq$ 5 votos')\n",
      "\n",
      "pl.subplot(223)\n",
      "FemAntesAltoCount, BemEdges = \\\n",
      "np.histogram(np.log10(1+np.nan_to_num(np.array(FemAntesAlto.loc[FemAntesAlto.ANO_ELEICAO>2004].VALOR_BEM))),\\\n",
      "             bins=logbemEdges)\n",
      "pl.pie(FemAntesAltoCount,startangle=90,autopct='%1.0f%%',colors=logbemColors)\n",
      "pl.title('Antes de 2009, $>$ 5 votos')\n",
      "\n",
      "pl.subplot(224)\n",
      "FemDepoisAltoCount, BemEdges = \\\n",
      "np.histogram(np.log10(1+np.nan_to_num(np.array(FemDepoisAlto.loc[FemDepoisAlto.ANO_ELEICAO>2004].VALOR_BEM))),\\\n",
      "             bins=logbemEdges)\n",
      "pl.pie(FemDepoisAltoCount,startangle=90,autopct='%1.0f%%',colors=logbemColors)\n",
      "pl.title('Depois de 2009, $>$ 5 votos')\n",
      "\n",
      "proxy = map(lambda x: mpatches.Patch(color=x),logbemColors) \n",
      "pl.legend(proxy,legenda, fontsize=12, bbox_to_anchor=(0.5,0.10), loc=\"center\", \\\n",
      "          bbox_transform=pl.gcf().transFigure)\n",
      "pl.subplots_adjust(bottom=0.15)\n",
      "pl.suptitle('Cand. femininas', fontsize=16, fontweight='bold')\n",
      "pl.show()"
     ],
     "language": "python",
     "metadata": {},
     "outputs": [],
     "prompt_number": 316
    },
    {
     "cell_type": "code",
     "collapsed": false,
     "input": [
      "# Bens declarados:\n",
      "# Tivemos que excluir dados de 2004 que est\u00e3o faltando na base compilada.\n",
      "# No futuro, precisamos corrigir o processamento anterior da base para incluir esses dados.\n",
      "#logbemEdges  = np.append(np.arange(0,8),12)\n",
      "logbemEdges  = [0,1,4,5,12]\n",
      "#logbemColors = ['firebrick','tomato','lightsalmon','khaki','palegreen','mediumaquamarine','seagreen','darkgreen']\n",
      "logbemColors = ['tomato','palegreen','mediumaquamarine','seagreen']\n",
      "legenda = ['Nada a declarar','At\u00e9 R\\$10 mil','At\u00e9 R\\$100 mil','Mais de R\\$100 mil']\n",
      "\n",
      "pl.subplot(221)\n",
      "MascAntesBaixoCount, BemEdges = \\\n",
      "np.histogram(np.log10(1+np.nan_to_num(np.array(MascAntesBaixo.loc[MascAntesBaixo.ANO_ELEICAO>2004].VALOR_BEM))),\\\n",
      "             bins=logbemEdges)\n",
      "pl.pie(MascAntesBaixoCount,startangle=90,autopct='%1.0f%%',colors=logbemColors)\n",
      "pl.title('Antes de 2009, $\\leq$ 5 votos')\n",
      "\n",
      "pl.subplot(222)\n",
      "MascDepoisBaixoCount, BemEdges = \\\n",
      "np.histogram(np.log10(1+np.nan_to_num(np.array(MascDepoisBaixo.loc[MascDepoisBaixo.ANO_ELEICAO>2004].VALOR_BEM))),\\\n",
      "             bins=logbemEdges)\n",
      "pl.pie(MascDepoisBaixoCount,startangle=90,autopct='%1.0f%%',colors=logbemColors)\n",
      "pl.title('Depois de 2009, $\\leq$ 5 votos')\n",
      "\n",
      "pl.subplot(223)\n",
      "MascAntesAltoCount, BemEdges = \\\n",
      "np.histogram(np.log10(1+np.nan_to_num(np.array(MascAntesAlto.loc[MascAntesAlto.ANO_ELEICAO>2004].VALOR_BEM))),\\\n",
      "             bins=logbemEdges)\n",
      "pl.pie(MascAntesAltoCount,startangle=90,autopct='%1.0f%%',colors=logbemColors)\n",
      "pl.title('Antes de 2009, $>$ 5 votos')\n",
      "\n",
      "pl.subplot(224)\n",
      "MascDepoisAltoCount, BemEdges = \\\n",
      "np.histogram(np.log10(1+np.nan_to_num(np.array(MascDepoisAlto.loc[MascDepoisAlto.ANO_ELEICAO>2004].VALOR_BEM))),\\\n",
      "             bins=logbemEdges)\n",
      "pl.pie(MascDepoisAltoCount,startangle=90,autopct='%1.0f%%',colors=logbemColors)\n",
      "pl.title('Depois de 2009, $>$ 5 votos')\n",
      "\n",
      "proxy = map(lambda x: mpatches.Patch(color=x),logbemColors) \n",
      "pl.legend(proxy,legenda, fontsize=12, bbox_to_anchor=(0.5,0.10), loc=\"center\", \\\n",
      "          bbox_transform=pl.gcf().transFigure)\n",
      "pl.subplots_adjust(bottom=0.15)\n",
      "pl.suptitle('Cand. Masculinas', fontsize=16, fontweight='bold')\n",
      "pl.show()"
     ],
     "language": "python",
     "metadata": {},
     "outputs": [],
     "prompt_number": 318
    },
    {
     "cell_type": "heading",
     "level": 4,
     "metadata": {},
     "source": [
      "Por estado"
     ]
    },
    {
     "cell_type": "code",
     "collapsed": false,
     "input": [
      "# Vamos selecionar a fra\u00e7\u00e3o com poucos votos de candidaturas de um determinado estado e sexo:\n",
      "FemAntesFrac = np.nan_to_num(FemAntesBaixo.groupby('SIGLA_UF').size()/\\\n",
      "              (FemAntesBaixo.groupby('SIGLA_UF').size()+FemAntesAlto.groupby('SIGLA_UF').size()))\n",
      "FemDepoisFrac = np.nan_to_num(FemDepoisBaixo.groupby('SIGLA_UF').size()/\\\n",
      "              (FemDepoisBaixo.groupby('SIGLA_UF').size()+FemDepoisAlto.groupby('SIGLA_UF').size()))\n",
      "MascAntesFrac = np.nan_to_num(MascAntesBaixo.groupby('SIGLA_UF').size()/\\\n",
      "              (MascAntesBaixo.groupby('SIGLA_UF').size()+MascAntesAlto.groupby('SIGLA_UF').size()))\n",
      "MascDepoisFrac = np.nan_to_num(MascDepoisBaixo.groupby('SIGLA_UF').size()/\\\n",
      "              (MascDepoisBaixo.groupby('SIGLA_UF').size()+MascDepoisAlto.groupby('SIGLA_UF').size()))\n",
      "\n",
      "FracPorUF = pd.DataFrame()\n",
      "FracPorUF['FemAntes']   = FemAntesFrac\n",
      "FracPorUF['FemDepois']  = FemDepoisFrac\n",
      "FracPorUF['MascAntes']  = MascAntesFrac\n",
      "FracPorUF['MascDepois'] = MascDepoisFrac\n",
      "FracPorUF['FemDiff']    = FracPorUF['FemDepois'] - FracPorUF['FemAntes']\n",
      "FracPorUF['MascDiff']   = FracPorUF['MascDepois'] - FracPorUF['MascAntes']"
     ],
     "language": "python",
     "metadata": {},
     "outputs": [],
     "prompt_number": 345
    },
    {
     "cell_type": "code",
     "collapsed": false,
     "input": [
      "FracPorUFSorted = FracPorUF.sort('FemDiff',ascending=False)"
     ],
     "language": "python",
     "metadata": {},
     "outputs": [],
     "prompt_number": 352
    },
    {
     "cell_type": "code",
     "collapsed": false,
     "input": [
      "pl.rcdefaults()\n",
      "fig, ax = pl.subplots()\n",
      "\n",
      "NomeUF   = FracPorUFSorted.index.values\n",
      "y_pos    = np.arange(0,3*len(NomeUF),3)\n",
      "FemFrac  = 100*FracPorUFSorted['FemDiff']\n",
      "MascFrac = 100*FracPorUFSorted['MascDiff']\n",
      "\n",
      "ax.barh(y_pos, FemFrac, align='center',\n",
      "        color='mediumorchid',edgecolor='purple')\n",
      "ax.barh(1+y_pos, MascFrac, align='center',\n",
      "        color='khaki',edgecolor='goldenrod')\n",
      "\n",
      "proxy = [mpatches.Patch(color='mediumorchid', edgecolor='puple'), \\\n",
      "         mpatches.Patch(color='khaki', edgecolor='goldenrod')]  \n",
      "pl.legend(proxy,['Feminina','Masculina'], fontsize=12,loc='lower right')\n",
      "\n",
      "ax.set_yticks(np.arange(0.5,3*len(NomeUF),3))\n",
      "ax.set_yticklabels(NomeUF)\n",
      "ax.invert_yaxis()  # labels read top-to-bottom\n",
      "ax.set_xlabel('% das candidaturas de cada sexo assumidas fantasmas')\n",
      "pl.xlim([-1,40])\n",
      "pl.ylim([3*len(NomeUF)+1,0-1])\n",
      "pl.title('Fra\u00e7\u00e3o de fantasmas por estado e sexo')\n",
      "pl.show()\n"
     ],
     "language": "python",
     "metadata": {},
     "outputs": [],
     "prompt_number": 406
    },
    {
     "cell_type": "heading",
     "level": 4,
     "metadata": {},
     "source": [
      "Por partido"
     ]
    },
    {
     "cell_type": "code",
     "collapsed": false,
     "input": [
      "# Vamos selecionar a fra\u00e7\u00e3o com poucos votos de candidaturas de um determinado estado e sexo:\n",
      "FemAntesFrac  = np.nan_to_num(FemAntesBaixo.groupby('NUMERO_PARTIDO').size()/\\\n",
      "              (FemAntesBaixo.groupby('NUMERO_PARTIDO').size()+FemAntesAlto.groupby('NUMERO_PARTIDO').size()))\n",
      "FemDepoisFrac = np.nan_to_num(FemDepoisBaixo.groupby('NUMERO_PARTIDO').size()/\\\n",
      "              (FemDepoisBaixo.groupby('NUMERO_PARTIDO').size()+FemDepoisAlto.groupby('NUMERO_PARTIDO').size()))\n",
      "MascAntesFrac = np.nan_to_num(MascAntesBaixo.groupby('NUMERO_PARTIDO').size()/\\\n",
      "              (MascAntesBaixo.groupby('NUMERO_PARTIDO').size()+MascAntesAlto.groupby('NUMERO_PARTIDO').size()))\n",
      "MascDepoisFrac = np.nan_to_num(MascDepoisBaixo.groupby('NUMERO_PARTIDO').size()/\\\n",
      "              (MascDepoisBaixo.groupby('NUMERO_PARTIDO').size()+MascDepoisAlto.groupby('NUMERO_PARTIDO').size()))\n",
      "\n",
      "FracPorPartido = pd.DataFrame()\n",
      "# Na constru\u00e7\u00e3o dessa base, a primeira s\u00e9rie dita quais partidos ser\u00e3o inclu\u00eddos\n",
      "# (os ausentes na primeira s\u00e9rie ser\u00e3o ignorados)\n",
      "FracPorPartido['MascDepois'] = MascDepoisFrac\n",
      "FracPorPartido['FemDepois']  = FemDepoisFrac\n",
      "FracPorPartido['MascAntes']  = MascAntesFrac\n",
      "FracPorPartido['FemAntes']   = FemAntesFrac\n",
      "FracPorPartido['MascAntes']  = FracPorPartido['MascAntes']\n",
      "FracPorPartido['FemAntes']   = FracPorPartido['FemAntes']\n",
      "FracPorPartido = FracPorPartido.fillna(FracPorPartido.mean())\n",
      "FracPorPartido['FemDiff']    = FracPorPartido['FemDepois'] - FracPorPartido['FemAntes']\n",
      "FracPorPartido['MascDiff']   = FracPorPartido['MascDepois'] - FracPorPartido['MascAntes']"
     ],
     "language": "python",
     "metadata": {},
     "outputs": [],
     "prompt_number": 526
    },
    {
     "cell_type": "code",
     "collapsed": false,
     "input": [
      "pl.rcdefaults()\n",
      "fig, ax1 = pl.subplots()\n",
      "\n",
      "# Gr\u00e1fico da diferen\u00e7a entre poucos votos antes e depois de 2009:\n",
      "FracPorPartidoSorted = FracPorPartido.sort('FemDiff',ascending=False)\n",
      "#ax1 = pl.subplot(121)\n",
      "\n",
      "NumSiglaDict = dict(zip(base.groupby('NUMERO_PARTIDO').NUMERO_PARTIDO.unique().apply(lambda x: x[-1]),\\\n",
      "                        base.groupby('NUMERO_PARTIDO').SIGLA_PARTIDO.unique().apply(lambda x: x[-1])))\n",
      "NomeUF   = [NumSiglaDict[num] for num in FracPorPartidoSorted.index.values]\n",
      "#NomeUF   = FracPorPartidoSorted.index.values\n",
      "y_pos    = np.arange(0,3*len(NomeUF),3)\n",
      "FemFrac  = 100*FracPorPartidoSorted['FemDiff']\n",
      "MascFrac = 100*FracPorPartidoSorted['MascDiff']\n",
      "\n",
      "ax1.barh(y_pos, FemFrac, align='center',\n",
      "        color='mediumorchid',edgecolor='purple')\n",
      "ax1.barh(1+y_pos, MascFrac, align='center',\n",
      "        color='khaki',edgecolor='goldenrod')\n",
      "\n",
      "proxy = [mpatches.Patch(color='mediumorchid', edgecolor='puple'), \\\n",
      "         mpatches.Patch(color='khaki', edgecolor='goldenrod')]  \n",
      "pl.legend(proxy,['Feminina','Masculina'], fontsize=12,loc='lower right')\n",
      "\n",
      "ax1.set_yticks(np.arange(0.5,3*len(NomeUF),3))\n",
      "ax1.set_yticklabels(NomeUF)\n",
      "ax1.invert_yaxis()  # labels read top-to-bottom\n",
      "\n",
      "# Destaca partidos sem candidaturas antes de 2009:\n",
      "PartidosNovos = list(set(base.NUMERO_PARTIDO.unique())-set(base.loc[base.ANO_ELEICAO<2009].NUMERO_PARTIDO.unique()))\n",
      "Tick2Paint = [np.where(FracPorPartidoSorted.index.values==p)[0][0] for p in PartidosNovos]\n",
      "map(lambda x: ax1.get_yticklabels()[x].set_color(\"firebrick\"),Tick2Paint)\n",
      "\n",
      "ax1.set_xlabel('% das candidaturas de cada sexo assumidas fantasmas')\n",
      "pl.xlim([-6,25])\n",
      "pl.ylim([3*len(NomeUF)+1,0-1])\n",
      "pl.title('Fra\u00e7\u00e3o de fantasmas por partido e sexo')\n",
      "\n",
      "pl.show()"
     ],
     "language": "python",
     "metadata": {},
     "outputs": [],
     "prompt_number": 537
    },
    {
     "cell_type": "code",
     "collapsed": false,
     "input": [
      "# Gr\u00e1fico do n\u00famero de fantasmas depois das elei\u00e7\u00f5es:\n",
      "FracPorPartidoSorted = FracPorPartido.sort('FemDepois',ascending=False)\n",
      "#ax2 = pl.subplot(122)\n",
      "fig, ax2 = pl.subplots()\n",
      "\n",
      "NumSiglaDict = dict(zip(base.groupby('NUMERO_PARTIDO').NUMERO_PARTIDO.unique().apply(lambda x: x[-1]),\\\n",
      "                        base.groupby('NUMERO_PARTIDO').SIGLA_PARTIDO.unique().apply(lambda x: x[-1])))\n",
      "NomeUF   = [NumSiglaDict[num] for num in FracPorPartidoSorted.index.values]\n",
      "#NomeUF   = FracPorPartidoSorted.index.values\n",
      "y_pos    = np.arange(0,3*len(NomeUF),3)\n",
      "FemFrac  = 100*FracPorPartidoSorted['FemDepois']\n",
      "MascFrac = 100*FracPorPartidoSorted['MascDepois']\n",
      "\n",
      "ax2.barh(y_pos, FemFrac, align='center',\n",
      "        color='mediumorchid',edgecolor='purple')\n",
      "ax2.barh(1+y_pos, MascFrac, align='center',\n",
      "        color='khaki',edgecolor='goldenrod')\n",
      "\n",
      "proxy = [mpatches.Patch(color='mediumorchid', edgecolor='puple'), \\\n",
      "         mpatches.Patch(color='khaki', edgecolor='goldenrod')]  \n",
      "pl.legend(proxy,['Feminina','Masculina'], fontsize=12,loc='lower right')\n",
      "\n",
      "ax2.set_yticks(np.arange(0.5,3*len(NomeUF),3))\n",
      "ax2.set_yticklabels(NomeUF)\n",
      "ax2.invert_yaxis()  # labels read top-to-bottom\n",
      "\n",
      "# Destaca partidos sem candidaturas antes de 2009:\n",
      "PartidosNovos = list(set(base.NUMERO_PARTIDO.unique())-set(base.loc[base.ANO_ELEICAO<2009].NUMERO_PARTIDO.unique()))\n",
      "Tick2Paint = [np.where(FracPorPartidoSorted.index.values==p)[0][0] for p in PartidosNovos]\n",
      "map(lambda x: ax2.get_yticklabels()[x].set_color(\"firebrick\"),Tick2Paint)\n",
      "\n",
      "ax2.set_xlabel('% das candidaturas de cada sexo')\n",
      "pl.xlim([-1,35])\n",
      "pl.ylim([3*len(NomeUF)+1,0-1])\n",
      "pl.title('Cand. com $\\leq$ 5 votos por partido e sexo')\n",
      "\n",
      "pl.show()"
     ],
     "language": "python",
     "metadata": {},
     "outputs": [],
     "prompt_number": 536
    },
    {
     "cell_type": "code",
     "collapsed": false,
     "input": [
      "base.groupby('NUMERO_PARTIDO').ANO_ELEICAO.unique()"
     ],
     "language": "python",
     "metadata": {},
     "outputs": [
      {
       "metadata": {},
       "output_type": "pyout",
       "prompt_number": 412,
       "text": [
        "NUMERO_PARTIDO\n",
        "10                      [2006, 2008, 2010, 2012, 2014, 2016]\n",
        "11                [2004, 2006, 2008, 2010, 2012, 2014, 2016]\n",
        "12                [2004, 2006, 2008, 2010, 2012, 2014, 2016]\n",
        "13                [2004, 2006, 2008, 2010, 2012, 2014, 2016]\n",
        "14                [2004, 2006, 2008, 2010, 2012, 2014, 2016]\n",
        "15                [2004, 2006, 2008, 2010, 2012, 2014, 2016]\n",
        "16                [2004, 2006, 2008, 2010, 2012, 2014, 2016]\n",
        "17                [2004, 2006, 2008, 2010, 2012, 2014, 2016]\n",
        "18                                                    [2016]\n",
        "19                [2004, 2006, 2008, 2010, 2012, 2014, 2016]\n",
        "20                [2004, 2006, 2008, 2010, 2012, 2014, 2016]\n",
        "21                [2004, 2006, 2008, 2010, 2012, 2014, 2016]\n",
        "22                [2004, 2006, 2008, 2010, 2012, 2014, 2016]\n",
        "23                [2004, 2006, 2008, 2010, 2012, 2014, 2016]\n",
        "25                [2004, 2006, 2008, 2010, 2012, 2014, 2016]\n",
        "26                                              [2004, 2006]\n",
        "27                [2004, 2006, 2008, 2010, 2012, 2014, 2016]\n",
        "28                [2004, 2006, 2008, 2010, 2012, 2014, 2016]\n",
        "29                [2004, 2006, 2008, 2010, 2012, 2014, 2016]\n",
        "30                                                    [2016]\n",
        "31                [2004, 2006, 2008, 2010, 2012, 2014, 2016]\n",
        "33                [2004, 2006, 2008, 2010, 2012, 2014, 2016]\n",
        "35                                                    [2016]\n",
        "36                [2004, 2006, 2008, 2010, 2012, 2014, 2016]\n",
        "40                [2004, 2006, 2008, 2010, 2012, 2014, 2016]\n",
        "43                [2004, 2006, 2008, 2010, 2012, 2014, 2016]\n",
        "44                [2004, 2006, 2008, 2010, 2012, 2014, 2016]\n",
        "45                [2004, 2006, 2008, 2010, 2012, 2014, 2016]\n",
        "50                      [2006, 2008, 2010, 2012, 2014, 2016]\n",
        "51                                              [2014, 2016]\n",
        "54                                        [2012, 2014, 2016]\n",
        "55                                        [2012, 2014, 2016]\n",
        "56                                              [2004, 2006]\n",
        "65                [2004, 2006, 2008, 2010, 2012, 2014, 2016]\n",
        "70                [2004, 2006, 2008, 2010, 2012, 2014, 2016]\n",
        "77                                              [2014, 2016]\n",
        "90                                              [2014, 2016]\n",
        "dtype: object"
       ]
      }
     ],
     "prompt_number": 412
    },
    {
     "cell_type": "heading",
     "level": 3,
     "metadata": {},
     "source": [
      "N candidaturas x N votos"
     ]
    },
    {
     "cell_type": "code",
     "collapsed": false,
     "input": [
      "base.groupby('CODIGO_CARGO')['DESCRICAO_CARGO'].unique()"
     ],
     "language": "python",
     "metadata": {},
     "outputs": [
      {
       "metadata": {},
       "output_type": "pyout",
       "prompt_number": 7,
       "text": [
        "CODIGO_CARGO\n",
        "6                 [DEPUTADO FEDERAL]\n",
        "7                [DEPUTADO ESTADUAL]\n",
        "8               [DEPUTADO DISTRITAL]\n",
        "13                        [VEREADOR]\n",
        "dtype: object"
       ]
      }
     ],
     "prompt_number": 7
    },
    {
     "cell_type": "code",
     "collapsed": false,
     "input": [
      "cargo=8\n",
      "d = pd.DataFrame()\n",
      "\n",
      "m = base.loc[(base.CODIGO_SEXO==2)&(base.CODIGO_CARGO.isin([cargo]))]\n",
      "d['N_CAND_MASC'] = m.groupby('ANO_ELEICAO').size()\n",
      "d['N_VOTOS_MASC'] = m.groupby('ANO_ELEICAO')['TOTAL_VOTOS'].sum()\n",
      "d['VOTOS_POR_CAND_MASC'] = d['N_VOTOS_MASC'] / d['N_CAND_MASC']\n",
      "\n",
      "m = base.loc[(base.CODIGO_SEXO==4)&(base.CODIGO_CARGO.isin([cargo]))]\n",
      "d['N_CAND_FEM'] = m.groupby('ANO_ELEICAO').size()\n",
      "d['N_VOTOS_FEM'] = m.groupby('ANO_ELEICAO')['TOTAL_VOTOS'].sum()\n",
      "d['VOTOS_POR_CAND_FEM'] = d['N_VOTOS_FEM'] / d['N_CAND_FEM']\n",
      "\n",
      "#d.to_csv('tabelas/num-cand-num-votos-X-ano-sexo_DEP-DISTRITAL.csv')"
     ],
     "language": "python",
     "metadata": {},
     "outputs": [],
     "prompt_number": 8
    },
    {
     "cell_type": "code",
     "collapsed": false,
     "input": [],
     "language": "python",
     "metadata": {},
     "outputs": []
    }
   ],
   "metadata": {}
  }
 ]
}