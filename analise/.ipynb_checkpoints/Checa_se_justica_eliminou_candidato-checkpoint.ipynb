{
 "metadata": {
  "name": ""
 },
 "nbformat": 3,
 "nbformat_minor": 0,
 "worksheets": [
  {
   "cells": [
    {
     "cell_type": "code",
     "collapsed": false,
     "input": [
      "import pandas as pd\n",
      "from glob import glob"
     ],
     "language": "python",
     "metadata": {},
     "outputs": [],
     "prompt_number": 12
    },
    {
     "cell_type": "code",
     "collapsed": false,
     "input": [
      "# Carrega candidaturas suspeitas de serem fantasmas:\n",
      "# (por serem profissionais -- 25% de chance -- ou por ser selecionado por machine learning -- ~30% de chance)\n",
      "fantprof = pd.read_csv('cand-fantasmas-profissionais-2018-v01.csv',sep=';')\n",
      "xgboost  = pd.read_csv('cand-suspeitos-fantasmas-XGBoost-2018-08-26.csv',sep=';')\n",
      "selected = pd.concat([fantprof,xgboost],ignore_index=True)"
     ],
     "language": "python",
     "metadata": {},
     "outputs": [],
     "prompt_number": 4
    },
    {
     "cell_type": "code",
     "collapsed": false,
     "input": [
      "# Carrega status das candidaturas (apto, inapto, etc.):\n",
      "statusFiles = glob('../dados/consulta_cand_2018/2018-09-16/consulta_cand_2018_*.csv')\n",
      "status = pd.concat([pd.read_csv(f,sep=';',quotechar='\\\"') for f in statusFiles],ignore_index=True)"
     ],
     "language": "python",
     "metadata": {},
     "outputs": [],
     "prompt_number": 16
    },
    {
     "cell_type": "code",
     "collapsed": false,
     "input": [
      "# Seleciona candidaturas suspeitas e aptas e que s\u00e3o a deputado estadual\n",
      "# (Pois a fra\u00e7\u00e3o de fantasmas \u00e9 maior):\n",
      "fantasmasAptos = status.loc[status.NR_TITULO_ELEITORAL_CANDIDATO.isin(selected.NR_TITULO_ELEITORAL_CANDIDATO)&\n",
      "           (status.CD_SITUACAO_CANDIDATURA==12)&\n",
      "           (status.DS_CARGO=='DEPUTADO ESTADUAL')]\\\n",
      "['NR_TITULO_ELEITORAL_CANDIDATO']"
     ],
     "language": "python",
     "metadata": {},
     "outputs": [],
     "prompt_number": 47
    },
    {
     "cell_type": "code",
     "collapsed": false,
     "input": [
      "# Remove aquelas que t\u00eam propaganda no facebook e mostra 6 \u00faltimos d\u00edgitos:\n",
      "chequeiNaoEhFant = [69207590434,3140222690]\n",
      "fantasmasAptos.loc[~fantasmasAptos.isin(chequeiNaoEhFant)].astype(str).apply(lambda x: x[-6:]).values"
     ],
     "language": "python",
     "metadata": {},
     "outputs": [
      {
       "metadata": {},
       "output_type": "pyout",
       "prompt_number": 51,
       "text": [
        "array(['322461', '682437', '681422', '241805', '142674', '972666',\n",
        "       '542631', '872607', '372615', '812631', '062682', '612674',\n",
        "       '672615', '952607', '312666', '892259', '752682', '102658',\n",
        "       '592682', '382658', '762658', '482607', '792623', '261309',\n",
        "       '902690', '962674', '162623', '912666', '811023', '341350',\n",
        "       '442224', '562283', '352259', '651112', '721104', '712380',\n",
        "       '340507', '910582', '581201', '981228', '770116', '380760',\n",
        "       '950701', '370370'], dtype=object)"
       ]
      }
     ],
     "prompt_number": 51
    },
    {
     "cell_type": "code",
     "collapsed": false,
     "input": [],
     "language": "python",
     "metadata": {},
     "outputs": []
    }
   ],
   "metadata": {}
  }
 ]
}