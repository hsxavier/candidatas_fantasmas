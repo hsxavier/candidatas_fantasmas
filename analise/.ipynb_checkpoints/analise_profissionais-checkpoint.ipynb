{
 "metadata": {
  "name": ""
 },
 "nbformat": 3,
 "nbformat_minor": 0,
 "worksheets": [
  {
   "cells": [
    {
     "cell_type": "code",
     "collapsed": false,
     "input": [
      "import pandas as pd\n",
      "import numpy as np\n",
      "import matplotlib.pyplot as pl\n",
      "import sys\n",
      "import scipy.optimize as opt\n",
      "from __future__ import unicode_literals"
     ],
     "language": "python",
     "metadata": {},
     "outputs": [],
     "prompt_number": 33
    },
    {
     "cell_type": "heading",
     "level": 3,
     "metadata": {},
     "source": [
      "Carrega os dados:"
     ]
    },
    {
     "cell_type": "code",
     "collapsed": false,
     "input": [
      "BaseTypes = {'DATA_GERACAO':str,'HORA_GERACAO':str,'ANO_ELEICAO':int,\\\n",
      "            'NUM_TURNO':int,'DESCRICAO_ELEICAO':str,'SIGLA_UF':str,\\\n",
      "            'SIGLA_UE':str,'DESCRICAO_UE':str,'CODIGO_CARGO':int,\\\n",
      "            'DESCRICAO_CARGO':str,'NOME_CANDIDATO':str,'SEQUENCIAL_CANDIDATO':int,\\\n",
      "            'NUMERO_CANDIDATO':str,'CPF_CANDIDATO':str,'NOME_URNA_CANDIDATO':str,\\\n",
      "            'COD_SITUACAO_CANDIDATURA':int,'DES_SITUACAO_CANDIDATURA':str,\\\n",
      "            'NUMERO_PARTIDO':int,'SIGLA_PARTIDO':str,'NOME_PARTIDO':str,\\\n",
      "            'CODIGO_LEGENDA':int,'SIGLA_LEGENDA':str,'COMPOSICAO_LEGENDA':str,\\\n",
      "            'NOME_LEGENDA':str,'CODIGO_OCUPACAO':int,'DESCRICAO_OCUPACAO':str,\\\n",
      "            'DATA_NASCIMENTO':str,'NUM_TITULO_ELEITORAL_CANDIDATO':str,\\\n",
      "            'IDADE_DATA_ELEICAO':int,'CODIGO_SEXO':int,'DESCRICAO_SEXO':str,\\\n",
      "            'COD_GRAU_INSTRUCAO':int,'DESCRICAO_GRAU_INSTRUCAO':str,\\\n",
      "            'CODIGO_ESTADO_CIVIL':int,'DESCRICAO_ESTADO_CIVIL':str,\\\n",
      "            'CODIGO_COR_RACA':int,'DESCRICAO_COR_RACA':str,\\\n",
      "            'CODIGO_NACIONALIDADE':int,'DESCRICAO_NACIONALIDADE':str,\\\n",
      "            'SIGLA_UF_NASCIMENTO':str,'CODIGO_MUNICIPIO_NASCIMENTO':int,\\\n",
      "            'NOME_MUNICIPIO_NASCIMENTO':str,'DESPESA_MAX_CAMPANHA':float,\\\n",
      "            'COD_SIT_TOT_TURNO':str,'DESC_SIT_TOT_TURNO':str,'NM_EMAIL':str,\\\n",
      "            'TOTAL_VOTOS':float}"
     ],
     "language": "python",
     "metadata": {},
     "outputs": [],
     "prompt_number": 2
    },
    {
     "cell_type": "code",
     "collapsed": false,
     "input": [
      "base = pd.read_csv('../dados/concatenados/completa+bens.csv',sep='>')"
     ],
     "language": "python",
     "metadata": {},
     "outputs": [
      {
       "output_type": "stream",
       "stream": "stderr",
       "text": [
        "/usr/lib/python2.7/dist-packages/pandas/io/parsers.py:1070: DtypeWarning: Columns (12,14,25,35) have mixed types. Specify dtype option on import or set low_memory=False.\n",
        "  data = self._reader.read(nrows)\n"
       ]
      }
     ],
     "prompt_number": 3
    },
    {
     "cell_type": "code",
     "collapsed": false,
     "input": [
      "base.columns"
     ],
     "language": "python",
     "metadata": {},
     "outputs": [
      {
       "metadata": {},
       "output_type": "pyout",
       "prompt_number": 4,
       "text": [
        "Index([u'ANO_ELEICAO', u'CODIGO_CARGO', u'CODIGO_COR_RACA', u'CODIGO_ESTADO_CIVIL', u'CODIGO_LEGENDA', u'CODIGO_NACIONALIDADE', u'CODIGO_OCUPACAO', u'CODIGO_SEXO', u'COD_GRAU_INSTRUCAO', u'COD_SITUACAO_CANDIDATURA', u'COD_SIT_TOT_TURNO', u'COMPOSICAO_LEGENDA', u'CPF_CANDIDATO', u'DESCRICAO_CARGO', u'DESCRICAO_COR_RACA', u'DESCRICAO_ESTADO_CIVIL', u'DESCRICAO_GRAU_INSTRUCAO', u'DESCRICAO_NACIONALIDADE', u'DESCRICAO_OCUPACAO', u'DESCRICAO_SEXO', u'DESCRICAO_UE', u'DESC_SIT_TOT_TURNO', u'DESPESA_MAX_CAMPANHA', u'DES_SITUACAO_CANDIDATURA', u'IDADE_DATA_ELEICAO', u'NM_EMAIL', u'NOME_CANDIDATO', u'NOME_MUNICIPIO_NASCIMENTO', u'NOME_URNA_CANDIDATO', u'NUMERO_BENS', u'NUMERO_CANDIDATO', u'NUMERO_PARTIDO', u'NUM_TITULO_ELEITORAL_CANDIDATO', u'SEQUENCIAL_CANDIDATO', u'SIGLA_PARTIDO', u'SIGLA_UE', u'SIGLA_UF', u'SIGLA_UF_NASCIMENTO', u'VALOR_BEM', u'DESCRICAO_CATEGORIA', u'TAMANHO_NOME', u'TAMANHO_NOME_URNA', u'TAMANHO_LEGENDA', u'NUM_ELEICOES_ANTERIORES', u'TOTAL_VOTOS_ANTERIORES', u'TOTAL_VOTOS'], dtype='object')"
       ]
      }
     ],
     "prompt_number": 4
    },
    {
     "cell_type": "heading",
     "level": 3,
     "metadata": {},
     "source": [
      "Novos indicadores, calculados a partir de colunas originais (foram primeiro estudados mais abaixo)"
     ]
    },
    {
     "cell_type": "code",
     "collapsed": false,
     "input": [
      "NumNomesUrna = base.NOME_URNA_CANDIDATO.astype(str).str.split().apply(lambda x:len(x)).values\n",
      "NumNomesCand = base.NOME_CANDIDATO.astype(str).str.split().apply(lambda x:len(x)).values"
     ],
     "language": "python",
     "metadata": {},
     "outputs": [],
     "prompt_number": 4
    },
    {
     "cell_type": "code",
     "collapsed": false,
     "input": [
      "TamanhoColigacao = base.COMPOSICAO_LEGENDA.apply(lambda x: x.count('/')+1)"
     ],
     "language": "python",
     "metadata": {},
     "outputs": [],
     "prompt_number": 5
    },
    {
     "cell_type": "code",
     "collapsed": false,
     "input": [
      "CategProfis = pd.read_csv('profissoes.txt',sep=';')\n",
      "ProfisDic = {prof:cat for prof,cat in zip(CategProfis.PROFISSAO.values,CategProfis.CATEGORIA.values)}\n",
      "Categoria = base['DESCRICAO_OCUPACAO'].map(ProfisDic)"
     ],
     "language": "python",
     "metadata": {},
     "outputs": [],
     "prompt_number": 6
    },
    {
     "cell_type": "code",
     "collapsed": false,
     "input": [
      "# N\u00famero de votos em elei\u00e7\u00f5es anteriores:\n",
      "base['NUM_TITULO_ELEITORAL_CANDIDATO'] = \\\n",
      "base.NUM_TITULO_ELEITORAL_CANDIDATO.astype(str).str.replace(' ','').str.replace('#NI#','-1').astype(int)\n",
      "ByTitEleitor = base.groupby('NUM_TITULO_ELEITORAL_CANDIDATO')\n",
      "def NumPrevElections(candidate, year):\n",
      "    return np.sum((ByTitEleitor.get_group(candidate)['ANO_ELEICAO']<year).astype(int))\n",
      "def PrevVotes(candidate, year):\n",
      "    temp = ByTitEleitor.get_group(candidate)\n",
      "    return np.sum(temp.loc[temp.ANO_ELEICAO<year].TOTAL_VOTOS)"
     ],
     "language": "python",
     "metadata": {},
     "outputs": [],
     "prompt_number": 7
    },
    {
     "cell_type": "code",
     "collapsed": false,
     "input": [
      "NumEleicoesAntes = base[['NUM_TITULO_ELEITORAL_CANDIDATO','ANO_ELEICAO']].apply(lambda x: NumPrevElections(*x), axis=1)"
     ],
     "language": "python",
     "metadata": {},
     "outputs": [],
     "prompt_number": 8
    },
    {
     "cell_type": "code",
     "collapsed": false,
     "input": [
      "NumVotosAntes = base[['NUM_TITULO_ELEITORAL_CANDIDATO','ANO_ELEICAO']].apply(lambda x: PrevVotes(*x), axis=1)"
     ],
     "language": "python",
     "metadata": {},
     "outputs": [],
     "prompt_number": 9
    },
    {
     "cell_type": "code",
     "collapsed": false,
     "input": [
      "base.insert(loc=len(base.columns)-1, column='DESCRICAO_CATEGORIA', value=Categoria)\n",
      "base.insert(loc=len(base.columns)-1, column='TAMANHO_NOME', value=NumNomesCand)\n",
      "base.insert(loc=len(base.columns)-1, column='TAMANHO_NOME_URNA', value=NumNomesUrna)\n",
      "base.insert(loc=len(base.columns)-1, column='TAMANHO_LEGENDA', value=TamanhoColigacao)"
     ],
     "language": "python",
     "metadata": {},
     "outputs": [],
     "prompt_number": 10
    },
    {
     "cell_type": "code",
     "collapsed": false,
     "input": [
      "base.insert(loc=len(base.columns)-1, column='NUM_ELEICOES_ANTERIORES', value=NumEleicoesAntes)\n",
      "base.insert(loc=len(base.columns)-1, column='TOTAL_VOTOS_ANTERIORES', value=NumVotosAntes)"
     ],
     "language": "python",
     "metadata": {},
     "outputs": [],
     "prompt_number": 11
    },
    {
     "cell_type": "code",
     "collapsed": false,
     "input": [
      "base.to_csv('../dados/concatenados/completa+calculadas.csv', sep='>')"
     ],
     "language": "python",
     "metadata": {},
     "outputs": [],
     "prompt_number": 22
    },
    {
     "cell_type": "heading",
     "level": 3,
     "metadata": {},
     "source": [
      "Cria\u00e7\u00e3o de tabelas de c\u00f3digos"
     ]
    },
    {
     "cell_type": "code",
     "collapsed": false,
     "input": [
      "CodDescDict = {}\n",
      "CodDescDict['CODIGO_CARGO'] = \\\n",
      "base.groupby('CODIGO_CARGO')['DESCRICAO_CARGO'].unique().str[0].to_dict()\n",
      "CodDescDict['CODIGO_COR_RACA'] = \\\n",
      "base.groupby('CODIGO_COR_RACA')['DESCRICAO_COR_RACA'].unique().str[0].to_dict()\n",
      "CodDescDict['CODIGO_ESTADO_CIVIL'] = \\\n",
      "base.groupby('CODIGO_ESTADO_CIVIL')['DESCRICAO_ESTADO_CIVIL'].unique().str[0].to_dict()\n",
      "CodDescDict['CODIGO_NACIONALIDADE'] = \\\n",
      "base.groupby('CODIGO_NACIONALIDADE')['DESCRICAO_NACIONALIDADE'].unique().str[0].to_dict()\n",
      "CodDescDict['CODIGO_SEXO'] = \\\n",
      "base.groupby('CODIGO_SEXO')['DESCRICAO_SEXO'].unique().str[0].to_dict()\n",
      "CodDescDict['COD_GRAU_INSTRUCAO'] = \\\n",
      "base.groupby('COD_GRAU_INSTRUCAO')['DESCRICAO_GRAU_INSTRUCAO'].unique().str[0].to_dict()\n",
      "CodDescDict['COD_SITUACAO_CANDIDATURA'] = \\\n",
      "base.groupby('COD_SITUACAO_CANDIDATURA')['DES_SITUACAO_CANDIDATURA'].unique().str[-1].to_dict()\n",
      "CodDescDict['NUMERO_PARTIDO'] = \\\n",
      "base.groupby('NUMERO_PARTIDO')['SIGLA_PARTIDO'].unique().str[-1].to_dict()"
     ],
     "language": "python",
     "metadata": {},
     "outputs": [],
     "prompt_number": 95
    },
    {
     "cell_type": "heading",
     "level": 3,
     "metadata": {},
     "source": [
      "Candidatos sem registro de votos"
     ]
    },
    {
     "cell_type": "code",
     "collapsed": false,
     "input": [
      "semvotos = base.loc[(base.TOTAL_VOTOS.isnull())]"
     ],
     "language": "python",
     "metadata": {},
     "outputs": [],
     "prompt_number": 3
    },
    {
     "cell_type": "code",
     "collapsed": false,
     "input": [
      "semvotos.groupby('ANO_ELEICAO').NUM_TITULO_ELEITORAL_CANDIDATO.nunique()"
     ],
     "language": "python",
     "metadata": {},
     "outputs": [
      {
       "metadata": {},
       "output_type": "pyout",
       "prompt_number": 4,
       "text": [
        "ANO_ELEICAO\n",
        "2004           7764\n",
        "2006             69\n",
        "2008           5717\n",
        "2010             75\n",
        "2012              6\n",
        "2014              1\n",
        "2016            100\n",
        "dtype: int64"
       ]
      }
     ],
     "prompt_number": 4
    },
    {
     "cell_type": "code",
     "collapsed": false,
     "input": [
      "semvotos.groupby('DESCRICAO_CARGO').NUM_TITULO_ELEITORAL_CANDIDATO.nunique()"
     ],
     "language": "python",
     "metadata": {},
     "outputs": [
      {
       "metadata": {},
       "output_type": "pyout",
       "prompt_number": 5,
       "text": [
        "DESCRICAO_CARGO\n",
        "DEPUTADO DISTRITAL       13\n",
        "DEPUTADO ESTADUAL       108\n",
        "DEPUTADO FEDERAL         24\n",
        "VEREADOR              13568\n",
        "dtype: int64"
       ]
      }
     ],
     "prompt_number": 5
    },
    {
     "cell_type": "code",
     "collapsed": false,
     "input": [
      "semvotos.groupby('DESCRICAO_SEXO').NUM_TITULO_ELEITORAL_CANDIDATO.nunique()"
     ],
     "language": "python",
     "metadata": {},
     "outputs": [
      {
       "metadata": {},
       "output_type": "pyout",
       "prompt_number": 6,
       "text": [
        "DESCRICAO_SEXO\n",
        "FEMININO          5586\n",
        "MASCULINO         8125\n",
        "N\u00c3O INFORMADO        3\n",
        "dtype: int64"
       ]
      }
     ],
     "prompt_number": 6
    },
    {
     "cell_type": "code",
     "collapsed": false,
     "input": [
      "semvotos.groupby('DES_SITUACAO_CANDIDATURA').NUM_TITULO_ELEITORAL_CANDIDATO.nunique()"
     ],
     "language": "python",
     "metadata": {},
     "outputs": [
      {
       "metadata": {},
       "output_type": "pyout",
       "prompt_number": 7,
       "text": [
        "DES_SITUACAO_CANDIDATURA\n",
        "DEFERIDO                    11362\n",
        "DEFERIDO COM RECURSO           23\n",
        "INDEFERIDO COM RECURSO       1058\n",
        "SUB JUDICE                   1271\n",
        "dtype: int64"
       ]
      }
     ],
     "prompt_number": 7
    },
    {
     "cell_type": "code",
     "collapsed": false,
     "input": [
      "semvotos.groupby('DESC_SIT_TOT_TURNO').NUM_TITULO_ELEITORAL_CANDIDATO.nunique()"
     ],
     "language": "python",
     "metadata": {},
     "outputs": [
      {
       "metadata": {},
       "output_type": "pyout",
       "prompt_number": 8,
       "text": [
        "DESC_SIT_TOT_TURNO\n",
        "#NE#                                                35\n",
        "#NULO#                                            1021\n",
        "ELEITO                                              17\n",
        "ELEITO POR QP                                        2\n",
        "INDEFERIDO COM RECURSO                            1008\n",
        "M\u00c9DIA                                               10\n",
        "N\u00c3O ELEITO                                        3027\n",
        "REGISTRO NEGADO ANTES DA ELEI\u00c7\u00c3O                   767\n",
        "REGISTRO NEGADO AP\u00d3S A ELEI\u00c7\u00c3O                     100\n",
        "REN\u00daNCIA/FALECIMENTO/CASSA\u00c7\u00c3O ANTES DA ELEI\u00c7\u00c3O     489\n",
        "REN\u00daNCIA/FALECIMENTO/CASSA\u00c7\u00c3O AP\u00d3S A ELEI\u00c7\u00c3O        39\n",
        "SUPLENTE                                          7203\n",
        "dtype: int64"
       ]
      }
     ],
     "prompt_number": 8
    },
    {
     "cell_type": "code",
     "collapsed": false,
     "input": [
      "# Os candidatos sem votos s\u00e3o aqueles que n\u00e3o aparecem nos arquivos de votacao da \n",
      "# justi\u00e7a eleitoral. Porque eles n\u00e3o aparecem, eu n\u00e3o sei: a incid\u00eancia desse tipo \n",
      "# de candidato \u00e9 igual para ambos os sexos (como vemos acima e abaixo) e eles \n",
      "# apresentam todas as situa\u00e7\u00f5es de candidatura e totaliza\u00e7\u00e3o de votos (veja acima).\n",
      "# Acho que a melhor hip\u00f3tese \u00e9 de erros na base de dados da justi\u00e7a eleitoral."
     ],
     "language": "python",
     "metadata": {},
     "outputs": []
    },
    {
     "cell_type": "code",
     "collapsed": false,
     "input": [
      "semvotos.loc[semvotos.ANO_ELEICAO>2009].groupby('DESCRICAO_SEXO').NUM_TITULO_ELEITORAL_CANDIDATO.nunique()"
     ],
     "language": "python",
     "metadata": {},
     "outputs": [
      {
       "metadata": {},
       "output_type": "pyout",
       "prompt_number": 15,
       "text": [
        "DESCRICAO_SEXO\n",
        "FEMININO          83\n",
        "MASCULINO         99\n",
        "dtype: int64"
       ]
      }
     ],
     "prompt_number": 15
    },
    {
     "cell_type": "heading",
     "level": 3,
     "metadata": {},
     "source": [
      "Busca de candidaturas fantasmas profissionais:"
     ]
    },
    {
     "cell_type": "code",
     "collapsed": false,
     "input": [
      "# A ideia \u00e9 que assumiremos que candidaturas fantasmas profissinais s\u00e3o aquelas que aparecem\n",
      "# com zero votos em mais de um ano. Abaixo, vamos selecionar as candidaturas com zero votos:"
     ],
     "language": "python",
     "metadata": {},
     "outputs": []
    },
    {
     "cell_type": "code",
     "collapsed": false,
     "input": [
      "zero = base.loc[(base.TOTAL_VOTOS==0)]\n",
      "anos = [2004,2006,2008,2010,2012,2014,2016]"
     ],
     "language": "python",
     "metadata": {},
     "outputs": [],
     "prompt_number": 52
    },
    {
     "cell_type": "code",
     "collapsed": false,
     "input": [
      "# Abaixo mostramos como NOMES, CPFs, e T\u00cdTULOS DE ELEITOR com zero votos se repetem quando \n",
      "# comparamos dois anos diferentes. A lei que obriga 30% de candidaturas de cada sexo entrou \n",
      "# em vigor na elei\u00e7\u00e3o de 2010. Podemos notar nas tabelas abaixo que:\n",
      "# -- A partir de 2010, n\u00e3o s\u00f3 o n\u00famero de candidatos com zero votos cresce bastante (veja a diagonal)\n",
      "#    como o n\u00famero de repeti\u00e7\u00f5es entre anos tamb\u00e9m. Vale a pena notar que as elei\u00e7\u00f5es de \n",
      "#    2004, 2008, 2012, e 2016 s\u00e3o para vereadores e o n\u00famero total de candidatos (com qualquer\n",
      "#    n\u00famero de votos) \u00e9 maior que nas elei\u00e7\u00f5es de 2006, 2010 e 2014, que s\u00e3o para deputados."
     ],
     "language": "python",
     "metadata": {},
     "outputs": []
    },
    {
     "cell_type": "code",
     "collapsed": false,
     "input": [
      "# Repeti\u00e7\u00f5es de NOMES:"
     ],
     "language": "python",
     "metadata": {},
     "outputs": []
    },
    {
     "cell_type": "code",
     "collapsed": false,
     "input": [
      "pd.DataFrame([[len(list(set(zero.loc[zero.ANO_ELEICAO==a].NOME_CANDIDATO) &\\\n",
      "         set(zero.loc[zero.ANO_ELEICAO==b].NOME_CANDIDATO))) for a in anos] for b in anos], columns=anos, index=anos)"
     ],
     "language": "python",
     "metadata": {},
     "outputs": [
      {
       "html": [
        "<div style=\"max-height:1000px;max-width:1500px;overflow:auto;\">\n",
        "<table border=\"1\" class=\"dataframe\">\n",
        "  <thead>\n",
        "    <tr style=\"text-align: right;\">\n",
        "      <th></th>\n",
        "      <th>2004</th>\n",
        "      <th>2006</th>\n",
        "      <th>2008</th>\n",
        "      <th>2010</th>\n",
        "      <th>2012</th>\n",
        "      <th>2014</th>\n",
        "      <th>2016</th>\n",
        "    </tr>\n",
        "  </thead>\n",
        "  <tbody>\n",
        "    <tr>\n",
        "      <th>2004</th>\n",
        "      <td> 0</td>\n",
        "      <td> 0</td>\n",
        "      <td>  0</td>\n",
        "      <td>  0</td>\n",
        "      <td>     0</td>\n",
        "      <td>   0</td>\n",
        "      <td>     0</td>\n",
        "    </tr>\n",
        "    <tr>\n",
        "      <th>2006</th>\n",
        "      <td> 0</td>\n",
        "      <td> 0</td>\n",
        "      <td>  0</td>\n",
        "      <td>  0</td>\n",
        "      <td>     0</td>\n",
        "      <td>   0</td>\n",
        "      <td>     0</td>\n",
        "    </tr>\n",
        "    <tr>\n",
        "      <th>2008</th>\n",
        "      <td> 0</td>\n",
        "      <td> 0</td>\n",
        "      <td> 25</td>\n",
        "      <td>  0</td>\n",
        "      <td>     2</td>\n",
        "      <td>   0</td>\n",
        "      <td>     0</td>\n",
        "    </tr>\n",
        "    <tr>\n",
        "      <th>2010</th>\n",
        "      <td> 0</td>\n",
        "      <td> 0</td>\n",
        "      <td>  0</td>\n",
        "      <td> 59</td>\n",
        "      <td>     1</td>\n",
        "      <td>   2</td>\n",
        "      <td>     0</td>\n",
        "    </tr>\n",
        "    <tr>\n",
        "      <th>2012</th>\n",
        "      <td> 0</td>\n",
        "      <td> 0</td>\n",
        "      <td>  2</td>\n",
        "      <td>  1</td>\n",
        "      <td> 24598</td>\n",
        "      <td>   2</td>\n",
        "      <td>   952</td>\n",
        "    </tr>\n",
        "    <tr>\n",
        "      <th>2014</th>\n",
        "      <td> 0</td>\n",
        "      <td> 0</td>\n",
        "      <td>  0</td>\n",
        "      <td>  2</td>\n",
        "      <td>     2</td>\n",
        "      <td> 106</td>\n",
        "      <td>     2</td>\n",
        "    </tr>\n",
        "    <tr>\n",
        "      <th>2016</th>\n",
        "      <td> 0</td>\n",
        "      <td> 0</td>\n",
        "      <td>  0</td>\n",
        "      <td>  0</td>\n",
        "      <td>   952</td>\n",
        "      <td>   2</td>\n",
        "      <td> 17818</td>\n",
        "    </tr>\n",
        "  </tbody>\n",
        "</table>\n",
        "<p>7 rows \u00d7 7 columns</p>\n",
        "</div>"
       ],
       "metadata": {},
       "output_type": "pyout",
       "prompt_number": 4,
       "text": [
        "      2004  2006  2008  2010   2012  2014   2016\n",
        "2004     0     0     0     0      0     0      0\n",
        "2006     0     0     0     0      0     0      0\n",
        "2008     0     0    25     0      2     0      0\n",
        "2010     0     0     0    59      1     2      0\n",
        "2012     0     0     2     1  24598     2    952\n",
        "2014     0     0     0     2      2   106      2\n",
        "2016     0     0     0     0    952     2  17818\n",
        "\n",
        "[7 rows x 7 columns]"
       ]
      }
     ],
     "prompt_number": 4
    },
    {
     "cell_type": "code",
     "collapsed": false,
     "input": [
      "# Repeti\u00e7\u00f5es de CPFs:"
     ],
     "language": "python",
     "metadata": {},
     "outputs": []
    },
    {
     "cell_type": "code",
     "collapsed": false,
     "input": [
      "pd.DataFrame([[len(list(set(zero.loc[zero.ANO_ELEICAO==a].CPF_CANDIDATO.astype(str)) &\\\n",
      "         set(zero.loc[zero.ANO_ELEICAO==b].CPF_CANDIDATO.astype(str)))) for a in anos] for b in anos], columns=anos, index=anos)"
     ],
     "language": "python",
     "metadata": {},
     "outputs": [
      {
       "html": [
        "<div style=\"max-height:1000px;max-width:1500px;overflow:auto;\">\n",
        "<table border=\"1\" class=\"dataframe\">\n",
        "  <thead>\n",
        "    <tr style=\"text-align: right;\">\n",
        "      <th></th>\n",
        "      <th>2004</th>\n",
        "      <th>2006</th>\n",
        "      <th>2008</th>\n",
        "      <th>2010</th>\n",
        "      <th>2012</th>\n",
        "      <th>2014</th>\n",
        "      <th>2016</th>\n",
        "    </tr>\n",
        "  </thead>\n",
        "  <tbody>\n",
        "    <tr>\n",
        "      <th>2004</th>\n",
        "      <td> 0</td>\n",
        "      <td> 0</td>\n",
        "      <td>  0</td>\n",
        "      <td>  0</td>\n",
        "      <td>     0</td>\n",
        "      <td>   0</td>\n",
        "      <td>     0</td>\n",
        "    </tr>\n",
        "    <tr>\n",
        "      <th>2006</th>\n",
        "      <td> 0</td>\n",
        "      <td> 0</td>\n",
        "      <td>  0</td>\n",
        "      <td>  0</td>\n",
        "      <td>     0</td>\n",
        "      <td>   0</td>\n",
        "      <td>     0</td>\n",
        "    </tr>\n",
        "    <tr>\n",
        "      <th>2008</th>\n",
        "      <td> 0</td>\n",
        "      <td> 0</td>\n",
        "      <td> 25</td>\n",
        "      <td>  0</td>\n",
        "      <td>     2</td>\n",
        "      <td>   0</td>\n",
        "      <td>     0</td>\n",
        "    </tr>\n",
        "    <tr>\n",
        "      <th>2010</th>\n",
        "      <td> 0</td>\n",
        "      <td> 0</td>\n",
        "      <td>  0</td>\n",
        "      <td> 59</td>\n",
        "      <td>     1</td>\n",
        "      <td>   2</td>\n",
        "      <td>     0</td>\n",
        "    </tr>\n",
        "    <tr>\n",
        "      <th>2012</th>\n",
        "      <td> 0</td>\n",
        "      <td> 0</td>\n",
        "      <td>  2</td>\n",
        "      <td>  1</td>\n",
        "      <td> 24751</td>\n",
        "      <td>   0</td>\n",
        "      <td>  1029</td>\n",
        "    </tr>\n",
        "    <tr>\n",
        "      <th>2014</th>\n",
        "      <td> 0</td>\n",
        "      <td> 0</td>\n",
        "      <td>  0</td>\n",
        "      <td>  2</td>\n",
        "      <td>     0</td>\n",
        "      <td> 106</td>\n",
        "      <td>     2</td>\n",
        "    </tr>\n",
        "    <tr>\n",
        "      <th>2016</th>\n",
        "      <td> 0</td>\n",
        "      <td> 0</td>\n",
        "      <td>  0</td>\n",
        "      <td>  0</td>\n",
        "      <td>  1029</td>\n",
        "      <td>   2</td>\n",
        "      <td> 17885</td>\n",
        "    </tr>\n",
        "  </tbody>\n",
        "</table>\n",
        "<p>7 rows \u00d7 7 columns</p>\n",
        "</div>"
       ],
       "metadata": {},
       "output_type": "pyout",
       "prompt_number": 5,
       "text": [
        "      2004  2006  2008  2010   2012  2014   2016\n",
        "2004     0     0     0     0      0     0      0\n",
        "2006     0     0     0     0      0     0      0\n",
        "2008     0     0    25     0      2     0      0\n",
        "2010     0     0     0    59      1     2      0\n",
        "2012     0     0     2     1  24751     0   1029\n",
        "2014     0     0     0     2      0   106      2\n",
        "2016     0     0     0     0   1029     2  17885\n",
        "\n",
        "[7 rows x 7 columns]"
       ]
      }
     ],
     "prompt_number": 5
    },
    {
     "cell_type": "code",
     "collapsed": false,
     "input": [
      "# Repeti\u00e7\u00f5es de T\u00cdTULOS DE ELEITOR:"
     ],
     "language": "python",
     "metadata": {},
     "outputs": []
    },
    {
     "cell_type": "code",
     "collapsed": false,
     "input": [
      "pd.DataFrame([[len(list(set(zero.loc[zero.ANO_ELEICAO==a].NUM_TITULO_ELEITORAL_CANDIDATO.astype(int)) &\\\n",
      "         set(zero.loc[zero.ANO_ELEICAO==b].NUM_TITULO_ELEITORAL_CANDIDATO.astype(int)))) \\\n",
      "               for a in anos] for b in anos], columns=anos, index=anos)"
     ],
     "language": "python",
     "metadata": {},
     "outputs": [
      {
       "html": [
        "<div style=\"max-height:1000px;max-width:1500px;overflow:auto;\">\n",
        "<table border=\"1\" class=\"dataframe\">\n",
        "  <thead>\n",
        "    <tr style=\"text-align: right;\">\n",
        "      <th></th>\n",
        "      <th>2004</th>\n",
        "      <th>2006</th>\n",
        "      <th>2008</th>\n",
        "      <th>2010</th>\n",
        "      <th>2012</th>\n",
        "      <th>2014</th>\n",
        "      <th>2016</th>\n",
        "    </tr>\n",
        "  </thead>\n",
        "  <tbody>\n",
        "    <tr>\n",
        "      <th>2004</th>\n",
        "      <td> 0</td>\n",
        "      <td> 0</td>\n",
        "      <td>  0</td>\n",
        "      <td>  0</td>\n",
        "      <td>     0</td>\n",
        "      <td>   0</td>\n",
        "      <td>     0</td>\n",
        "    </tr>\n",
        "    <tr>\n",
        "      <th>2006</th>\n",
        "      <td> 0</td>\n",
        "      <td> 0</td>\n",
        "      <td>  0</td>\n",
        "      <td>  0</td>\n",
        "      <td>     0</td>\n",
        "      <td>   0</td>\n",
        "      <td>     0</td>\n",
        "    </tr>\n",
        "    <tr>\n",
        "      <th>2008</th>\n",
        "      <td> 0</td>\n",
        "      <td> 0</td>\n",
        "      <td> 25</td>\n",
        "      <td>  0</td>\n",
        "      <td>     2</td>\n",
        "      <td>   0</td>\n",
        "      <td>     0</td>\n",
        "    </tr>\n",
        "    <tr>\n",
        "      <th>2010</th>\n",
        "      <td> 0</td>\n",
        "      <td> 0</td>\n",
        "      <td>  0</td>\n",
        "      <td> 59</td>\n",
        "      <td>     1</td>\n",
        "      <td>   2</td>\n",
        "      <td>     0</td>\n",
        "    </tr>\n",
        "    <tr>\n",
        "      <th>2012</th>\n",
        "      <td> 0</td>\n",
        "      <td> 0</td>\n",
        "      <td>  2</td>\n",
        "      <td>  1</td>\n",
        "      <td> 24751</td>\n",
        "      <td>   0</td>\n",
        "      <td>  1028</td>\n",
        "    </tr>\n",
        "    <tr>\n",
        "      <th>2014</th>\n",
        "      <td> 0</td>\n",
        "      <td> 0</td>\n",
        "      <td>  0</td>\n",
        "      <td>  2</td>\n",
        "      <td>     0</td>\n",
        "      <td> 106</td>\n",
        "      <td>     2</td>\n",
        "    </tr>\n",
        "    <tr>\n",
        "      <th>2016</th>\n",
        "      <td> 0</td>\n",
        "      <td> 0</td>\n",
        "      <td>  0</td>\n",
        "      <td>  0</td>\n",
        "      <td>  1028</td>\n",
        "      <td>   2</td>\n",
        "      <td> 17885</td>\n",
        "    </tr>\n",
        "  </tbody>\n",
        "</table>\n",
        "<p>7 rows \u00d7 7 columns</p>\n",
        "</div>"
       ],
       "metadata": {},
       "output_type": "pyout",
       "prompt_number": 6,
       "text": [
        "      2004  2006  2008  2010   2012  2014   2016\n",
        "2004     0     0     0     0      0     0      0\n",
        "2006     0     0     0     0      0     0      0\n",
        "2008     0     0    25     0      2     0      0\n",
        "2010     0     0     0    59      1     2      0\n",
        "2012     0     0     2     1  24751     0   1028\n",
        "2014     0     0     0     2      0   106      2\n",
        "2016     0     0     0     0   1028     2  17885\n",
        "\n",
        "[7 rows x 7 columns]"
       ]
      }
     ],
     "prompt_number": 6
    },
    {
     "cell_type": "code",
     "collapsed": false,
     "input": [
      "# Abaixo n\u00f3s selecionamos as entradas (candidaturas) na base de dados com zero votos \n",
      "# que aparecem em 2016 (elei\u00e7\u00f5es municipais) E em qualquer outro ano.\n",
      "# Esses s\u00e3o os candidatos fantasmas profissionais de 2016."
     ],
     "language": "python",
     "metadata": {},
     "outputs": []
    },
    {
     "cell_type": "code",
     "collapsed": false,
     "input": [
      "profis16CPF = list(set(zero.loc[zero.ANO_ELEICAO==2016].CPF_CANDIDATO.astype(str)) & \\\n",
      "                  set(zero.loc[zero.ANO_ELEICAO!=2016].CPF_CANDIDATO.astype(str)))\n",
      "profis16Tit = list(set(zero.loc[zero.ANO_ELEICAO==2016].NUM_TITULO_ELEITORAL_CANDIDATO.astype(int)) & \\\n",
      "                  set(zero.loc[zero.ANO_ELEICAO!=2016].NUM_TITULO_ELEITORAL_CANDIDATO.astype(int)))\n",
      "profis16 = zero.loc[(zero.ANO_ELEICAO==2016) & ((zero.CPF_CANDIDATO.astype(str).isin(profis16CPF)) | \\\n",
      "                                                (zero.NUM_TITULO_ELEITORAL_CANDIDATO.astype(int).isin(profis16Tit)))]\n",
      "print len(profis16)"
     ],
     "language": "python",
     "metadata": {},
     "outputs": [
      {
       "output_type": "stream",
       "stream": "stdout",
       "text": [
        "1031\n"
       ]
      }
     ],
     "prompt_number": 7
    },
    {
     "cell_type": "code",
     "collapsed": false,
     "input": [
      "# Abaixo n\u00f3s selecionamos as entradas (candidaturas) na base de dados com zero votos \n",
      "# que aparecem em 2014 (elei\u00e7\u00f5es federais e estaduais) E em qualquer outro ano.\n",
      "# Esses s\u00e3o os candidatos fantasmas profissionais de 2014."
     ],
     "language": "python",
     "metadata": {},
     "outputs": []
    },
    {
     "cell_type": "code",
     "collapsed": false,
     "input": [
      "profis14CPF = list(set(zero.loc[zero.ANO_ELEICAO==2014].CPF_CANDIDATO.astype(str)) & \\\n",
      "                  set(zero.loc[zero.ANO_ELEICAO!=2014].CPF_CANDIDATO.astype(str)))\n",
      "profis14Tit = list(set(zero.loc[zero.ANO_ELEICAO==2014].NUM_TITULO_ELEITORAL_CANDIDATO.astype(int)) & \\\n",
      "                  set(zero.loc[zero.ANO_ELEICAO!=2014].NUM_TITULO_ELEITORAL_CANDIDATO.astype(int)))\n",
      "profis14 = zero.loc[(zero.ANO_ELEICAO==2014) & ((zero.CPF_CANDIDATO.astype(str).isin(profis14CPF)) | \\\n",
      "                                                (zero.NUM_TITULO_ELEITORAL_CANDIDATO.astype(int).isin(profis14Tit)))]\n",
      "print len(profis14)"
     ],
     "language": "python",
     "metadata": {},
     "outputs": [
      {
       "output_type": "stream",
       "stream": "stdout",
       "text": [
        "4\n"
       ]
      }
     ],
     "prompt_number": 8
    },
    {
     "cell_type": "code",
     "collapsed": false,
     "input": [
      "# Podemos criar uma lista de poss\u00edveis candidatos fantasmas para 2018 simplesmente pegando todos\n",
      "# os candidatos com zero votos dos outros anos. Se eles aparecerem de novo em 2018, vale a pena\n",
      "# verificar."
     ],
     "language": "python",
     "metadata": {},
     "outputs": []
    },
    {
     "cell_type": "code",
     "collapsed": false,
     "input": [
      "# Abaixo verificamos algumas caracter\u00edsticas dos fantasmas profissionais:"
     ],
     "language": "python",
     "metadata": {},
     "outputs": []
    },
    {
     "cell_type": "code",
     "collapsed": false,
     "input": [
      "profis16.groupby('DESCRICAO_SEXO')['CPF_CANDIDATO'].nunique()"
     ],
     "language": "python",
     "metadata": {},
     "outputs": [
      {
       "metadata": {},
       "output_type": "pyout",
       "prompt_number": 9,
       "text": [
        "DESCRICAO_SEXO\n",
        "FEMININO          989\n",
        "MASCULINO          42\n",
        "dtype: int64"
       ]
      }
     ],
     "prompt_number": 9
    },
    {
     "cell_type": "code",
     "collapsed": false,
     "input": [
      "profis14.groupby('DESCRICAO_SEXO')['CPF_CANDIDATO'].nunique()"
     ],
     "language": "python",
     "metadata": {},
     "outputs": [
      {
       "metadata": {},
       "output_type": "pyout",
       "prompt_number": 10,
       "text": [
        "DESCRICAO_SEXO\n",
        "FEMININO          4\n",
        "dtype: int64"
       ]
      }
     ],
     "prompt_number": 10
    },
    {
     "cell_type": "code",
     "collapsed": false,
     "input": [
      "profis14.groupby('SIGLA_PARTIDO')['CPF_CANDIDATO'].nunique()"
     ],
     "language": "python",
     "metadata": {},
     "outputs": [
      {
       "metadata": {},
       "output_type": "pyout",
       "prompt_number": 11,
       "text": [
        "SIGLA_PARTIDO\n",
        "PC do B          1\n",
        "PEN              1\n",
        "PROS             1\n",
        "PSDC             1\n",
        "dtype: int64"
       ]
      }
     ],
     "prompt_number": 11
    },
    {
     "cell_type": "heading",
     "level": 3,
     "metadata": {},
     "source": [
      "Votos recebidos por fantasmas nas pr\u00f3ximas elei\u00e7\u00f5es"
     ]
    },
    {
     "cell_type": "code",
     "collapsed": false,
     "input": [
      "# Vamos verificar se um candidato com zero votos numa certa elei\u00e7\u00e3o volta a concorrer e,\n",
      "# quando o faz, obt\u00e9m mais votos do que o esperado por um fantasma. A id\u00e9ia \u00e9 verificar \n",
      "# quantos falsos positivos (classifica\u00e7\u00e3o de n\u00e3o-fantasmas como fantasmas) o m\u00e9todo \n",
      "# de buscar por profissionais causa."
     ],
     "language": "python",
     "metadata": {},
     "outputs": []
    },
    {
     "cell_type": "code",
     "collapsed": false,
     "input": [
      "anotest  = 2010\n",
      "candtest = zero.loc[zero.ANO_ELEICAO==anotest].NUM_TITULO_ELEITORAL_CANDIDATO.astype(int)\n",
      "proxeleicoes = base.loc[base.ANO_ELEICAO>anotest]\n",
      "posvotos = proxeleicoes.loc[(proxeleicoes.NUM_TITULO_ELEITORAL_CANDIDATO.astype(int).isin(candtest)) & \\\n",
      "                            (proxeleicoes.TOTAL_VOTOS.isnull()==False)].TOTAL_VOTOS.values\n",
      "print 'Fra\u00e7\u00e3o que N\u00c3O seria classificado como fantasma novamente: {:.1f}%'\\\n",
      ".format(float(len(posvotos[posvotos>5]))/len(posvotos)*100)"
     ],
     "language": "python",
     "metadata": {},
     "outputs": [
      {
       "output_type": "stream",
       "stream": "stdout",
       "text": [
        "Fra\u00e7\u00e3o que N\u00c3O seria classificado como fantasma novamente: 42.9%\n"
       ]
      }
     ],
     "prompt_number": 58
    },
    {
     "cell_type": "code",
     "collapsed": false,
     "input": [
      "# Vemos que esse m\u00e9todo resulta em uma alta taxa de falsos-positivos."
     ],
     "language": "python",
     "metadata": {},
     "outputs": []
    },
    {
     "cell_type": "heading",
     "level": 3,
     "metadata": {},
     "source": [
      "Determina\u00e7\u00e3o do corte de separa\u00e7\u00e3o de fantasmas (DEPUTADOS)"
     ]
    },
    {
     "cell_type": "code",
     "collapsed": false,
     "input": [
      "base.groupby('CODIGO_CARGO')['DESCRICAO_CARGO'].unique()"
     ],
     "language": "python",
     "metadata": {},
     "outputs": [
      {
       "metadata": {},
       "output_type": "pyout",
       "prompt_number": 34,
       "text": [
        "CODIGO_CARGO\n",
        "6                 [DEPUTADO FEDERAL]\n",
        "7                [DEPUTADO ESTADUAL]\n",
        "8               [DEPUTADO DISTRITAL]\n",
        "13                        [VEREADOR]\n",
        "dtype: object"
       ]
      }
     ],
     "prompt_number": 34
    },
    {
     "cell_type": "code",
     "collapsed": false,
     "input": [
      "# Vamos ignorar deputados distritais, que eu imagino terem mais caracter\u00edsticas de vereador:\n",
      "deputados = base.loc[(base.CODIGO_CARGO.isin([6,7]))]"
     ],
     "language": "python",
     "metadata": {},
     "outputs": [],
     "prompt_number": 35
    },
    {
     "cell_type": "code",
     "collapsed": false,
     "input": [
      "VotoHistCtrl = np.bincount(deputados.loc[(deputados.ANO_ELEICAO<2009) & \\\n",
      "                          (deputados.TOTAL_VOTOS.isnull()==False)].TOTAL_VOTOS.astype(int))\n",
      "VotoHist2010 = np.bincount(deputados.loc[(deputados.ANO_ELEICAO==2010) & \\\n",
      "                          (deputados.TOTAL_VOTOS.isnull()==False)].TOTAL_VOTOS.astype(int))\n",
      "VotoHist2014 = np.bincount(deputados.loc[(deputados.ANO_ELEICAO==2014) & \\\n",
      "                          (deputados.TOTAL_VOTOS.isnull()==False)].TOTAL_VOTOS.astype(int))"
     ],
     "language": "python",
     "metadata": {},
     "outputs": [],
     "prompt_number": 36
    },
    {
     "cell_type": "code",
     "collapsed": false,
     "input": [
      "# Vemos abaixo que surge um pico de votos baixos ap\u00f3s a implementa\u00e7\u00e3o da lei de 30% para cada sexo. \n",
      "# Al\u00e9m disso, a distribui\u00e7\u00e3o de votos (normalizada pelo total) parece igual nos anos 2006 e 2010, \n",
      "# mas ela muda em 2014: aparece um aumento candidatos com poucos votos (<100). Talvez isso seja \n",
      "# uma tentativa de renova\u00e7\u00e3o da pol\u00edtica ap\u00f3s os protestos de 2013?"
     ],
     "language": "python",
     "metadata": {},
     "outputs": [],
     "prompt_number": 37
    },
    {
     "cell_type": "code",
     "collapsed": false,
     "input": [
      "pl.plot(VotoHistCtrl.astype(float)/np.sum(VotoHistCtrl),'k-');\n",
      "pl.plot(VotoHist2010.astype(float)/np.sum(VotoHist2010),'b-');\n",
      "pl.plot(VotoHist2014.astype(float)/np.sum(VotoHist2014),'r-');\n",
      "pl.xlim([0,200])\n",
      "pl.xlabel(\"Numero de votos\")\n",
      "pl.ylabel(\"Fracao de candidatos\")\n",
      "#pl.ylim([0,0.001]) \n",
      "pl.show()"
     ],
     "language": "python",
     "metadata": {},
     "outputs": [],
     "prompt_number": 38
    },
    {
     "cell_type": "code",
     "collapsed": false,
     "input": [
      "# Vamos ajustar um modelo para descrever a distribui\u00e7\u00e3o de votos:"
     ],
     "language": "python",
     "metadata": {},
     "outputs": [],
     "prompt_number": 39
    },
    {
     "cell_type": "code",
     "collapsed": false,
     "input": [
      "xmax = 400\n",
      "Nvotos = np.arange(0,xmax+1)\n",
      "VotoHistTest = np.bincount(deputados.loc[(deputados.ANO_ELEICAO>2009) & \\\n",
      "                          (deputados.TOTAL_VOTOS.isnull()==False)].TOTAL_VOTOS.astype(int))\n",
      "VotoErrCtrl = np.clip(np.sqrt(VotoHistCtrl[:xmax+1]),1,None)\n",
      "VotoErrTest = np.clip(np.sqrt(VotoHistTest[:xmax+1]),1,None)"
     ],
     "language": "python",
     "metadata": {},
     "outputs": [],
     "prompt_number": 40
    },
    {
     "cell_type": "code",
     "collapsed": false,
     "input": [
      "def exponential(x,A,b):\n",
      "    return A*np.exp(b*x)\n",
      "def votomodel(x,zA,zb,A,b):\n",
      "    return exponential(x,zA,zb) + exponential(x,A,b)\n",
      "poptCtrl, pcovCtrl = opt.curve_fit(exponential,Nvotos, VotoHistCtrl[:xmax+1], p0=[12,-0.001], \\\n",
      "                                   sigma=VotoErrCtrl)\n",
      "poptTest, pcovTest = opt.curve_fit(votomodel,Nvotos, VotoHistTest[:xmax+1], p0=[12,-0.08,12,-0.001], \\\n",
      "                                   sigma=VotoErrCtrl)"
     ],
     "language": "python",
     "metadata": {},
     "outputs": [],
     "prompt_number": 41
    },
    {
     "cell_type": "code",
     "collapsed": false,
     "input": [
      "# Veja abaixo o resultado: assumimos que os votos em candidatos normais segue uma\n",
      "# exponencial suave, e que os votos em candidatos fantasmas segue uma exponencial\n",
      "# r\u00e1pida. Logo, os votos depois de 2009 seguem uma distribui\u00e7\u00e3o com contribui\u00e7\u00f5es \n",
      "# das duas exponenciais, enquanto que antes de 2009 ela segue apenas uma exponencial."
     ],
     "language": "python",
     "metadata": {},
     "outputs": [],
     "prompt_number": 42
    },
    {
     "cell_type": "code",
     "collapsed": false,
     "input": [
      "pl.errorbar(Nvotos, VotoHistCtrl[:xmax+1].astype(float)/np.sum(VotoHistCtrl), \\\n",
      "            yerr=VotoErrCtrl/np.sum(VotoHistCtrl), fmt='c.', label='Antes de 2009')\n",
      "pl.errorbar(Nvotos, VotoHistTest[:xmax+1].astype(float)/np.sum(VotoHistTest), \\\n",
      "            yerr=VotoErrTest/np.sum(VotoHistTest), fmt='y.', label='Depois de 2009')\n",
      "pl.plot(exponential(Nvotos, poptCtrl[0]/np.sum(VotoHistCtrl), poptCtrl[1]), 'b-', label='Modelo p/ antes de 2009')\n",
      "pl.plot(votomodel(Nvotos, poptTest[0]/np.sum(VotoHistTest), poptTest[1],\\\n",
      "                  poptTest[2]/np.sum(VotoHistTest), poptTest[3]), 'r-',label='Modelo p/ depois de 2009')\n",
      "pl.yscale('log')\n",
      "pl.xlim([0,100])\n",
      "pl.ylim([1e-4,1e-2])\n",
      "pl.xlabel(\"N\u00famero de votos\")\n",
      "pl.ylabel(\"Fra\u00e7\u00e3o de candidatos\")\n",
      "pl.title('Elei\u00e7\u00f5es estaduais e federais')\n",
      "pl.legend()\n",
      "pl.show()"
     ],
     "language": "python",
     "metadata": {},
     "outputs": [],
     "prompt_number": 47
    },
    {
     "cell_type": "code",
     "collapsed": false,
     "input": [
      "#pl.plot(np.ones(len(Nvotos))*FatorNovato,'k--')\n",
      "pl.plot(1 - votomodel(Nvotos, 0, 0, poptTest[2]/np.sum(VotoHistTest), poptTest[3])/\\\n",
      "        votomodel(Nvotos, poptTest[0]/np.sum(VotoHistTest), poptTest[1], \\\n",
      "                  poptTest[2]/np.sum(VotoHistTest), poptTest[3]), 'r-')\n",
      "pl.xlim([0,40])\n",
      "pl.xlabel(\"Numero de votos\")\n",
      "pl.ylabel(\"Fracao estimada de fantasmas\")\n",
      "pl.grid()\n",
      "pl.show()"
     ],
     "language": "python",
     "metadata": {},
     "outputs": [],
     "prompt_number": 44
    },
    {
     "cell_type": "code",
     "collapsed": false,
     "input": [
      "# Vemos acima que a fra\u00e7\u00e3o estimada de fantasmas \u00e9 mais que 50% para candidaturas com 5 ou menos votos. \n",
      "# Vamos utilizar esse limite para criar uma amostra de candidaturas fantasmas"
     ],
     "language": "python",
     "metadata": {},
     "outputs": [],
     "prompt_number": 112
    },
    {
     "cell_type": "heading",
     "level": 3,
     "metadata": {},
     "source": [
      "Caracter\u00edsticas dos fantasmas (DEPUTADOS com <=5 votos)"
     ]
    },
    {
     "cell_type": "code",
     "collapsed": false,
     "input": [
      "depfant = deputados.loc[(deputados.ANO_ELEICAO>2009) & (deputados.TOTAL_VOTOS<=5)]\n",
      "depnorm = deputados.loc[(deputados.ANO_ELEICAO>2009) & (deputados.TOTAL_VOTOS>5)]"
     ],
     "language": "python",
     "metadata": {},
     "outputs": [],
     "prompt_number": 7
    },
    {
     "cell_type": "code",
     "collapsed": false,
     "input": [
      "categoria = 'DESCRICAO_CATEGORIA'\n",
      "print deputados[categoria].unique()\n",
      "print \"\"\n",
      "print \"FANTASMAS:  \", depfant.groupby(categoria).size().astype(float)/\\\n",
      "np.sum(depfant.groupby(categoria).size().values)\n",
      "print \"NORMAIS:  \", depnorm.groupby(categoria).size().astype(float)/\\\n",
      "np.sum(depnorm.groupby(categoria).size().values)"
     ],
     "language": "python",
     "metadata": {},
     "outputs": [
      {
       "output_type": "stream",
       "stream": "stdout",
       "text": [
        "['funcionario' 'outros' 'politico' 'tecnico' 'batalhador' 'qualificado'\n",
        " 'servidor' 'dono' 'academico' 'empregado' 'gerente' 'precario' 'militar'\n",
        " 'artista' 'religioso']\n",
        "\n",
        "FANTASMAS:   DESCRICAO_CATEGORIA\n",
        "academico              0.021909\n",
        "artista                0.004695\n",
        "batalhador             0.211268\n",
        "dono                   0.068858\n",
        "empregado              0.032864\n",
        "funcionario            0.014085\n",
        "gerente                0.057903\n",
        "militar                0.007825\n",
        "outros                 0.353678\n",
        "politico               0.017214\n",
        "precario               0.026604\n",
        "qualificado            0.023474\n",
        "servidor               0.068858\n",
        "tecnico                0.090767\n",
        "dtype: float64\n",
        "NORMAIS:   DESCRICAO_CATEGORIA\n",
        "academico              0.016503\n",
        "artista                0.019042\n",
        "batalhador             0.106554\n",
        "dono                   0.097723\n",
        "empregado              0.025528\n",
        "funcionario            0.036567\n",
        "gerente                0.042390\n",
        "militar                0.012750\n",
        "outros                 0.198868\n",
        "politico               0.098689\n",
        "precario               0.031296\n",
        "qualificado            0.144418\n",
        "religioso              0.004250\n",
        "servidor               0.080971\n",
        "tecnico                0.084449\n",
        "dtype: float64\n"
       ]
      }
     ],
     "prompt_number": 8
    },
    {
     "cell_type": "code",
     "collapsed": false,
     "input": [
      "categoria = 'DESCRICAO_CARGO'\n",
      "print deputados[categoria].unique()\n",
      "print \"\"\n",
      "print \"FANTASMAS:  \", depfant.groupby(categoria).size().astype(float)/\\\n",
      "np.sum(depfant.groupby(categoria).size().values)\n",
      "print \"NORMAIS:  \", depnorm.groupby(categoria).size().astype(float)/\\\n",
      "np.sum(depnorm.groupby(categoria).size().values)"
     ],
     "language": "python",
     "metadata": {},
     "outputs": [
      {
       "output_type": "stream",
       "stream": "stdout",
       "text": [
        "['DEPUTADO FEDERAL' 'DEPUTADO ESTADUAL']\n",
        "\n",
        "FANTASMAS:   DESCRICAO_CARGO\n",
        "DEPUTADO ESTADUAL    0.971831\n",
        "DEPUTADO FEDERAL     0.028169\n",
        "dtype: float64\n",
        "NORMAIS:   DESCRICAO_CARGO\n",
        "DEPUTADO ESTADUAL    0.703491\n",
        "DEPUTADO FEDERAL     0.296509\n",
        "dtype: float64\n"
       ]
      }
     ],
     "prompt_number": 55
    },
    {
     "cell_type": "code",
     "collapsed": false,
     "input": [
      "categoria = 'DESCRICAO_SEXO'\n",
      "print deputados[categoria].unique()\n",
      "print \"\"\n",
      "print \"FANTASMAS:  \", depfant.groupby(categoria).size().astype(float)/\\\n",
      "np.sum(depfant.groupby(categoria).size().values)\n",
      "print \"NORMAIS:  \", depnorm.groupby(categoria).size().astype(float)/\\\n",
      "np.sum(depnorm.groupby(categoria).size().values)"
     ],
     "language": "python",
     "metadata": {},
     "outputs": [
      {
       "output_type": "stream",
       "stream": "stdout",
       "text": [
        "['MASCULINO' 'FEMININO']\n",
        "\n",
        "FANTASMAS:   DESCRICAO_SEXO\n",
        "FEMININO          0.805947\n",
        "MASCULINO         0.194053\n",
        "dtype: float64\n",
        "NORMAIS:   DESCRICAO_SEXO\n",
        "FEMININO          0.241065\n",
        "MASCULINO         0.758935\n",
        "dtype: float64\n"
       ]
      }
     ],
     "prompt_number": 22
    },
    {
     "cell_type": "code",
     "collapsed": false,
     "input": [
      "categoria = 'DESCRICAO_COR_RACA'\n",
      "print deputados[categoria].unique()\n",
      "print \"\"\n",
      "print \"FANTASMAS:  \", depfant.groupby(categoria).size().astype(float)/\\\n",
      "np.sum(depfant.groupby(categoria).size().values)\n",
      "print \"NORMAIS:  \", depnorm.groupby(categoria).size().astype(float)/\\\n",
      "np.sum(depnorm.groupby(categoria).size().values)"
     ],
     "language": "python",
     "metadata": {},
     "outputs": [
      {
       "output_type": "stream",
       "stream": "stdout",
       "text": [
        "[nan 'PARDA' 'PRETA' 'BRANCA' 'AMARELA' 'IND\\xc3\\x8dGENA']\n",
        "\n",
        "FANTASMAS:   DESCRICAO_COR_RACA\n",
        "AMARELA               0.004785\n",
        "BRANCA                0.409091\n",
        "IND\u00cdGENA              0.007177\n",
        "PARDA                 0.511962\n",
        "PRETA                 0.066986\n",
        "dtype: float64\n",
        "NORMAIS:   DESCRICAO_COR_RACA\n",
        "AMARELA               0.004907\n",
        "BRANCA                0.558636\n",
        "IND\u00cdGENA              0.003288\n",
        "PARDA                 0.342760\n",
        "PRETA                 0.090408\n",
        "dtype: float64\n"
       ]
      }
     ],
     "prompt_number": 23
    },
    {
     "cell_type": "code",
     "collapsed": false,
     "input": [
      "categoria = 'DESCRICAO_ESTADO_CIVIL'\n",
      "print deputados[categoria].unique()\n",
      "print \"\"\n",
      "print \"FANTASMAS:  \", depfant.groupby(categoria).size().astype(float)/\\\n",
      "np.sum(depfant.groupby(categoria).size().values)\n",
      "print \"NORMAIS:  \", depnorm.groupby(categoria).size().astype(float)/\\\n",
      "np.sum(depnorm.groupby(categoria).size().values)"
     ],
     "language": "python",
     "metadata": {},
     "outputs": [
      {
       "output_type": "stream",
       "stream": "stdout",
       "text": [
        "FANTASMAS:   DESCRICAO_COR_RACA\n",
        "AMARELA               0.004785\n",
        "BRANCA                0.409091\n",
        "IND\u00cdGENA              0.007177\n",
        "PARDA                 0.511962\n",
        "PRETA                 0.066986\n",
        "dtype: float64\n",
        "NORMAIS:   DESCRICAO_COR_RACA\n",
        "AMARELA               0.004907\n",
        "BRANCA                0.558636\n",
        "IND\u00cdGENA              0.003288\n",
        "PARDA                 0.342760\n",
        "PRETA                 0.090408\n",
        "dtype: float64\n"
       ]
      }
     ],
     "prompt_number": 155
    },
    {
     "cell_type": "code",
     "collapsed": false,
     "input": [
      "categoria = 'DESCRICAO_NACIONALIDADE'\n",
      "print deputados[categoria].unique()\n",
      "print \"\"\n",
      "print \"FANTASMAS:  \", depfant.groupby(categoria).size().astype(float)/\\\n",
      "np.sum(depfant.groupby(categoria).size().values)\n",
      "print \"NORMAIS:  \", depnorm.groupby(categoria).size().astype(float)/\\\n",
      "np.sum(depnorm.groupby(categoria).size().values)"
     ],
     "language": "python",
     "metadata": {},
     "outputs": [
      {
       "output_type": "stream",
       "stream": "stdout",
       "text": [
        "['BRASILEIRA NATA' 'BRASILEIRA (NATURALIZADA)'\n",
        " 'PORTUGUESA COM IGUALDADE DE DIREITOS' 'ESTRANGEIRO']\n",
        "\n",
        "FANTASMAS:   DESCRICAO_NACIONALIDADE\n",
        "BRASILEIRA (NATURALIZADA)    0.00626\n",
        "BRASILEIRA NATA              0.99374\n",
        "dtype: float64\n",
        "NORMAIS:   DESCRICAO_NACIONALIDADE\n",
        "BRASILEIRA (NATURALIZADA)               0.004388\n",
        "BRASILEIRA NATA                         0.995419\n",
        "ESTRANGEIRO                             0.000028\n",
        "PORTUGUESA COM IGUALDADE DE DIREITOS    0.000166\n",
        "dtype: float64\n"
       ]
      }
     ],
     "prompt_number": 161
    },
    {
     "cell_type": "code",
     "collapsed": false,
     "input": [
      "categoria = 'DESCRICAO_GRAU_INSTRUCAO'\n",
      "print deputados[categoria].unique()\n",
      "print \"\"\n",
      "print \"FANTASMAS:  \", depfant.groupby(categoria).size().astype(float)/\\\n",
      "np.sum(depfant.groupby(categoria).size().values)\n",
      "print \"NORMAIS:  \", depnorm.groupby(categoria).size().astype(float)/\\\n",
      "np.sum(depnorm.groupby(categoria).size().values)"
     ],
     "language": "python",
     "metadata": {},
     "outputs": [
      {
       "output_type": "stream",
       "stream": "stdout",
       "text": [
        "['SUPERIOR COMPLETO' 'ENSINO M\\xc3\\x89DIO COMPLETO' 'SUPERIOR INCOMPLETO'\n",
        " 'ENSINO FUNDAMENTAL COMPLETO' 'ENSINO M\\xc3\\x89DIO INCOMPLETO'\n",
        " 'ENSINO FUNDAMENTAL INCOMPLETO' 'L\\xc3\\x8a E ESCREVE'\n",
        " 'N\\xc3\\x83O INFORMADO' 'ANALFABETO']\n",
        "\n",
        "FANTASMAS:   DESCRICAO_GRAU_INSTRUCAO\n",
        "ENSINO FUNDAMENTAL COMPLETO      0.101721\n",
        "ENSINO FUNDAMENTAL INCOMPLETO    0.064163\n",
        "ENSINO M\u00c9DIO COMPLETO            0.475743\n",
        "ENSINO M\u00c9DIO INCOMPLETO          0.039124\n",
        "L\u00ca E ESCREVE                     0.025039\n",
        "SUPERIOR COMPLETO                0.200313\n",
        "SUPERIOR INCOMPLETO              0.093897\n",
        "dtype: float64\n",
        "NORMAIS:   DESCRICAO_GRAU_INSTRUCAO\n",
        "ANALFABETO                       0.000110\n",
        "ENSINO FUNDAMENTAL COMPLETO      0.073658\n",
        "ENSINO FUNDAMENTAL INCOMPLETO    0.033034\n",
        "ENSINO M\u00c9DIO COMPLETO            0.282655\n",
        "ENSINO M\u00c9DIO INCOMPLETO          0.032400\n",
        "L\u00ca E ESCREVE                     0.007700\n",
        "SUPERIOR COMPLETO                0.468194\n",
        "SUPERIOR INCOMPLETO              0.102249\n",
        "dtype: float64\n"
       ]
      }
     ],
     "prompt_number": 163
    },
    {
     "cell_type": "code",
     "collapsed": false,
     "input": [
      "categoria = 'DES_SITUACAO_CANDIDATURA'\n",
      "print deputados[categoria].unique()\n",
      "print \"\"\n",
      "print \"FANTASMAS:  \", depfant.groupby(categoria).size().astype(float)/\\\n",
      "np.sum(depfant.groupby(categoria).size().values)\n",
      "print \"NORMAIS:  \", depnorm.groupby(categoria).size().astype(float)/\\\n",
      "np.sum(depnorm.groupby(categoria).size().values)"
     ],
     "language": "python",
     "metadata": {},
     "outputs": [
      {
       "output_type": "stream",
       "stream": "stdout",
       "text": [
        "['DEFERIDO' 'INDEFERIDO COM RECURSO' 'DEFERIDO COM RECURSO']\n",
        "\n",
        "FANTASMAS:   DES_SITUACAO_CANDIDATURA\n",
        "DEFERIDO                    0.968701\n",
        "DEFERIDO COM RECURSO        0.001565\n",
        "INDEFERIDO COM RECURSO      0.029734\n",
        "dtype: float64\n",
        "NORMAIS:   DES_SITUACAO_CANDIDATURA\n",
        "DEFERIDO                    0.998427\n",
        "DEFERIDO COM RECURSO        0.001490\n",
        "INDEFERIDO COM RECURSO      0.000083\n",
        "dtype: float64\n"
       ]
      }
     ],
     "prompt_number": 164
    },
    {
     "cell_type": "code",
     "collapsed": false,
     "input": [
      "categoria = 'SIGLA_UF'\n",
      "print deputados[categoria].unique()\n",
      "print \"\"\n",
      "print \"FANTASMAS - NORMAIS:  \", (depfant.groupby(categoria).size().astype(float)/\\\n",
      "np.sum(depfant.groupby(categoria).size().values) - \\\n",
      "depnorm.groupby(categoria).size().astype(float)/\\\n",
      "np.sum(depnorm.groupby(categoria).size().values))"
     ],
     "language": "python",
     "metadata": {},
     "outputs": [
      {
       "output_type": "stream",
       "stream": "stdout",
       "text": [
        " ['AC' 'AL' 'AM' 'AP' 'BA' 'CE' 'DF' 'ES' 'GO' 'MA' 'MG' 'MS' 'MT' 'PA' 'PB'\n",
        " 'PE' 'PI' 'PR' 'RJ' 'RN' 'RO' 'RR' 'RS' 'SC' 'SE' 'SP' 'TO']\n",
        "\n",
        "FANTASMAS - NORMAIS:   SIGLA_UF\n",
        "AC          0.074940\n",
        "AL          0.009899\n",
        "AM          0.005211\n",
        "AP          0.068346\n",
        "BA         -0.034940\n",
        "CE          0.018684\n",
        "DF               NaN\n",
        "ES         -0.012445\n",
        "GO          0.022175\n",
        "MA          0.022208\n",
        "MG         -0.063119\n",
        "MS         -0.012412\n",
        "MT         -0.006956\n",
        "PA          0.024245\n",
        "PB          0.010140\n",
        "PE         -0.010960\n",
        "PI          0.027130\n",
        "PR         -0.040010\n",
        "RJ         -0.065093\n",
        "RN         -0.003589\n",
        "RO          0.009248\n",
        "RR          0.164150\n",
        "RS         -0.044539\n",
        "SC         -0.022130\n",
        "SE         -0.000167\n",
        "SP         -0.146418\n",
        "TO          0.012446\n",
        "dtype: float64\n"
       ]
      }
     ],
     "prompt_number": 192
    },
    {
     "cell_type": "code",
     "collapsed": false,
     "input": [
      "categoria = 'SIGLA_PARTIDO'\n",
      "print deputados[categoria].unique()\n",
      "print \"\"\n",
      "print \"FANTASMAS - NORMAIS:  \", depfant.groupby(categoria).size().astype(float)/\\\n",
      "np.sum(depfant.groupby(categoria).size().values) - \\\n",
      "depnorm.groupby(categoria).size().astype(float)/\\\n",
      "np.sum(depnorm.groupby(categoria).size().values)"
     ],
     "language": "python",
     "metadata": {},
     "outputs": [
      {
       "output_type": "stream",
       "stream": "stdout",
       "text": [
        "['PMDB' 'PTB' 'PSDB' 'PP' 'PPS' 'PFL' 'PDT' 'PL' 'PT' 'PV' 'PSOL' 'PSB'\n",
        " 'PSDC' 'PC do B' 'PRTB' 'PMN' 'PTN' 'PRP' 'PTC' 'PHS' 'PT do B' 'PRONA'\n",
        " 'PAN' 'PSTU' 'PRB' 'PSC' 'PCB' 'PCO' 'PSL' 'PR' 'DEM' 'SD' 'PEN' 'PSD'\n",
        " 'PPL' 'PROS']\n",
        "\n",
        "FANTASMAS - NORMAIS:   SIGLA_PARTIDO\n",
        "DEM             -0.010813\n",
        "PC do B          0.014323\n",
        "PCB             -0.001885\n",
        "PCO                   NaN\n",
        "PDT             -0.015396\n",
        "PEN              0.010140\n",
        "PHS              0.010701\n",
        "PMDB            -0.030239\n",
        "PMN              0.000985\n",
        "PP               0.003109\n",
        "PPL              0.012968\n",
        "PPS              0.004800\n",
        "PR              -0.000198\n",
        "PRB              0.020135\n",
        "PROS             0.009148\n",
        "PRP              0.019575\n",
        "PRTB             0.022654\n",
        "PSB             -0.013383\n",
        "PSC             -0.006416\n",
        "PSD              0.012198\n",
        "PSDB            -0.030234\n",
        "PSDC             0.016154\n",
        "PSL              0.006330\n",
        "PSOL            -0.012755\n",
        "PSTU                  NaN\n",
        "PT              -0.037856\n",
        "PT do B          0.015799\n",
        "PTB             -0.016042\n",
        "PTC              0.030541\n",
        "PTN              0.000883\n",
        "PV              -0.032044\n",
        "SD               0.004823\n",
        "dtype: float64\n"
       ]
      }
     ],
     "prompt_number": 189
    },
    {
     "cell_type": "code",
     "collapsed": false,
     "input": [
      "pl.hist(np.array(depfant[depfant.VALOR_BEM.isnull()==False].VALOR_BEM), \\\n",
      "        bins=100,normed=True, alpha=0.5,label='Fantasma', range=[0,1e7])\n",
      "pl.hist(np.array(depnorm[depnorm.VALOR_BEM.isnull()==False].VALOR_BEM),\\\n",
      "        bins=100,normed=True, alpha=0.5,label='Outros', range=[0,1e7])\n",
      "pl.legend()\n",
      "pl.show()"
     ],
     "language": "python",
     "metadata": {},
     "outputs": [],
     "prompt_number": 22
    },
    {
     "cell_type": "heading",
     "level": 3,
     "metadata": {},
     "source": [
      "Caracter\u00edsticas dos fantasmas (DEPUTADOS com zero votos)"
     ]
    },
    {
     "cell_type": "code",
     "collapsed": false,
     "input": [
      "depfant = deputados.loc[(deputados.ANO_ELEICAO>2009) & (deputados.TOTAL_VOTOS==0)]\n",
      "depnorm = deputados.loc[(deputados.ANO_ELEICAO>2009) & (deputados.TOTAL_VOTOS>0)]"
     ],
     "language": "python",
     "metadata": {},
     "outputs": [],
     "prompt_number": 23
    },
    {
     "cell_type": "code",
     "collapsed": false,
     "input": [
      "categoria = 'DESCRICAO_CARGO'\n",
      "print deputados[categoria].unique()\n",
      "print \"\"\n",
      "print \"FANTASMAS:  \", depfant.groupby(categoria).size().astype(float)/\\\n",
      "np.sum(depfant.groupby(categoria).size().values)\n",
      "print \"NORMAIS:  \", depnorm.groupby(categoria).size().astype(float)/\\\n",
      "np.sum(depnorm.groupby(categoria).size().values)"
     ],
     "language": "python",
     "metadata": {},
     "outputs": [
      {
       "output_type": "stream",
       "stream": "stdout",
       "text": [
        "['DEPUTADO FEDERAL' 'DEPUTADO ESTADUAL']\n",
        "\n",
        "FANTASMAS:   DESCRICAO_CARGO\n",
        "DEPUTADO ESTADUAL    0.95679\n",
        "DEPUTADO FEDERAL     0.04321\n",
        "dtype: float64\n",
        "NORMAIS:   DESCRICAO_CARGO\n",
        "DEPUTADO ESTADUAL    0.707044\n",
        "DEPUTADO FEDERAL     0.292956\n",
        "dtype: float64\n"
       ]
      }
     ],
     "prompt_number": 201
    },
    {
     "cell_type": "code",
     "collapsed": false,
     "input": [
      "categoria = 'DESCRICAO_SEXO'\n",
      "print deputados[categoria].unique()\n",
      "print \"\"\n",
      "print \"FANTASMAS:  \", depfant.groupby(categoria).size().astype(float)/\\\n",
      "np.sum(depfant.groupby(categoria).size().values)\n",
      "print \"NORMAIS:  \", depnorm.groupby(categoria).size().astype(float)/\\\n",
      "np.sum(depnorm.groupby(categoria).size().values)"
     ],
     "language": "python",
     "metadata": {},
     "outputs": [
      {
       "output_type": "stream",
       "stream": "stdout",
       "text": [
        "['MASCULINO' 'FEMININO']\n",
        "\n",
        "FANTASMAS:   DESCRICAO_SEXO\n",
        "FEMININO          0.790123\n",
        "MASCULINO         0.209877\n",
        "dtype: float64\n",
        "NORMAIS:   DESCRICAO_SEXO\n",
        "FEMININO          0.248475\n",
        "MASCULINO         0.751525\n",
        "dtype: float64\n"
       ]
      }
     ],
     "prompt_number": 202
    },
    {
     "cell_type": "code",
     "collapsed": false,
     "input": [
      "categoria = 'DESCRICAO_COR_RACA'\n",
      "print deputados[categoria].unique()\n",
      "print \"\"\n",
      "print \"FANTASMAS:  \", depfant.groupby(categoria).size().astype(float)/\\\n",
      "np.sum(depfant.groupby(categoria).size().values)\n",
      "print \"NORMAIS:  \", depnorm.groupby(categoria).size().astype(float)/\\\n",
      "np.sum(depnorm.groupby(categoria).size().values)"
     ],
     "language": "python",
     "metadata": {},
     "outputs": [
      {
       "output_type": "stream",
       "stream": "stdout",
       "text": [
        "[nan 'PARDA' 'PRETA' 'BRANCA' 'AMARELA' 'IND\\xc3\\x8dGENA']\n",
        "\n",
        "FANTASMAS:   DESCRICAO_COR_RACA\n",
        "BRANCA                0.361905\n",
        "IND\u00cdGENA              0.009524\n",
        "PARDA                 0.561905\n",
        "PRETA                 0.066667\n",
        "dtype: float64\n",
        "NORMAIS:   DESCRICAO_COR_RACA\n",
        "AMARELA               0.004931\n",
        "BRANCA                0.556552\n",
        "IND\u00cdGENA              0.003337\n",
        "PARDA                 0.345137\n",
        "PRETA                 0.090044\n",
        "dtype: float64\n"
       ]
      }
     ],
     "prompt_number": 203
    },
    {
     "cell_type": "code",
     "collapsed": false,
     "input": [
      "categoria = 'DESCRICAO_ESTADO_CIVIL'\n",
      "print deputados[categoria].unique()\n",
      "print \"\"\n",
      "print \"FANTASMAS:  \", depfant.groupby(categoria).size().astype(float)/\\\n",
      "np.sum(depfant.groupby(categoria).size().values)\n",
      "print \"NORMAIS:  \", depnorm.groupby(categoria).size().astype(float)/\\\n",
      "np.sum(depnorm.groupby(categoria).size().values)"
     ],
     "language": "python",
     "metadata": {},
     "outputs": [
      {
       "output_type": "stream",
       "stream": "stdout",
       "text": [
        "['DIVORCIADO(A)' 'CASADO(A)' 'SOLTEIRO(A)' 'SEPARADO(A) JUDICIALMENTE'\n",
        " 'VI\\xc3\\x9aVO(A)']\n",
        "\n",
        "FANTASMAS:   DESCRICAO_ESTADO_CIVIL\n",
        "CASADO(A)                 0.469136\n",
        "DIVORCIADO(A)             0.055556\n",
        "SOLTEIRO(A)               0.462963\n",
        "VI\u00daVO(A)                  0.012346\n",
        "dtype: float64\n",
        "NORMAIS:   DESCRICAO_ESTADO_CIVIL\n",
        "CASADO(A)                    0.575398\n",
        "DIVORCIADO(A)                0.098959\n",
        "SEPARADO(A) JUDICIALMENTE    0.023725\n",
        "SOLTEIRO(A)                  0.283041\n",
        "VI\u00daVO(A)                     0.018877\n",
        "dtype: float64\n"
       ]
      }
     ],
     "prompt_number": 204
    },
    {
     "cell_type": "code",
     "collapsed": false,
     "input": [
      "categoria = 'DESCRICAO_NACIONALIDADE'\n",
      "print deputados[categoria].unique()\n",
      "print \"\"\n",
      "print \"FANTASMAS:  \", depfant.groupby(categoria).size().astype(float)/\\\n",
      "np.sum(depfant.groupby(categoria).size().values)\n",
      "print \"NORMAIS:  \", depnorm.groupby(categoria).size().astype(float)/\\\n",
      "np.sum(depnorm.groupby(categoria).size().values)"
     ],
     "language": "python",
     "metadata": {},
     "outputs": [
      {
       "output_type": "stream",
       "stream": "stdout",
       "text": [
        "['BRASILEIRA NATA' 'BRASILEIRA (NATURALIZADA)'\n",
        " 'PORTUGUESA COM IGUALDADE DE DIREITOS' 'ESTRANGEIRO']\n",
        "\n",
        "FANTASMAS:   DESCRICAO_NACIONALIDADE\n",
        "BRASILEIRA (NATURALIZADA)    0.006173\n",
        "BRASILEIRA NATA              0.993827\n",
        "dtype: float64\n",
        "NORMAIS:   DESCRICAO_NACIONALIDADE\n",
        "BRASILEIRA (NATURALIZADA)               0.004413\n",
        "BRASILEIRA NATA                         0.995397\n",
        "ESTRANGEIRO                             0.000027\n",
        "PORTUGUESA COM IGUALDADE DE DIREITOS    0.000163\n",
        "dtype: float64\n"
       ]
      }
     ],
     "prompt_number": 206
    },
    {
     "cell_type": "code",
     "collapsed": false,
     "input": [
      "categoria = 'DESCRICAO_GRAU_INSTRUCAO'\n",
      "print deputados[categoria].unique()\n",
      "print \"\"\n",
      "print \"FANTASMAS:  \", depfant.groupby(categoria).size().astype(float)/\\\n",
      "np.sum(depfant.groupby(categoria).size().values)\n",
      "print \"NORMAIS:  \", depnorm.groupby(categoria).size().astype(float)/\\\n",
      "np.sum(depnorm.groupby(categoria).size().values)"
     ],
     "language": "python",
     "metadata": {},
     "outputs": [
      {
       "output_type": "stream",
       "stream": "stdout",
       "text": [
        "['SUPERIOR COMPLETO' 'ENSINO M\\xc3\\x89DIO COMPLETO' 'SUPERIOR INCOMPLETO'\n",
        " 'ENSINO FUNDAMENTAL COMPLETO' 'ENSINO M\\xc3\\x89DIO INCOMPLETO'\n",
        " 'ENSINO FUNDAMENTAL INCOMPLETO' 'L\\xc3\\x8a E ESCREVE'\n",
        " 'N\\xc3\\x83O INFORMADO' 'ANALFABETO']\n",
        "\n",
        "FANTASMAS:   DESCRICAO_GRAU_INSTRUCAO\n",
        "ENSINO FUNDAMENTAL COMPLETO      0.092593\n",
        "ENSINO FUNDAMENTAL INCOMPLETO    0.080247\n",
        "ENSINO M\u00c9DIO COMPLETO            0.530864\n",
        "ENSINO M\u00c9DIO INCOMPLETO          0.024691\n",
        "L\u00ca E ESCREVE                     0.024691\n",
        "SUPERIOR COMPLETO                0.166667\n",
        "SUPERIOR INCOMPLETO              0.080247\n",
        "dtype: float64\n",
        "NORMAIS:   DESCRICAO_GRAU_INSTRUCAO\n",
        "ANALFABETO                       0.000109\n",
        "ENSINO FUNDAMENTAL COMPLETO      0.074063\n",
        "ENSINO FUNDAMENTAL INCOMPLETO    0.033368\n",
        "ENSINO M\u00c9DIO COMPLETO            0.284920\n",
        "ENSINO M\u00c9DIO INCOMPLETO          0.032551\n",
        "L\u00ca E ESCREVE                     0.007927\n",
        "SUPERIOR COMPLETO                0.464862\n",
        "SUPERIOR INCOMPLETO              0.102201\n",
        "dtype: float64\n"
       ]
      }
     ],
     "prompt_number": 207
    },
    {
     "cell_type": "code",
     "collapsed": false,
     "input": [
      "categoria = 'DES_SITUACAO_CANDIDATURA'\n",
      "print deputados[categoria].unique()\n",
      "print \"\"\n",
      "print \"FANTASMAS:  \", depfant.groupby(categoria).size().astype(float)/\\\n",
      "np.sum(depfant.groupby(categoria).size().values)\n",
      "print \"NORMAIS:  \", depnorm.groupby(categoria).size().astype(float)/\\\n",
      "np.sum(depnorm.groupby(categoria).size().values)"
     ],
     "language": "python",
     "metadata": {},
     "outputs": [
      {
       "output_type": "stream",
       "stream": "stdout",
       "text": [
        "['DEFERIDO' 'INDEFERIDO COM RECURSO' 'DEFERIDO COM RECURSO']\n",
        "\n",
        "FANTASMAS:   DES_SITUACAO_CANDIDATURA\n",
        "DEFERIDO                    0.876543\n",
        "DEFERIDO COM RECURSO        0.006173\n",
        "INDEFERIDO COM RECURSO      0.117284\n",
        "dtype: float64\n",
        "NORMAIS:   DES_SITUACAO_CANDIDATURA\n",
        "DEFERIDO                    0.998447\n",
        "DEFERIDO COM RECURSO        0.001471\n",
        "INDEFERIDO COM RECURSO      0.000082\n",
        "dtype: float64\n"
       ]
      }
     ],
     "prompt_number": 208
    },
    {
     "cell_type": "code",
     "collapsed": false,
     "input": [
      "categoria = 'SIGLA_UF'\n",
      "print deputados[categoria].unique()\n",
      "print \"\"\n",
      "print \"FANTASMAS - NORMAIS:  \", (depfant.groupby(categoria).size().astype(float)/\\\n",
      "np.sum(depfant.groupby(categoria).size().values) - \\\n",
      "depnorm.groupby(categoria).size().astype(float)/\\\n",
      "np.sum(depnorm.groupby(categoria).size().values))"
     ],
     "language": "python",
     "metadata": {},
     "outputs": [
      {
       "output_type": "stream",
       "stream": "stdout",
       "text": [
        "['AC' 'AL' 'AM' 'AP' 'BA' 'CE' 'DF' 'ES' 'GO' 'MA' 'MG' 'MS' 'MT' 'PA' 'PB'\n",
        " 'PE' 'PI' 'PR' 'RJ' 'RN' 'RO' 'RR' 'RS' 'SC' 'SE' 'SP' 'TO']\n",
        "\n",
        "FANTASMAS - NORMAIS:   SIGLA_UF\n",
        "AC          0.117542\n",
        "AL         -0.006122\n",
        "AM         -0.009265\n",
        "AP          0.047635\n",
        "BA               NaN\n",
        "CE          0.002198\n",
        "DF               NaN\n",
        "ES         -0.009402\n",
        "GO         -0.014615\n",
        "MA         -0.002095\n",
        "MG         -0.071905\n",
        "MS               NaN\n",
        "MT               NaN\n",
        "PA          0.030829\n",
        "PB          0.011143\n",
        "PE               NaN\n",
        "PI          0.015338\n",
        "PR         -0.042721\n",
        "RJ         -0.107037\n",
        "RN         -0.002145\n",
        "RO          0.027292\n",
        "RR          0.346972\n",
        "RS               NaN\n",
        "SC         -0.014158\n",
        "SE         -0.004968\n",
        "SP         -0.146175\n",
        "TO          0.004164\n",
        "dtype: float64\n"
       ]
      }
     ],
     "prompt_number": 209
    },
    {
     "cell_type": "code",
     "collapsed": false,
     "input": [
      "categoria = 'SIGLA_PARTIDO'\n",
      "print deputados[categoria].unique()\n",
      "print \"\"\n",
      "print \"FANTASMAS - NORMAIS:  \", (depfant.groupby(categoria).size().astype(float)/\\\n",
      "np.sum(depfant.groupby(categoria).size().values) - \\\n",
      "depnorm.groupby(categoria).size().astype(float)/\\\n",
      "np.sum(depnorm.groupby(categoria).size().values))"
     ],
     "language": "python",
     "metadata": {},
     "outputs": [
      {
       "output_type": "stream",
       "stream": "stdout",
       "text": [
        "['PMDB' 'PTB' 'PSDB' 'PP' 'PPS' 'PFL' 'PDT' 'PL' 'PT' 'PV' 'PSOL' 'PSB'\n",
        " 'PSDC' 'PC do B' 'PRTB' 'PMN' 'PTN' 'PRP' 'PTC' 'PHS' 'PT do B' 'PRONA'\n",
        " 'PAN' 'PSTU' 'PRB' 'PSC' 'PCB' 'PCO' 'PSL' 'PR' 'DEM' 'SD' 'PEN' 'PSD'\n",
        " 'PPL' 'PROS']\n",
        "\n",
        "FANTASMAS - NORMAIS:   SIGLA_PARTIDO\n",
        "DEM             -0.012507\n",
        "PC do B          0.041295\n",
        "PCB                   NaN\n",
        "PCO                   NaN\n",
        "PDT             -0.015633\n",
        "PEN              0.004943\n",
        "PHS              0.016151\n",
        "PMDB            -0.042595\n",
        "PMN             -0.002520\n",
        "PP              -0.005228\n",
        "PPL                   NaN\n",
        "PPS              0.016614\n",
        "PR               0.016396\n",
        "PRB              0.012975\n",
        "PROS             0.008767\n",
        "PRP              0.048050\n",
        "PRTB             0.017033\n",
        "PSB             -0.018449\n",
        "PSC             -0.016113\n",
        "PSD              0.010118\n",
        "PSDB            -0.023903\n",
        "PSDC             0.037077\n",
        "PSL              0.014980\n",
        "PSOL            -0.014598\n",
        "PSTU                  NaN\n",
        "PT              -0.031513\n",
        "PT do B          0.025811\n",
        "PTB             -0.037927\n",
        "PTC              0.013727\n",
        "PTN             -0.013450\n",
        "PV              -0.035033\n",
        "SD               0.006070\n",
        "dtype: float64\n"
       ]
      }
     ],
     "prompt_number": 211
    },
    {
     "cell_type": "code",
     "collapsed": false,
     "input": [
      "pl.hist(np.array(depfant[depfant.VALOR_BEM.isnull()==False].VALOR_BEM), \\\n",
      "        bins=100,normed=True, alpha=0.5,label='Fantasma', range=[0,1e7])\n",
      "pl.hist(np.array(depnorm[depnorm.VALOR_BEM.isnull()==False].VALOR_BEM),\\\n",
      "        bins=100,normed=True, alpha=0.5,label='Outros', range=[0,1e7])\n",
      "pl.legend()\n",
      "pl.show()"
     ],
     "language": "python",
     "metadata": {},
     "outputs": [],
     "prompt_number": 24
    },
    {
     "cell_type": "code",
     "collapsed": false,
     "input": [
      "deputados.columns.values"
     ],
     "language": "python",
     "metadata": {},
     "outputs": [
      {
       "metadata": {},
       "output_type": "pyout",
       "prompt_number": 205,
       "text": [
        "array(['ANO_ELEICAO', 'CODIGO_CARGO', 'CODIGO_COR_RACA',\n",
        "       'CODIGO_ESTADO_CIVIL', 'CODIGO_LEGENDA', 'CODIGO_NACIONALIDADE',\n",
        "       'CODIGO_OCUPACAO', 'CODIGO_SEXO', 'COD_GRAU_INSTRUCAO',\n",
        "       'COD_SITUACAO_CANDIDATURA', 'COD_SIT_TOT_TURNO',\n",
        "       'COMPOSICAO_LEGENDA', 'CPF_CANDIDATO', 'DESCRICAO_CARGO',\n",
        "       'DESCRICAO_COR_RACA', 'DESCRICAO_ESTADO_CIVIL',\n",
        "       'DESCRICAO_GRAU_INSTRUCAO', 'DESCRICAO_NACIONALIDADE',\n",
        "       'DESCRICAO_OCUPACAO', 'DESCRICAO_SEXO', 'DESCRICAO_UE',\n",
        "       'DESC_SIT_TOT_TURNO', 'DESPESA_MAX_CAMPANHA',\n",
        "       'DES_SITUACAO_CANDIDATURA', 'IDADE_DATA_ELEICAO', 'NM_EMAIL',\n",
        "       'NOME_CANDIDATO', 'NOME_MUNICIPIO_NASCIMENTO',\n",
        "       'NOME_URNA_CANDIDATO', 'NUMERO_CANDIDATO', 'NUMERO_PARTIDO',\n",
        "       'NUM_TITULO_ELEITORAL_CANDIDATO', 'SEQUENCIAL_CANDIDATO',\n",
        "       'SIGLA_PARTIDO', 'SIGLA_UE', 'SIGLA_UF', 'SIGLA_UF_NASCIMENTO',\n",
        "       'TOTAL_VOTOS'], dtype=object)"
       ]
      }
     ],
     "prompt_number": 205
    },
    {
     "cell_type": "heading",
     "level": 3,
     "metadata": {},
     "source": [
      "Poss\u00edveis indicadores (features):"
     ]
    },
    {
     "cell_type": "code",
     "collapsed": false,
     "input": [
      "# N\u00famero de nomes na urna:"
     ],
     "language": "python",
     "metadata": {},
     "outputs": []
    },
    {
     "cell_type": "code",
     "collapsed": false,
     "input": [
      "depnormNnomes = depnorm.NOME_URNA_CANDIDATO.str.split().apply(lambda x:len(x)).values\n",
      "depfantNnomes = depfant.NOME_URNA_CANDIDATO.str.split().apply(lambda x:len(x)).values\n",
      "NnomesMax = np.max(np.concatenate((depnormNnomes,depfantNnomes)))\n",
      "depnormNomeCount = np.bincount(depnormNnomes,minlength=NnomesMax+1).astype(float)\n",
      "depnormNomeErr   = np.sqrt(depnormNomeCount)\n",
      "depnormNorm      = np.sum(depnormNomeCount)\n",
      "depfantNomeCount = np.bincount(depfantNnomes,minlength=NnomesMax+1).astype(float)\n",
      "depfantNomeErr   = np.sqrt(depfantNomeCount)\n",
      "depfantNorm      = np.sum(depfantNomeCount)"
     ],
     "language": "python",
     "metadata": {},
     "outputs": [],
     "prompt_number": 74
    },
    {
     "cell_type": "code",
     "collapsed": false,
     "input": [
      "pl.errorbar(np.arange(0,NnomesMax+1),depnormNomeCount/depnormNorm,yerr=depnormNomeErr/depnormNorm, \\\n",
      "            fmt='bo', label='Normal')\n",
      "pl.errorbar(np.arange(0,NnomesMax+1),depfantNomeCount/depfantNorm,yerr=depfantNomeErr/depfantNorm, \\\n",
      "            fmt='ro', label='Fantasma')\n",
      "pl.grid()\n",
      "pl.legend()\n",
      "pl.xlabel('# de nomes na urna')\n",
      "pl.ylabel('Fracao de candidatos')\n",
      "pl.show()"
     ],
     "language": "python",
     "metadata": {},
     "outputs": [],
     "prompt_number": 76
    },
    {
     "cell_type": "code",
     "collapsed": false,
     "input": [
      "# N\u00famero de partidos na coliga\u00e7\u00e3o:"
     ],
     "language": "python",
     "metadata": {},
     "outputs": [],
     "prompt_number": 68
    },
    {
     "cell_type": "code",
     "collapsed": false,
     "input": [
      "depnormNpart = depnorm.COMPOSICAO_LEGENDA.apply(lambda x: x.count('/')+1)\n",
      "depfantNpart = depfant.COMPOSICAO_LEGENDA.apply(lambda x: x.count('/')+1)\n",
      "NpartMax = np.max(np.concatenate((depnormNpart,depfantNpart)))\n",
      "depnormPartCount = np.bincount(depnormNpart,minlength=NpartMax+1).astype(float)\n",
      "depnormPartErr   = np.sqrt(depnormPartCount)\n",
      "depnormNorm      = np.sum(depnormPartCount)\n",
      "depfantPartCount = np.bincount(depfantNpart,minlength=NpartMax+1).astype(float)\n",
      "depfantPartErr   = np.sqrt(depfantPartCount)\n",
      "depfantNorm      = np.sum(depfantPartCount)"
     ],
     "language": "python",
     "metadata": {},
     "outputs": [],
     "prompt_number": 90
    },
    {
     "cell_type": "code",
     "collapsed": false,
     "input": [
      "pl.errorbar(np.arange(0,NpartMax+1),depnormPartCount/depnormNorm,yerr=depnormPartErr/depnormNorm, \\\n",
      "            fmt='bo', label='Normal')\n",
      "pl.errorbar(np.arange(0,NpartMax+1),depfantPartCount/depfantNorm,yerr=depfantPartErr/depfantNorm, \\\n",
      "            fmt='ro', label='Fantasma')\n",
      "pl.grid()\n",
      "pl.legend()\n",
      "pl.yscale('log')\n",
      "pl.xlim([0.8,NpartMax+0.2])\n",
      "pl.xlabel('# de partidos na coligacao')\n",
      "pl.ylabel('Fracao de candidatos')\n",
      "pl.show()"
     ],
     "language": "python",
     "metadata": {},
     "outputs": [],
     "prompt_number": 91
    },
    {
     "cell_type": "code",
     "collapsed": false,
     "input": [
      "# profiss\u00f5es:"
     ],
     "language": "python",
     "metadata": {},
     "outputs": []
    },
    {
     "cell_type": "code",
     "collapsed": false,
     "input": [
      "base.DESCRICAO_OCUPACAO.unique()"
     ],
     "language": "python",
     "metadata": {},
     "outputs": [
      {
       "metadata": {},
       "output_type": "pyout",
       "prompt_number": 101,
       "text": [
        "array(['OUTROS', 'AGRICULTOR',\n",
        "       'OPERADOR DE IMPLEMENTO DE AGRICULTURA, PECUARIA E EXPLORACAO FLORESTAL',\n",
        "       'PROFESSOR DE ENSINO DE PRIMEIRO E SEGUNDO GRAUS',\n",
        "       'SERVIDOR PUBLICO FEDERAL', 'SERVIDOR PUBLICO MUNICIPAL',\n",
        "       'AGENTE DE SAUDE E SANITARISTA',\n",
        "       'VENDEDOR DE COMERCIO VAREJISTA E ATACADISTA',\n",
        "       'SENADOR, DEPUTADO E VEREADOR',\n",
        "       'ESTUDANTE,BOLSISTA, ESTAGIARIO E ASSEMELHADOS',\n",
        "       'SERVIDOR PUBLICO CIVIL APOSENTADO', 'SERVIDOR PUBLICO ESTADUAL',\n",
        "       'DONA DE CASA', 'POLICIAL MILITAR',\n",
        "       'TAXISTA E MOTORISTA PARTICULAR', 'GERENTE',\n",
        "       'MECANICO DE MANUTENCAO', 'POLICIAL CIVIL',\n",
        "       'ATOR E DIRETOR DE ESPETACULOS PUBLICOS', 'GEOGRAFO', 'COMERCIANTE',\n",
        "       'MOTORISTA DE VEICULOS DE TRANSPORTE COLETIVO DE PASSAGEIROS',\n",
        "       'APOSENTADO (EXCETO SERVIDOR PUBLICO)',\n",
        "       'AUXILIAR DE ESCRITORIO E ASSEMELHADOS', 'N\\xc3\\x83O INFORMADA',\n",
        "       'EMPRESARIO', 'AGENTE ADMINISTRATIVO', 'ENGENHEIRO',\n",
        "       'TRABALHADOR DE CONSTRUCAO CIVIL', 'REPRESENTANTE COMERCIAL',\n",
        "       'TRABALHADOR DE HOTELARIA', 'DIRETOR DE ESTABELECIMENTO DE ENSINO',\n",
        "       'MOTORISTA DE VEICULOS DE TRANSPORTE DE CARGA', 'PEDAGOGO',\n",
        "       'ENFERMEIRO', 'GARI OU LIXEIRO',\n",
        "       'CABELEIREIRO, BARBEIRO, MANICURE, MAQUILADOR, ESTETICISTA E MASSAGISTA',\n",
        "       'VIGILANTE', 'VETERINARIO', 'COMERCIARIO',\n",
        "       'SACERDOTE OU MEMBRO DE ORDEM OU SEITA RELIGIOSA', 'PROTETICO',\n",
        "       'TECNICO CONTABILIDADE, ESTATISTICA, ECONOMIA DOMESTICA E ADMINISTRACAO',\n",
        "       'TECNICO DE ENFERMAGEM E TRABALHADOR ASSEMELHADO (EXCETO ENFERMEIRO)',\n",
        "       'OPERADOR DE EQUIP DE RADIO TELEV E DE SONORIZACAO E PROJECOES CINEMAT',\n",
        "       'PECUARISTA',\n",
        "       'VENDEDOR PRACISTA, REPRESENTANTE, CAIXEIRO-VIAJANTE E ASSEMELHADOS',\n",
        "       'RELACOES PUBLICAS', 'PRODUTOR AGROPECUARIO',\n",
        "       'ESTIVADOR, CARREGADOR, EMBALADOR E ASSEMELHADOS', 'MUSICO',\n",
        "       'TECNICO DE QUIMICA', 'PROGRAMADOR DE COMPUTADOR', 'HISTORIADOR',\n",
        "       'BACTERIOLOGISTA E TRABALHADOR ASSEMELHADO',\n",
        "       'SERVENTUARIO DE JUSTICA',\n",
        "       'PRESIDENTE DA REPUBLICA, MINISTRO DE ESTADO, GOVERNADOR E PREFEITO',\n",
        "       'SERRALHEIRO', 'GOVERNANTA', 'ARTESAO',\n",
        "       'TECNICO EM AGRONOMIA E AGRIMENSURA',\n",
        "       'OPERADOR DE EQUIPAMENTO MEDICO E ODONTOLOGICO', 'GARCOM',\n",
        "       'OCUPANTE DE CARGO EM COMISSAO',\n",
        "       'LOCUTOR E COMENTARISTA DE RADIO E TELEVISAO E RADIALISTA',\n",
        "       'BOMBEIRO E INSTALADOR DE GAS, AGUA, ESGOTO E ASSEMELHADOS',\n",
        "       'SECRETARIO,ESTENOGRAFO,DATILOGRAFO,RECEPCIONISTA,TELEFONISTA,TAQUIGRAF',\n",
        "       'COZINHEIRO', 'DIGITADOR', 'LAVADOR DE VEICULOS',\n",
        "       'AUXILIAR DE LABORATORIO', 'ODONTOLOGO', 'ADVOGADO',\n",
        "       'ADMINISTRADOR', 'JORNALISTA E REDATOR', 'MEDICO',\n",
        "       'CIENTISTA POLITICO', 'BANCARIO E ECONOMIARIO', 'FISCAL',\n",
        "       'PUBLICITARIO', 'FARMACEUTICO', 'ECONOMISTA',\n",
        "       'TECNICO DE ELETRICIDADE, ELETRONICA E TELECOMUNICACOES',\n",
        "       'AGRONOMO', 'LANTERNEIRO E PINTOR DE VEICULOS',\n",
        "       'TECNICO EM EDIFICACOES', 'MILITAR REFORMADO',\n",
        "       'EMPRESARIO E PRODUTOR DE ESPETACULOS PUBLICOS',\n",
        "       'CANTOR E COMPOSITOR', 'TRABALHADOR FLORESTAL', 'DESENHISTA',\n",
        "       'PROFESSOR E INSTRUTOR DE FORMACAO PROFISSIONAL',\n",
        "       'ESCULTOR, PINTOR, ARTISTA PLASTICO E ASSEMELHADOS',\n",
        "       'FOTOGRAFO E TRABALHADOR ASSEMELHADO',\n",
        "       'TECNICO DE LABORATORIO E RAIOS X',\n",
        "       'TRABALHADOR DE FABRICACAO DE ARTEFATOS DE MADEIRA',\n",
        "       'ATLETA PROFISSIONAL E TECNICO EM DESPORTOS', 'PSICOLOGO',\n",
        "       'ELETRICISTA E ASSEMELHADOS', 'ARTISTA DE CIRCO',\n",
        "       'PROFESSOR DE ENSINO SUPERIOR', 'CONTADOR', 'MOTOBOY',\n",
        "       'CORRETOR DE IMOVEIS, SEGUROS, TITULOS E VALORES',\n",
        "       'ALFAIATE E COSTUREIRO', 'ASSISTENTE SOCIAL', 'TABELIAO',\n",
        "       'MEMBRO DAS FORCAS ARMADAS', 'PESCADOR', 'FRENTISTA', 'ARQUITETO',\n",
        "       'DIRETOR DE EMPRESAS', 'BIOLOGO E BIOMEDICO', 'EMPREGADO DOMESTICO',\n",
        "       'PADEIRO, CONFEITEIRO E TRABALHADOR ASSEMELHADO',\n",
        "       'ATENDENTE DE LANCHONETE E RESTAURANTE',\n",
        "       'PORTEIRO DE EDIFICIO, ASCENSORISTA, GARAGISTA, FAXINEIRO E ZELADOR',\n",
        "       'COBRADOR DE TRANSPORTE COLETIVO', 'TORNEIRO MECANICO',\n",
        "       'INDUSTRIAL',\n",
        "       'TECNICO DE OBRAS CIVIS, ESTRADAS, SANEAMENTO E TRABALHADOR ASSEMELHADO',\n",
        "       'SUPERVISOR, INSPETOR E AGENTE DE COMPRAS E VENDAS',\n",
        "       'OPERADOR DE COMPUTADOR', 'FEIRANTE, AMBULANTE E MASCATE',\n",
        "       'ENCANADOR,SOLDADOR,CHAPEADOR,CALDEIREIRO,MONTADOR DE ESTRUTURA METALIC',\n",
        "       'OPERADOR DE APARELHOS DE PRODUCAO INDUSTRIAL', 'LEITURISTA',\n",
        "       'FISCAL DE TRANSPORTE COLETIVO',\n",
        "       'TRABALHADOR METALURGICO E SIDERURGICO',\n",
        "       'RELOJOEIRO E MONTADOR DE INSTRUMENTO DE PRECISAO', 'QUIMICO',\n",
        "       'AGENTE DE VIAGEM E GUIA DE TURISMO', 'JARDINEIRO', 'TAPECEIRO',\n",
        "       'CHAVEIRO', 'MONTADOR DE MAQUINAS', 'ANALISTA DE SISTEMAS',\n",
        "       'ALMOXARIFE', 'BOMBEIRO MILITAR', 'COVEIRO',\n",
        "       'TRABALHADOR DE FABRICACAO DE ROUPAS', 'CARVOEIRO', 'ZOOTECNISTA',\n",
        "       'COMUNICOLOGO',\n",
        "       'MARINHEIRO CIVIL, CANOEIRO, EMBARCADO E ASSEMELHADOS',\n",
        "       'COMANDANTE DE EMBARCACOES', 'GARIMPEIRO', 'SOCIOLOGO',\n",
        "       'TRABALHADOR DOS SERVICOS DE CONTABILIDADE, DE CAIXA E ASSEMELHADOS',\n",
        "       'TECNICO DE MINERACAO, METALURGIA E GEOLOGIA',\n",
        "       'PILOTO DE AVIACAO COMERCIAL, NAVEGADOR, MECANICO DE VOO E ASSEMELHADOS',\n",
        "       'SECURITARIO', 'AGENTE POSTAL',\n",
        "       'TRABALHADOR DE FABRICACAO E PREPARACAO DE ALIMENTOS E BEBIDAS',\n",
        "       'TECNICO DE MECANICA', 'DESPACHANTE',\n",
        "       'MEMBRO DO MINISTERIO PUBLICO', 'DETETIVE PARTICULAR', 'ESTOFADOR',\n",
        "       'TRABALHADOR DE USINAGEM DE METAIS', 'ESTATISTICO', 'GEOLOGO',\n",
        "       'TRABALHADOR DE FABRICACAO DE PRODUTOS DE BORRACHA E PLASTICO',\n",
        "       'LEILOEIRO, AVALIADOR E ASSEMELHADOS',\n",
        "       'MESTRE E CONTRAMESTRE DE EMBARCACAO',\n",
        "       'OPERADOR DE INSTALACAO DE PRODUCAO DE ENERGIA ELETRICA E NUCLEAR',\n",
        "       'TRABALHADOR DE ARTES GRAFICAS', 'MATEMATICO E ATUARIO',\n",
        "       'FISIOTERAPEUTA E TERAPEUTA OCUPACIONAL',\n",
        "       'TRABALHADOR DE CURTIMENTO',\n",
        "       'TRABALHADOR DE MINAS E PEDREIRAS, SONDADOR E TRABALHADOR ASSEMELHADO',\n",
        "       'FUNILEIRO',\n",
        "       'TRABALHADOR DE FABRICACAO DE CALCADOS E ARTEFATOS DE COURO',\n",
        "       'PETROLEIRO', 'FISICO', 'DECORADOR', 'CERAMISTA, OLEIRO',\n",
        "       'BIBLIOTECARIO, ARQUIVISTA, MUSEOLOGO E ARQUEOLOGO', 'CHAPELEIRO',\n",
        "       'CATADOR DE RECICLAVEIS', 'FERROVIARIO', 'ECONOMISTA DOMESTICO',\n",
        "       'TECNICO TEXTIL',\n",
        "       'TRABALHADOR DE FABRICACAO DE PRODUTOS TEXTEIS (EXCETO ROUPAS)',\n",
        "       'JORNALEIRO', 'TRABALHADOR EM ATIVIDADE DE PROCESSAMENTO QUIMICO',\n",
        "       'TERAPEUTA', 'MAQUINISTA E FOGUISTA DE EMBARCACOES E ASSEMELHADOS',\n",
        "       'SALVA-VIDAS', 'GUARDADOR DE VEICULOS',\n",
        "       'TRABALHADOR DE FABRICACAO, VULCANIZACAO E REPARACAO DE PNEUMATICOS',\n",
        "       'PARAMEDICO', 'ESCRITOR E CRITICO',\n",
        "       'NUTRICIONISTA E TRABALHADOR ASSEMELHADO',\n",
        "       'LAVANDEIRO, TINTUREIRO E TRABALHADOR ASSEMELHADO',\n",
        "       'COREOGRAFO E BAILARINO', 'SERVIDOR DA JUSTICA ELEITORAL',\n",
        "       'CORTADOR, POLIDOR E GRAVADOR DE PEDRAS',\n",
        "       'TRABALHADOR DE TRATAMENTO DE FUMO E DE FABRICACAO DE CIGARROS/CHARUTOS',\n",
        "       'AGENCIADOR DE PROPAGANDA', 'JOALHEIROS E OURIVES',\n",
        "       'TRADUTOR, INTERPRETE E FILOLOGO', 'FONOAUDIOLOGO', 'ENGRAXATE',\n",
        "       'TRABALHADOR DE FABRICACAO DE PAPEL E PAPELAO', 'GEOFISICO',\n",
        "       'DEMONSTRADOR', 'TECNICO DE BIOLOGIA',\n",
        "       'FIANDEIRO, TECELAO, TINGIDOR E TRABALHADOR ASSEMELHADO',\n",
        "       'CAPITALISTA DE ATIVOS FINANCEIROS', 'BOMBEIRO CIVIL',\n",
        "       'AGENTE DE SERVICOS FUNERARIOS E EMBALSAMADOR', 'MODELO',\n",
        "       'ANTROPOLOGO', 'COMISSARIO DE BORDO', 'DIPLOMATA', 'METEOROLOGISTA',\n",
        "       'ASTROLOGO', 'CONTROLADOR DE TRAFEGO AEREO',\n",
        "       'SERVIDOR P\\xc3\\x9aBLICO CIVIL APOSENTADO',\n",
        "       'APOSENTADO (EXCETO SERVIDOR P\\xc3\\x9aBLICO)', 'VEREADOR',\n",
        "       'PROFESSOR DE ENSINO M\\xc3\\x89DIO',\n",
        "       'TRABALHADOR DE ARTES GR\\xc3\\x81FICAS', 'DEPUTADO',\n",
        "       'PROFESSOR DE ENSINO FUNDAMENTAL',\n",
        "       'SERVIDOR P\\xc3\\x9aBLICO ESTADUAL',\n",
        "       'SERVIDOR P\\xc3\\x9aBLICO FEDERAL', 'EMPRES\\xc3\\x81RIO',\n",
        "       'ODONT\\xc3\\x93LOGO', 'BI\\xc3\\x93LOGO', 'BIBLIOTEC\\xc3\\x81RIO',\n",
        "       'TORNEIRO MEC\\xc3\\x82NICO', 'SERVIDOR P\\xc3\\x9aBLICO MUNICIPAL',\n",
        "       'MEC\\xc3\\x82NICO DE MANUTEN\\xc3\\x87\\xc3\\x83O',\n",
        "       'ESTUDANTE, BOLSISTA, ESTAGI\\xc3\\x81RIO E ASSEMELHADOS',\n",
        "       'M\\xc3\\x89DICO', 'BANC\\xc3\\x81RIO E ECONOMI\\xc3\\x81RIO',\n",
        "       'VETERIN\\xc3\\x81RIO', 'AGENTE DE SA\\xc3\\x9aDE E SANITARISTA',\n",
        "       'LOCUTOR E COMENTARISTA DE R\\xc3\\x81DIO E TELEVIS\\xc3\\x83O E RADIALISTA',\n",
        "       'CORRETOR DE IM\\xc3\\x93VEIS, SEGUROS, T\\xc3\\x8dTULOS E VALORES',\n",
        "       'AGR\\xc3\\x94NOMO',\n",
        "       'PILOTO DE AVIA\\xc3\\x87\\xc3\\x83O COMERCIAL, NAVEGADOR, MEC\\xc3\\x82NICO DE V\\xc3\\x94O E ASSEMELHADOS',\n",
        "       'MEMBRO DAS FOR\\xc3\\x87AS ARMADAS',\n",
        "       'CARPINTEIRO, MARCENEIRO E ASSEMELHADOS',\n",
        "       'PORTEIRO DE EDIF\\xc3\\x8dCIO, ASCENSORISTA, GARAGISTA E ZELADOR',\n",
        "       'PUBLICIT\\xc3\\x81RIO', 'CABELEIREIRO E BARBEIRO',\n",
        "       'AUXILIAR DE ESCRIT\\xc3\\x93RIO E ASSEMELHADOS',\n",
        "       'T\\xc3\\x89CNICO DE MEC\\xc3\\x82NICA', 'TRABALHADOR RURAL',\n",
        "       'TRABALHADOR DE CONSTRU\\xc3\\x87\\xc3\\x83O CIVIL',\n",
        "       'COMERCI\\xc3\\x81RIO',\n",
        "       'PROFESSOR E INSTRUTOR DE FORMA\\xc3\\x87\\xc3\\x83O PROFISSIONAL',\n",
        "       'ARTES\\xc3\\x83O', 'AUXILIAR DE LABORAT\\xc3\\x93RIO', 'TAXISTA',\n",
        "       'CATADOR DE RECICL\\xc3\\x81VEIS',\n",
        "       'TRABALHADOR DOS SERVI\\xc3\\x87OS DE CONTABILIDADE, DE CAIXA E ASSEMELHADOS',\n",
        "       'T\\xc3\\x89CNICO DE ENFERMAGEM E ASSEMELHADOS (EXCETO ENFERMEIRO)',\n",
        "       'SERVENTU\\xc3\\x81RIO DE JUSTI\\xc3\\x87A',\n",
        "       'MAQUINISTA E FOGUISTA DE EMBARCA\\xc3\\x87\\xc3\\x95ES E ASSEMELHADOS',\n",
        "       'GUIA DE TURISMO', 'ARTISTA PL\\xc3\\x81STICO E ASSEMELHADOS',\n",
        "       'VENDEDOR DE COM\\xc3\\x89RCIO VAREJISTA E ATACADISTA', 'ESTETICISTA',\n",
        "       'M\\xc3\\x9aSICO', 'ESTIVADOR, CARREGADOR E ASSEMELHADOS',\n",
        "       'T\\xc3\\x89CNICO CONTABILIDADE, ESTAT\\xc3\\x8dSTICA, ECONOMIA DOM\\xc3\\x89STICA E ADMINISTRA\\xc3\\x87\\xc3\\x83O',\n",
        "       'T\\xc3\\x89CNICO DE ELETRICIDADE, ELETR\\xc3\\x94NICA E TELECOMUNICA\\xc3\\x87\\xc3\\x95ES',\n",
        "       'FARMAC\\xc3\\x8aUTICO', 'TABELI\\xc3\\x83O',\n",
        "       'T\\xc3\\x89CNICO DE LABORAT\\xc3\\x93RIO E RAIOS X',\n",
        "       'OPERADOR DE APARELHOS DE PRODU\\xc3\\x87\\xc3\\x83O INDUSTRIAL',\n",
        "       'T\\xc3\\x89CNICO EM INFORM\\xc3\\x81TICA',\n",
        "       'T\\xc3\\x89CNICO EM EDIFICA\\xc3\\x87\\xc3\\x95ES', 'SECURIT\\xc3\\x81RIO',\n",
        "       'MOTORISTA DE VE\\xc3\\x8dCULOS DE TRANSPORTE COLETIVO DE PASSAGEIROS',\n",
        "       'GE\\xc3\\x93LOGO', 'BIOM\\xc3\\x89DICO', 'MOTORISTA PARTICULAR',\n",
        "       'SECRET\\xc3\\x81RIO E DATIL\\xc3\\x93GRAFO',\n",
        "       'T\\xc3\\x89CNICO EM AGRONOMIA E AGRIMENSURA', 'PROT\\xc3\\x89TICO',\n",
        "       'ENCANADOR, SOLDADOR, CHAPEADOR E CALDEIREIRO',\n",
        "       'NUTRICIONISTA E ASSEMELHADOS', 'SOCI\\xc3\\x93LOGO',\n",
        "       'QU\\xc3\\x8dMICO', 'PSIC\\xc3\\x93LOGO', 'GAR\\xc3\\x87OM',\n",
        "       'ESTAT\\xc3\\x8dSTICO', 'PRODUTOR AGROPECU\\xc3\\x81RIO',\n",
        "       'MOTORISTA DE VE\\xc3\\x8dCULOS DE TRANSPORTE DE CARGA',\n",
        "       'T\\xc3\\x89CNICO DE OBRAS CIVIS, ESTRADAS, SANEAMENTO E ASSEMELHADOS',\n",
        "       'ESCULTOR E PINTOR',\n",
        "       'OPERADOR DE EQUIPAMENTO DE R\\xc3\\x81DIO, TELEVIS\\xc3\\x83O, SOM E CINEMA',\n",
        "       'T\\xc3\\x89CNICO DE QU\\xc3\\x8dMICA',\n",
        "       'PRODUTOR DE ESPET\\xc3\\x81CULOS P\\xc3\\x9aBLICOS',\n",
        "       'LANTERNEIRO E PINTOR DE VE\\xc3\\x8dCULOS',\n",
        "       'TRABALHADOR METAL\\xc3\\x9aRGICO E SIDER\\xc3\\x9aRGICO',\n",
        "       'GE\\xc3\\x93GRAFO', 'AGENTE DE VIAGEM',\n",
        "       'TRABALHADOR DE FABRICA\\xc3\\x87\\xc3\\x83O DE ROUPAS',\n",
        "       'RECEPCIONISTA',\n",
        "       'TRABALHADOR DE FABRICA\\xc3\\x87\\xc3\\x83O DE CAL\\xc3\\x87ADOS E ARTEFATOS DE COURO',\n",
        "       'FOT\\xc3\\x93GRAFO E ASSEMELHADOS',\n",
        "       'TRABALHADOR DE FABRICA\\xc3\\x87\\xc3\\x83O DE PRODUTOS T\\xc3\\x8aXTEIS (EXCETO ROUPAS)',\n",
        "       'MATEM\\xc3\\x81TICO E ATU\\xc3\\x81RIO', 'SENADOR',\n",
        "       'T\\xc3\\x89CNICO T\\xc3\\x8aXTIL',\n",
        "       'FIANDEIRO, TECEL\\xc3\\x83O, TINGIDOR E ASSEMELHADOS',\n",
        "       'OCUPANTE DE CARGO EM COMISS\\xc3\\x83O', 'ESCRITOR E CR\\xc3\\x8dTICO',\n",
        "       'T\\xc3\\x89CNICO DE BIOLOGIA',\n",
        "       'RELOJOEIRO E MONTADOR DE INSTRUMENTO DE PRECIS\\xc3\\x83O',\n",
        "       'BOMBEIRO E INSTALADOR DE G\\xc3\\x81S, \\xc3\\x81GUA, ESGOTO E ASSEMELHADOS',\n",
        "       'BACTERIOLOGISTA E ASSEMELHADOS',\n",
        "       'ATOR E DIRETOR DE ESPET\\xc3\\x81CULOS P\\xc3\\x9aBLICOS',\n",
        "       'CIENTISTA POL\\xc3\\x8dTICO', 'ASTR\\xc3\\x93LOGO',\n",
        "       'FERROVI\\xc3\\x81RIO', 'EMPREGADO DOM\\xc3\\x89STICO',\n",
        "       'MONTADOR DE M\\xc3\\x81QUINAS', 'TELEFONISTA',\n",
        "       'COMISS\\xc3\\x81RIO DE BORDO',\n",
        "       'TRABALHADOR EM ATIVIDADE DE PROCESSAMENTO QU\\xc3\\x8dMICO',\n",
        "       'TRADUTOR, INT\\xc3\\x89RPRETE E FIL\\xc3\\x93LOGO',\n",
        "       'MANICURE E MAQUILADOR',\n",
        "       'ATLETA PROFISSIONAL E T\\xc3\\x89CNICO EM DESPORTOS',\n",
        "       'OFFICE-BOY E CONT\\xc3\\x8dNUO', 'FAXINEIRO',\n",
        "       'PADEIRO, CONFEITEIRO E ASSEMELHADOS',\n",
        "       'ECONOMISTA DOM\\xc3\\x89STICO',\n",
        "       'TAQU\\xc3\\x8dGRAFO E ESTEN\\xc3\\x93GRAFO',\n",
        "       'OPERADOR DE IMPLEMENTO DE AGRICULTURA, PECU\\xc3\\x81RIA E EXPLORA\\xc3\\x87\\xc3\\x83O FLORESTAL',\n",
        "       'T\\xc3\\x89CNICO DE MINERA\\xc3\\x87\\xc3\\x83O, METALURGIA E GEOLOGIA',\n",
        "       'TRABALHADOR DE MINAS E PEDREIRAS, SONDADOR E ASSEMELHADOS',\n",
        "       'F\\xc3\\x8dSICO', 'RELA\\xc3\\x87\\xc3\\x95ES-P\\xc3\\x9aBLICAS',\n",
        "       'JOALHEIRO E OURIVES', 'COMUNIC\\xc3\\x93LOGO',\n",
        "       'OPERADOR DE INSTALA\\xc3\\x87\\xc3\\x83O DE PRODU\\xc3\\x87\\xc3\\x83O DE ENERGIA EL\\xc3\\x89TRICA E NUCLEAR',\n",
        "       'CORE\\xc3\\x93GRAFO E BAILARINO', 'MAGISTRADO',\n",
        "       'GUARDADOR DE VE\\xc3\\x8dCULOS',\n",
        "       'OPERADOR DE EQUIPAMENTO M\\xc3\\x89DICO E ODONTOL\\xc3\\x93GICO',\n",
        "       'MASSAGISTA', 'LAVANDEIRO, TINTUREIRO E ASSEMELHADOS',\n",
        "       'ARQUIVISTA E MUSE\\xc3\\x93LOGO', 'FONOAUDI\\xc3\\x93LOGO',\n",
        "       'MESTRE E CONTRAMESTRE DE EMBARCA\\xc3\\x87\\xc3\\x83O',\n",
        "       'TRABALHADOR DE FABRICA\\xc3\\x87\\xc3\\x83O, VULCANIZA\\xc3\\x87\\xc3\\x83O E REPARA\\xc3\\x87\\xc3\\x83O DE PNEUM\\xc3\\x81TICOS',\n",
        "       'LAVADOR DE VE\\xc3\\x8dCULOS',\n",
        "       'TRABALHADOR DE FABRICA\\xc3\\x87\\xc3\\x83O DE PRODUTOS DE BORRACHA E PL\\xc3\\x81STICO',\n",
        "       'MONTADOR DE ESTRUTURA MET\\xc3\\x81LICA', 'ASTR\\xc3\\x94NOMO',\n",
        "       'COMANDANTE DE EMBARCA\\xc3\\x87\\xc3\\x95ES',\n",
        "       'SERVIDOR DA JUSTI\\xc3\\x87A ELEITORAL',\n",
        "       'CONTROLADOR DE TR\\xc3\\x81FEGO A\\xc3\\x89REO', 'PARAM\\xc3\\x89DICO',\n",
        "       'TRABALHADOR DE FABRICA\\xc3\\x87\\xc3\\x83O E PREPARA\\xc3\\x87\\xc3\\x83O DE ALIMENTOS E BEBIDAS',\n",
        "       'CERAMISTA E OLEIRO',\n",
        "       'TRABALHADOR DE TRATAMENTO DE FUMO E DE FABRICA\\xc3\\x87\\xc3\\x83O DE CIGARROS/CHARUTOS',\n",
        "       'OCEAN\\xc3\\x93GRAFO', 'EMBALADOR, EMPACOTADOR E ASSEMELHADOS',\n",
        "       'TRABALHADOR DE FABRICA\\xc3\\x87\\xc3\\x83O DE PAPEL E PAPEL\\xc3\\x83O',\n",
        "       'AGENTE DE SERVI\\xc3\\x87OS FUNER\\xc3\\x81RIOS E EMBALSAMADOR',\n",
        "       'MINISTRO DE ESTADO', 'ARQUE\\xc3\\x93LOGO',\n",
        "       'PRESIDENTE DA REP\\xc3\\x9aBLICA', 'ANTROP\\xc3\\x93LOGO',\n",
        "       'MEMBRO DO MINIST\\xc3\\x89RIO P\\xc3\\x9aBLICO', 'GEOF\\xc3\\x8dSICO',\n",
        "       'PREFEITO'], dtype=object)"
       ]
      }
     ],
     "prompt_number": 101
    },
    {
     "cell_type": "code",
     "collapsed": false,
     "input": [
      "#t.to_csv('test.dat',index=False)"
     ],
     "language": "python",
     "metadata": {},
     "outputs": [],
     "prompt_number": 100
    },
    {
     "cell_type": "code",
     "collapsed": false,
     "input": [
      "# Valor total de bens e n\u00famero de votos:"
     ],
     "language": "python",
     "metadata": {},
     "outputs": []
    },
    {
     "cell_type": "code",
     "collapsed": false,
     "input": [
      "BensVotos = base.loc[(base.TOTAL_VOTOS>0) & (np.nan_to_num(base.VALOR_BEM)>0)]\n",
      "#pl.plot(np.log10(BensVotos.VALOR_BEM),np.log10(BensVotos.TOTAL_VOTOS), 'b.')\n",
      "pl.plot(np.log10(BensVotos.TOTAL_VOTOS),np.log10(BensVotos.VALOR_BEM), 'b.')\n",
      "pl.show()"
     ],
     "language": "python",
     "metadata": {},
     "outputs": [],
     "prompt_number": 35
    },
    {
     "cell_type": "heading",
     "level": 3,
     "metadata": {},
     "source": [
      "Criando base de dados para aplicar modelos de machine learning"
     ]
    },
    {
     "cell_type": "code",
     "collapsed": false,
     "input": [
      "base.columns.values"
     ],
     "language": "python",
     "metadata": {},
     "outputs": [
      {
       "metadata": {},
       "output_type": "pyout",
       "prompt_number": 25,
       "text": [
        "array(['ANO_ELEICAO', 'CODIGO_CARGO', 'CODIGO_COR_RACA',\n",
        "       'CODIGO_ESTADO_CIVIL', 'CODIGO_LEGENDA', 'CODIGO_NACIONALIDADE',\n",
        "       'CODIGO_OCUPACAO', 'CODIGO_SEXO', 'COD_GRAU_INSTRUCAO',\n",
        "       'COD_SITUACAO_CANDIDATURA', 'COD_SIT_TOT_TURNO',\n",
        "       'COMPOSICAO_LEGENDA', 'CPF_CANDIDATO', 'DESCRICAO_CARGO',\n",
        "       'DESCRICAO_COR_RACA', 'DESCRICAO_ESTADO_CIVIL',\n",
        "       'DESCRICAO_GRAU_INSTRUCAO', 'DESCRICAO_NACIONALIDADE',\n",
        "       'DESCRICAO_OCUPACAO', 'DESCRICAO_SEXO', 'DESCRICAO_UE',\n",
        "       'DESC_SIT_TOT_TURNO', 'DESPESA_MAX_CAMPANHA',\n",
        "       'DES_SITUACAO_CANDIDATURA', 'IDADE_DATA_ELEICAO', 'NM_EMAIL',\n",
        "       'NOME_CANDIDATO', 'NOME_MUNICIPIO_NASCIMENTO',\n",
        "       'NOME_URNA_CANDIDATO', 'NUMERO_CANDIDATO', 'NUMERO_PARTIDO',\n",
        "       'NUM_TITULO_ELEITORAL_CANDIDATO', 'SEQUENCIAL_CANDIDATO',\n",
        "       'SIGLA_PARTIDO', 'SIGLA_UE', 'SIGLA_UF', 'SIGLA_UF_NASCIMENTO',\n",
        "       'DESCRICAO_CATEGORIA', 'TAMANHO_NOME', 'TAMANHO_NOME_URNA',\n",
        "       'TAMANHO_LEGENDA', 'NUM_ELEICOES_ANTERIORES',\n",
        "       'TOTAL_VOTOS_ANTERIORES', 'TOTAL_VOTOS'], dtype=object)"
       ]
      }
     ],
     "prompt_number": 25
    },
    {
     "cell_type": "code",
     "collapsed": false,
     "input": [
      "DataToModel = base.loc[(base.CODIGO_CARGO.isin([6,7])) & (base.ANO_ELEICAO==2010) & (base.TOTAL_VOTOS.isnull()==False)]\\\n",
      "[['CODIGO_CARGO','CODIGO_ESTADO_CIVIL','CODIGO_NACIONALIDADE','CODIGO_SEXO','COD_GRAU_INSTRUCAO',\\\n",
      "  'COD_SITUACAO_CANDIDATURA','DESPESA_MAX_CAMPANHA','IDADE_DATA_ELEICAO','NUMERO_PARTIDO','SIGLA_UF',\\\n",
      "  'DESCRICAO_CATEGORIA', 'TAMANHO_NOME', 'TAMANHO_NOME_URNA', 'NUM_ELEICOES_ANTERIORES',\\\n",
      "  'TOTAL_VOTOS_ANTERIORES','TOTAL_VOTOS']]"
     ],
     "language": "python",
     "metadata": {},
     "outputs": [],
     "prompt_number": 28
    },
    {
     "cell_type": "code",
     "collapsed": false,
     "input": [
      "DataToModel.to_csv('dadosParaModelar/deputados2010.csv',index=False)"
     ],
     "language": "python",
     "metadata": {},
     "outputs": [],
     "prompt_number": 29
    },
    {
     "cell_type": "heading",
     "level": 3,
     "metadata": {},
     "source": [
      "Testes velhos"
     ]
    },
    {
     "cell_type": "code",
     "collapsed": false,
     "input": [
      "zero2012 = base.loc[(base.TOTAL_VOTOS==0) & (base.ANO_ELEICAO==2012)]\n",
      "zero2016 = base.loc[(base.TOTAL_VOTOS==0) & (base.ANO_ELEICAO==2016)]\n",
      "profisNome = list(set(zero2004.NOME_CANDIDATO) & set(zero2008.NOME_CANDIDATO))\n",
      "profisCPF  = list(set(zero2004.CPF_CANDIDATO.astype(str)) & set(zero2008.CPF_CANDIDATO.astype(str)))\n",
      "profisTit  = list(set(zero2004.NUM_TITULO_ELEITORAL_CANDIDATO.astype(int)) & \\\n",
      "                  set(zero2008.NUM_TITULO_ELEITORAL_CANDIDATO.astype(int)))\n",
      "print pd.DataFrame({'Por nome':[len(profisNome),float(len(profisNome))/len(zero2008)*100],\\\n",
      "                    'Por CPF':[len(profisCPF),float(len(profisCPF))/len(zero2008)*100],\\\n",
      "                    'Por Tit.':[len(profisTit),float(len(profisTit))/len(zero2008)*100]})\n"
     ],
     "language": "python",
     "metadata": {},
     "outputs": [
      {
       "ename": "NameError",
       "evalue": "name 'zero2004' is not defined",
       "output_type": "pyerr",
       "traceback": [
        "\u001b[0;31m---------------------------------------------------------------------------\u001b[0m\n\u001b[0;31mNameError\u001b[0m                                 Traceback (most recent call last)",
        "\u001b[0;32m<ipython-input-8-e0128b4b26a2>\u001b[0m in \u001b[0;36m<module>\u001b[0;34m()\u001b[0m\n\u001b[1;32m      1\u001b[0m \u001b[0mzero2012\u001b[0m \u001b[0;34m=\u001b[0m \u001b[0mbase\u001b[0m\u001b[0;34m.\u001b[0m\u001b[0mloc\u001b[0m\u001b[0;34m[\u001b[0m\u001b[0;34m(\u001b[0m\u001b[0mbase\u001b[0m\u001b[0;34m.\u001b[0m\u001b[0mTOTAL_VOTOS\u001b[0m\u001b[0;34m==\u001b[0m\u001b[0;36m0\u001b[0m\u001b[0;34m)\u001b[0m \u001b[0;34m&\u001b[0m \u001b[0;34m(\u001b[0m\u001b[0mbase\u001b[0m\u001b[0;34m.\u001b[0m\u001b[0mANO_ELEICAO\u001b[0m\u001b[0;34m==\u001b[0m\u001b[0;36m2012\u001b[0m\u001b[0;34m)\u001b[0m\u001b[0;34m]\u001b[0m\u001b[0;34m\u001b[0m\u001b[0m\n\u001b[1;32m      2\u001b[0m \u001b[0mzero2016\u001b[0m \u001b[0;34m=\u001b[0m \u001b[0mbase\u001b[0m\u001b[0;34m.\u001b[0m\u001b[0mloc\u001b[0m\u001b[0;34m[\u001b[0m\u001b[0;34m(\u001b[0m\u001b[0mbase\u001b[0m\u001b[0;34m.\u001b[0m\u001b[0mTOTAL_VOTOS\u001b[0m\u001b[0;34m==\u001b[0m\u001b[0;36m0\u001b[0m\u001b[0;34m)\u001b[0m \u001b[0;34m&\u001b[0m \u001b[0;34m(\u001b[0m\u001b[0mbase\u001b[0m\u001b[0;34m.\u001b[0m\u001b[0mANO_ELEICAO\u001b[0m\u001b[0;34m==\u001b[0m\u001b[0;36m2016\u001b[0m\u001b[0;34m)\u001b[0m\u001b[0;34m]\u001b[0m\u001b[0;34m\u001b[0m\u001b[0m\n\u001b[0;32m----> 3\u001b[0;31m \u001b[0mprofisNome\u001b[0m \u001b[0;34m=\u001b[0m \u001b[0mlist\u001b[0m\u001b[0;34m(\u001b[0m\u001b[0mset\u001b[0m\u001b[0;34m(\u001b[0m\u001b[0mzero2004\u001b[0m\u001b[0;34m.\u001b[0m\u001b[0mNOME_CANDIDATO\u001b[0m\u001b[0;34m)\u001b[0m \u001b[0;34m&\u001b[0m \u001b[0mset\u001b[0m\u001b[0;34m(\u001b[0m\u001b[0mzero2008\u001b[0m\u001b[0;34m.\u001b[0m\u001b[0mNOME_CANDIDATO\u001b[0m\u001b[0;34m)\u001b[0m\u001b[0;34m)\u001b[0m\u001b[0;34m\u001b[0m\u001b[0m\n\u001b[0m\u001b[1;32m      4\u001b[0m \u001b[0mprofisCPF\u001b[0m  \u001b[0;34m=\u001b[0m \u001b[0mlist\u001b[0m\u001b[0;34m(\u001b[0m\u001b[0mset\u001b[0m\u001b[0;34m(\u001b[0m\u001b[0mzero2004\u001b[0m\u001b[0;34m.\u001b[0m\u001b[0mCPF_CANDIDATO\u001b[0m\u001b[0;34m.\u001b[0m\u001b[0mastype\u001b[0m\u001b[0;34m(\u001b[0m\u001b[0mstr\u001b[0m\u001b[0;34m)\u001b[0m\u001b[0;34m)\u001b[0m \u001b[0;34m&\u001b[0m \u001b[0mset\u001b[0m\u001b[0;34m(\u001b[0m\u001b[0mzero2008\u001b[0m\u001b[0;34m.\u001b[0m\u001b[0mCPF_CANDIDATO\u001b[0m\u001b[0;34m.\u001b[0m\u001b[0mastype\u001b[0m\u001b[0;34m(\u001b[0m\u001b[0mstr\u001b[0m\u001b[0;34m)\u001b[0m\u001b[0;34m)\u001b[0m\u001b[0;34m)\u001b[0m\u001b[0;34m\u001b[0m\u001b[0m\n\u001b[1;32m      5\u001b[0m \u001b[0mprofisTit\u001b[0m  \u001b[0;34m=\u001b[0m \u001b[0mlist\u001b[0m\u001b[0;34m(\u001b[0m\u001b[0mset\u001b[0m\u001b[0;34m(\u001b[0m\u001b[0mzero2004\u001b[0m\u001b[0;34m.\u001b[0m\u001b[0mNUM_TITULO_ELEITORAL_CANDIDATO\u001b[0m\u001b[0;34m.\u001b[0m\u001b[0mastype\u001b[0m\u001b[0;34m(\u001b[0m\u001b[0mint\u001b[0m\u001b[0;34m)\u001b[0m\u001b[0;34m)\u001b[0m \u001b[0;34m&\u001b[0m                   \u001b[0mset\u001b[0m\u001b[0;34m(\u001b[0m\u001b[0mzero2008\u001b[0m\u001b[0;34m.\u001b[0m\u001b[0mNUM_TITULO_ELEITORAL_CANDIDATO\u001b[0m\u001b[0;34m.\u001b[0m\u001b[0mastype\u001b[0m\u001b[0;34m(\u001b[0m\u001b[0mint\u001b[0m\u001b[0;34m)\u001b[0m\u001b[0;34m)\u001b[0m\u001b[0;34m)\u001b[0m\u001b[0;34m\u001b[0m\u001b[0m\n",
        "\u001b[0;31mNameError\u001b[0m: name 'zero2004' is not defined"
       ]
      }
     ],
     "prompt_number": 8
    },
    {
     "cell_type": "code",
     "collapsed": false,
     "input": [
      "nomes2004 = ([zero2004.loc[zero2004.NUM_TITULO_ELEITORAL_CANDIDATO.astype(int)==tit].NOME_CANDIDATO.values[0] \\\n",
      "       for tit in profisTit])\n",
      "nomes2008 = ([zero2008.loc[zero2008.NUM_TITULO_ELEITORAL_CANDIDATO.astype(int)==tit].NOME_CANDIDATO.values[0] \\\n",
      "       for tit in profisTit])\n",
      "nomes2004.sort()\n",
      "nomes2008.sort()\n",
      "print np.transpose([nomes2004,nomes2008])"
     ],
     "language": "python",
     "metadata": {},
     "outputs": [
      {
       "ename": "NameError",
       "evalue": "name 'profisTit' is not defined",
       "output_type": "pyerr",
       "traceback": [
        "\u001b[0;31m---------------------------------------------------------------------------\u001b[0m\n\u001b[0;31mNameError\u001b[0m                                 Traceback (most recent call last)",
        "\u001b[0;32m<ipython-input-9-8eff4bd845b8>\u001b[0m in \u001b[0;36m<module>\u001b[0;34m()\u001b[0m\n\u001b[0;32m----> 1\u001b[0;31m \u001b[0mnomes2004\u001b[0m \u001b[0;34m=\u001b[0m \u001b[0;34m(\u001b[0m\u001b[0;34m[\u001b[0m\u001b[0mzero2004\u001b[0m\u001b[0;34m.\u001b[0m\u001b[0mloc\u001b[0m\u001b[0;34m[\u001b[0m\u001b[0mzero2004\u001b[0m\u001b[0;34m.\u001b[0m\u001b[0mNUM_TITULO_ELEITORAL_CANDIDATO\u001b[0m\u001b[0;34m.\u001b[0m\u001b[0mastype\u001b[0m\u001b[0;34m(\u001b[0m\u001b[0mint\u001b[0m\u001b[0;34m)\u001b[0m\u001b[0;34m==\u001b[0m\u001b[0mtit\u001b[0m\u001b[0;34m]\u001b[0m\u001b[0;34m.\u001b[0m\u001b[0mNOME_CANDIDATO\u001b[0m\u001b[0;34m.\u001b[0m\u001b[0mvalues\u001b[0m\u001b[0;34m[\u001b[0m\u001b[0;36m0\u001b[0m\u001b[0;34m]\u001b[0m        \u001b[0;32mfor\u001b[0m \u001b[0mtit\u001b[0m \u001b[0;32min\u001b[0m \u001b[0mprofisTit\u001b[0m\u001b[0;34m]\u001b[0m\u001b[0;34m)\u001b[0m\u001b[0;34m\u001b[0m\u001b[0m\n\u001b[0m\u001b[1;32m      2\u001b[0m \u001b[0mnomes2008\u001b[0m \u001b[0;34m=\u001b[0m \u001b[0;34m(\u001b[0m\u001b[0;34m[\u001b[0m\u001b[0mzero2008\u001b[0m\u001b[0;34m.\u001b[0m\u001b[0mloc\u001b[0m\u001b[0;34m[\u001b[0m\u001b[0mzero2008\u001b[0m\u001b[0;34m.\u001b[0m\u001b[0mNUM_TITULO_ELEITORAL_CANDIDATO\u001b[0m\u001b[0;34m.\u001b[0m\u001b[0mastype\u001b[0m\u001b[0;34m(\u001b[0m\u001b[0mint\u001b[0m\u001b[0;34m)\u001b[0m\u001b[0;34m==\u001b[0m\u001b[0mtit\u001b[0m\u001b[0;34m]\u001b[0m\u001b[0;34m.\u001b[0m\u001b[0mNOME_CANDIDATO\u001b[0m\u001b[0;34m.\u001b[0m\u001b[0mvalues\u001b[0m\u001b[0;34m[\u001b[0m\u001b[0;36m0\u001b[0m\u001b[0;34m]\u001b[0m        \u001b[0;32mfor\u001b[0m \u001b[0mtit\u001b[0m \u001b[0;32min\u001b[0m \u001b[0mprofisTit\u001b[0m\u001b[0;34m]\u001b[0m\u001b[0;34m)\u001b[0m\u001b[0;34m\u001b[0m\u001b[0m\n\u001b[1;32m      3\u001b[0m \u001b[0mnomes2004\u001b[0m\u001b[0;34m.\u001b[0m\u001b[0msort\u001b[0m\u001b[0;34m(\u001b[0m\u001b[0;34m)\u001b[0m\u001b[0;34m\u001b[0m\u001b[0m\n\u001b[1;32m      4\u001b[0m \u001b[0mnomes2008\u001b[0m\u001b[0;34m.\u001b[0m\u001b[0msort\u001b[0m\u001b[0;34m(\u001b[0m\u001b[0;34m)\u001b[0m\u001b[0;34m\u001b[0m\u001b[0m\n\u001b[1;32m      5\u001b[0m \u001b[0;32mprint\u001b[0m \u001b[0mnp\u001b[0m\u001b[0;34m.\u001b[0m\u001b[0mtranspose\u001b[0m\u001b[0;34m(\u001b[0m\u001b[0;34m[\u001b[0m\u001b[0mnomes2004\u001b[0m\u001b[0;34m,\u001b[0m\u001b[0mnomes2008\u001b[0m\u001b[0;34m]\u001b[0m\u001b[0;34m)\u001b[0m\u001b[0;34m\u001b[0m\u001b[0m\n",
        "\u001b[0;31mNameError\u001b[0m: name 'profisTit' is not defined"
       ]
      }
     ],
     "prompt_number": 9
    },
    {
     "cell_type": "code",
     "collapsed": false,
     "input": [],
     "language": "python",
     "metadata": {},
     "outputs": []
    }
   ],
   "metadata": {}
  }
 ]
}