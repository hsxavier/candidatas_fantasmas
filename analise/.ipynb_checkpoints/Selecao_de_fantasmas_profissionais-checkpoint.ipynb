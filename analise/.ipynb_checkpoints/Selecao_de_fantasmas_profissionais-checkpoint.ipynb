{
 "metadata": {
  "name": ""
 },
 "nbformat": 3,
 "nbformat_minor": 0,
 "worksheets": [
  {
   "cells": [
    {
     "cell_type": "heading",
     "level": 3,
     "metadata": {},
     "source": [
      "Carregamento dos dados"
     ]
    },
    {
     "cell_type": "code",
     "collapsed": false,
     "input": [
      "import pandas as pd\n",
      "from glob import glob"
     ],
     "language": "python",
     "metadata": {},
     "outputs": [],
     "prompt_number": 1
    },
    {
     "cell_type": "code",
     "collapsed": false,
     "input": [
      "# Carrega base de dados de 2018:\n",
      "cand18files = glob('../dados/consulta_cand_2018/consulta_cand_2018_??.csv')\n",
      "cand18 = pd.concat([pd.read_csv(f, sep=';', quotechar='\\\"') for f in cand18files],ignore_index=True)\n",
      "# Situa\u00e7\u00e3o das candidaturas: \n",
      "cand18.groupby('DS_SITUACAO_CANDIDATURA').size()"
     ],
     "language": "python",
     "metadata": {},
     "outputs": [
      {
       "metadata": {},
       "output_type": "pyout",
       "prompt_number": 2,
       "text": [
        "DS_SITUACAO_CANDIDATURA\n",
        "APTO                         123\n",
        "CADASTRADO                 27712\n",
        "INAPTO                        26\n",
        "dtype: int64"
       ]
      }
     ],
     "prompt_number": 2
    },
    {
     "cell_type": "code",
     "collapsed": false,
     "input": [
      "cand18.groupby('DS_GENERO').size()"
     ],
     "language": "python",
     "metadata": {},
     "outputs": [
      {
       "metadata": {},
       "output_type": "pyout",
       "prompt_number": 3,
       "text": [
        "DS_GENERO\n",
        "FEMININO      8554\n",
        "MASCULINO    19307\n",
        "dtype: int64"
       ]
      }
     ],
     "prompt_number": 3
    },
    {
     "cell_type": "code",
     "collapsed": false,
     "input": [
      "# Carrega base de dados dos anos anteriores:\n",
      "base = pd.read_csv('../dados/concatenados/completa+bens.csv',sep='>')"
     ],
     "language": "python",
     "metadata": {},
     "outputs": [
      {
       "output_type": "stream",
       "stream": "stderr",
       "text": [
        "/usr/lib/python2.7/dist-packages/pandas/io/parsers.py:1070: DtypeWarning: Columns (12,14,25,35) have mixed types. Specify dtype option on import or set low_memory=False.\n",
        "  data = self._reader.read(nrows)\n"
       ]
      }
     ],
     "prompt_number": 4
    },
    {
     "cell_type": "heading",
     "level": 3,
     "metadata": {},
     "source": [
      "Identifica\u00e7\u00e3o de candidaturas fantasmas profissionais"
     ]
    },
    {
     "cell_type": "code",
     "collapsed": false,
     "input": [
      "# Seleciona Tit. de eleitor de 2018 que em algum momento seriam classificados como fantasmas:\n",
      "TitEleitor18 = cand18.NR_TITULO_ELEITORAL_CANDIDATO.unique()\n",
      "fantAnterior = base.loc[(base.TOTAL_VOTOS==0)&\n",
      "                        (base.TOTAL_VOTOS_ANTERIORES<=5*base.NUM_ELEICOES_ANTERIORES)&\n",
      "                        (base.CODIGO_SEXO==4)&\n",
      "                        (base.NUM_TITULO_ELEITORAL_CANDIDATO.isin(TitEleitor18))\\\n",
      "                        ].NUM_TITULO_ELEITORAL_CANDIDATO.unique()"
     ],
     "language": "python",
     "metadata": {},
     "outputs": [],
     "prompt_number": 4
    },
    {
     "cell_type": "code",
     "collapsed": false,
     "input": [
      "# Seleciona Tit. de eleitor que tiveram menos que 5 votos em m\u00e9dia nas elei\u00e7\u00f5es anteriores:\n",
      "# (verificamos para os dados que MediaTotalVotos s\u00f3 \u00e9 diferente de zero para um caso, no qual =0.5)\n",
      "AllTotalVotos = base.loc[base.NUM_TITULO_ELEITORAL_CANDIDATO.isin(fantAnterior)]\\\n",
      ".groupby('NUM_TITULO_ELEITORAL_CANDIDATO')['TOTAL_VOTOS'].sum()\n",
      "AllTotalVotos.name = 'VOTOS_ANTERIORES_TOTAIS'\n",
      "\n",
      "NumEleicoes   = base.loc[base.NUM_TITULO_ELEITORAL_CANDIDATO.isin(fantAnterior)]\\\n",
      ".groupby('NUM_TITULO_ELEITORAL_CANDIDATO').size()\n",
      "NumEleicoes.name   = 'NR_ELEICOES_ANTERIORES'\n",
      "\n",
      "MediaTotalVotos = AllTotalVotos/NumEleicoes\n",
      "FinalFantTitulo = MediaTotalVotos.loc[MediaTotalVotos<=5].index.values"
     ],
     "language": "python",
     "metadata": {},
     "outputs": [],
     "prompt_number": 5
    },
    {
     "cell_type": "code",
     "collapsed": false,
     "input": [
      "# Mais informa\u00e7\u00f5es sobre elei\u00e7\u00f5es anteriores:\n",
      "UltimaEleicao = base.loc[base.NUM_TITULO_ELEITORAL_CANDIDATO.isin(fantAnterior)]\\\n",
      ".groupby('NUM_TITULO_ELEITORAL_CANDIDATO')['ANO_ELEICAO'].last()\n",
      "UltimaEleicao.name = 'ULTIMA_ELEICAO'\n",
      "\n",
      "PrimeiraEleicao = base.loc[base.NUM_TITULO_ELEITORAL_CANDIDATO.isin(fantAnterior)]\\\n",
      ".groupby('NUM_TITULO_ELEITORAL_CANDIDATO')['ANO_ELEICAO'].first()\n",
      "PrimeiraEleicao.name = 'PRIMEIRA_ELEICAO'\n",
      "\n",
      "SitAnterior = base.loc[base.NUM_TITULO_ELEITORAL_CANDIDATO.isin(fantAnterior)]\\\n",
      ".groupby('NUM_TITULO_ELEITORAL_CANDIDATO')['DES_SITUACAO_CANDIDATURA'].last()\n",
      "SitAnterior.name = 'ULTIMA_SITUACAO_CANDIDATURA'"
     ],
     "language": "python",
     "metadata": {},
     "outputs": [],
     "prompt_number": 6
    },
    {
     "cell_type": "code",
     "collapsed": false,
     "input": [
      "# Seleciona candidatos de 2018 que j\u00e1 foram fantasmas, e seleciona colunas relevantes:\n",
      "Fantasma18 = cand18.loc[cand18.NR_TITULO_ELEITORAL_CANDIDATO.isin(FinalFantTitulo)]\n",
      "Fant18Sel  = Fantasma18[['NM_CANDIDATO','NM_URNA_CANDIDATO','SG_UF','NR_TITULO_ELEITORAL_CANDIDATO',\\\n",
      "                         'NR_CPF_CANDIDATO','DT_NASCIMENTO','NM_MUNICIPIO_NASCIMENTO','SG_UF_NASCIMENTO',\\\n",
      "                         'DS_GRAU_INSTRUCAO','DS_OCUPACAO','DS_COR_RACA','DS_ESTADO_CIVIL','NM_EMAIL',\\\n",
      "                         'SG_PARTIDO','DS_COMPOSICAO_COLIGACAO','DS_CARGO']]"
     ],
     "language": "python",
     "metadata": {},
     "outputs": [],
     "prompt_number": 7
    },
    {
     "cell_type": "code",
     "collapsed": false,
     "input": [
      "# Junta informa\u00e7\u00e3o de 2018 com anterior:\n",
      "Joined = Fant18Sel\n",
      "Joined = Joined.join(NumEleicoes,     on='NR_TITULO_ELEITORAL_CANDIDATO')\n",
      "Joined = Joined.join(PrimeiraEleicao, on='NR_TITULO_ELEITORAL_CANDIDATO')\n",
      "Joined = Joined.join(UltimaEleicao,   on='NR_TITULO_ELEITORAL_CANDIDATO')\n",
      "Joined = Joined.join(AllTotalVotos,   on='NR_TITULO_ELEITORAL_CANDIDATO')\n",
      "Joined = Joined.join(SitAnterior,     on='NR_TITULO_ELEITORAL_CANDIDATO')"
     ],
     "language": "python",
     "metadata": {},
     "outputs": [],
     "prompt_number": 8
    },
    {
     "cell_type": "heading",
     "level": 3,
     "metadata": {},
     "source": [
      "Salva resultado em CSV"
     ]
    },
    {
     "cell_type": "code",
     "collapsed": false,
     "input": [
      "Joined.to_csv('cand-fantasmas-profissionais-MASC-2018-v01.csv',sep=';',index=False)"
     ],
     "language": "python",
     "metadata": {},
     "outputs": [],
     "prompt_number": 9
    },
    {
     "cell_type": "heading",
     "level": 3,
     "metadata": {},
     "source": [
      "Busca por candidaturas selecionadas"
     ]
    },
    {
     "cell_type": "code",
     "collapsed": false,
     "input": [
      "titEleitor = cand18.loc[(cand18.NM_URNA_CANDIDATO=='LUCIANA NOVO')&(cand18.SG_UF=='RO')].NR_TITULO_ELEITORAL_CANDIDATO\n",
      "print '# de candidaturas encontradas:',len(titEleitor)"
     ],
     "language": "python",
     "metadata": {},
     "outputs": [
      {
       "output_type": "stream",
       "stream": "stdout",
       "text": [
        "# de candidaturas encontradas: 1\n"
       ]
      }
     ],
     "prompt_number": 48
    },
    {
     "cell_type": "code",
     "collapsed": false,
     "input": [
      "base.loc[base.NUM_TITULO_ELEITORAL_CANDIDATO==titEleitor.iloc[0]].transpose()"
     ],
     "language": "python",
     "metadata": {},
     "outputs": [
      {
       "html": [
        "<div style=\"max-height:1000px;max-width:1500px;overflow:auto;\">\n",
        "<table border=\"1\" class=\"dataframe\">\n",
        "  <thead>\n",
        "    <tr style=\"text-align: right;\">\n",
        "      <th></th>\n",
        "      <th>1138602</th>\n",
        "    </tr>\n",
        "  </thead>\n",
        "  <tbody>\n",
        "    <tr>\n",
        "      <th>ANO_ELEICAO</th>\n",
        "      <td>                   2014</td>\n",
        "    </tr>\n",
        "    <tr>\n",
        "      <th>CODIGO_CARGO</th>\n",
        "      <td>                      7</td>\n",
        "    </tr>\n",
        "    <tr>\n",
        "      <th>CODIGO_COR_RACA</th>\n",
        "      <td>                      3</td>\n",
        "    </tr>\n",
        "    <tr>\n",
        "      <th>CODIGO_ESTADO_CIVIL</th>\n",
        "      <td>                      3</td>\n",
        "    </tr>\n",
        "    <tr>\n",
        "      <th>CODIGO_LEGENDA</th>\n",
        "      <td>           220000000009</td>\n",
        "    </tr>\n",
        "    <tr>\n",
        "      <th>CODIGO_NACIONALIDADE</th>\n",
        "      <td>                      1</td>\n",
        "    </tr>\n",
        "    <tr>\n",
        "      <th>CODIGO_OCUPACAO</th>\n",
        "      <td>                    170</td>\n",
        "    </tr>\n",
        "    <tr>\n",
        "      <th>CODIGO_SEXO</th>\n",
        "      <td>                      4</td>\n",
        "    </tr>\n",
        "    <tr>\n",
        "      <th>COD_GRAU_INSTRUCAO</th>\n",
        "      <td>                      7</td>\n",
        "    </tr>\n",
        "    <tr>\n",
        "      <th>COD_SITUACAO_CANDIDATURA</th>\n",
        "      <td>                      2</td>\n",
        "    </tr>\n",
        "    <tr>\n",
        "      <th>COD_SIT_TOT_TURNO</th>\n",
        "      <td>                      5</td>\n",
        "    </tr>\n",
        "    <tr>\n",
        "      <th>COMPOSICAO_LEGENDA</th>\n",
        "      <td>    PRB / PMN / PT do B</td>\n",
        "    </tr>\n",
        "    <tr>\n",
        "      <th>CPF_CANDIDATO</th>\n",
        "      <td>            50908154291</td>\n",
        "    </tr>\n",
        "    <tr>\n",
        "      <th>DESCRICAO_CARGO</th>\n",
        "      <td>      DEPUTADO ESTADUAL</td>\n",
        "    </tr>\n",
        "    <tr>\n",
        "      <th>DESCRICAO_COR_RACA</th>\n",
        "      <td>                  PARDA</td>\n",
        "    </tr>\n",
        "    <tr>\n",
        "      <th>DESCRICAO_ESTADO_CIVIL</th>\n",
        "      <td>              CASADO(A)</td>\n",
        "    </tr>\n",
        "    <tr>\n",
        "      <th>DESCRICAO_GRAU_INSTRUCAO</th>\n",
        "      <td>    SUPERIOR INCOMPLETO</td>\n",
        "    </tr>\n",
        "    <tr>\n",
        "      <th>DESCRICAO_NACIONALIDADE</th>\n",
        "      <td>        BRASILEIRA NATA</td>\n",
        "    </tr>\n",
        "    <tr>\n",
        "      <th>DESCRICAO_OCUPACAO</th>\n",
        "      <td>            COMERCI\u00c1RIO</td>\n",
        "    </tr>\n",
        "    <tr>\n",
        "      <th>DESCRICAO_SEXO</th>\n",
        "      <td>               FEMININO</td>\n",
        "    </tr>\n",
        "    <tr>\n",
        "      <th>DESCRICAO_UE</th>\n",
        "      <td>               ROND\u00d4NIA</td>\n",
        "    </tr>\n",
        "    <tr>\n",
        "      <th>DESC_SIT_TOT_TURNO</th>\n",
        "      <td>               SUPLENTE</td>\n",
        "    </tr>\n",
        "    <tr>\n",
        "      <th>DESPESA_MAX_CAMPANHA</th>\n",
        "      <td>                  9e+07</td>\n",
        "    </tr>\n",
        "    <tr>\n",
        "      <th>DES_SITUACAO_CANDIDATURA</th>\n",
        "      <td>               DEFERIDO</td>\n",
        "    </tr>\n",
        "    <tr>\n",
        "      <th>IDADE_DATA_ELEICAO</th>\n",
        "      <td>                     36</td>\n",
        "    </tr>\n",
        "    <tr>\n",
        "      <th>NM_EMAIL</th>\n",
        "      <td>                 #NULO#</td>\n",
        "    </tr>\n",
        "    <tr>\n",
        "      <th>NOME_CANDIDATO</th>\n",
        "      <td> LUCIANA NOVO FERNANDES</td>\n",
        "    </tr>\n",
        "    <tr>\n",
        "      <th>NOME_MUNICIPIO_NASCIMENTO</th>\n",
        "      <td>                 MANAUS</td>\n",
        "    </tr>\n",
        "    <tr>\n",
        "      <th>NOME_URNA_CANDIDATO</th>\n",
        "      <td>      LUCIANA FERNANDES</td>\n",
        "    </tr>\n",
        "    <tr>\n",
        "      <th>NUMERO_BENS</th>\n",
        "      <td>                    NaN</td>\n",
        "    </tr>\n",
        "    <tr>\n",
        "      <th>NUMERO_CANDIDATO</th>\n",
        "      <td>                  70425</td>\n",
        "    </tr>\n",
        "    <tr>\n",
        "      <th>NUMERO_PARTIDO</th>\n",
        "      <td>                     70</td>\n",
        "    </tr>\n",
        "    <tr>\n",
        "      <th>NUM_TITULO_ELEITORAL_CANDIDATO</th>\n",
        "      <td>            17432782224</td>\n",
        "    </tr>\n",
        "    <tr>\n",
        "      <th>SEQUENCIAL_CANDIDATO</th>\n",
        "      <td>           220000000182</td>\n",
        "    </tr>\n",
        "    <tr>\n",
        "      <th>SIGLA_PARTIDO</th>\n",
        "      <td>                PT do B</td>\n",
        "    </tr>\n",
        "    <tr>\n",
        "      <th>SIGLA_UE</th>\n",
        "      <td>                     RO</td>\n",
        "    </tr>\n",
        "    <tr>\n",
        "      <th>SIGLA_UF</th>\n",
        "      <td>                     RO</td>\n",
        "    </tr>\n",
        "    <tr>\n",
        "      <th>SIGLA_UF_NASCIMENTO</th>\n",
        "      <td>                     AM</td>\n",
        "    </tr>\n",
        "    <tr>\n",
        "      <th>VALOR_BEM</th>\n",
        "      <td>                    NaN</td>\n",
        "    </tr>\n",
        "    <tr>\n",
        "      <th>DESCRICAO_CATEGORIA</th>\n",
        "      <td>             batalhador</td>\n",
        "    </tr>\n",
        "    <tr>\n",
        "      <th>TAMANHO_NOME</th>\n",
        "      <td>                      3</td>\n",
        "    </tr>\n",
        "    <tr>\n",
        "      <th>TAMANHO_NOME_URNA</th>\n",
        "      <td>                      2</td>\n",
        "    </tr>\n",
        "    <tr>\n",
        "      <th>TAMANHO_LEGENDA</th>\n",
        "      <td>                      3</td>\n",
        "    </tr>\n",
        "    <tr>\n",
        "      <th>NUM_ELEICOES_ANTERIORES</th>\n",
        "      <td>                      0</td>\n",
        "    </tr>\n",
        "    <tr>\n",
        "      <th>TOTAL_VOTOS_ANTERIORES</th>\n",
        "      <td>                      0</td>\n",
        "    </tr>\n",
        "    <tr>\n",
        "      <th>TOTAL_VOTOS</th>\n",
        "      <td>                      0</td>\n",
        "    </tr>\n",
        "  </tbody>\n",
        "</table>\n",
        "<p>46 rows \u00d7 1 columns</p>\n",
        "</div>"
       ],
       "metadata": {},
       "output_type": "pyout",
       "prompt_number": 50,
       "text": [
        "                                               1138602\n",
        "ANO_ELEICAO                                       2014\n",
        "CODIGO_CARGO                                         7\n",
        "CODIGO_COR_RACA                                      3\n",
        "CODIGO_ESTADO_CIVIL                                  3\n",
        "CODIGO_LEGENDA                            220000000009\n",
        "CODIGO_NACIONALIDADE                                 1\n",
        "CODIGO_OCUPACAO                                    170\n",
        "CODIGO_SEXO                                          4\n",
        "COD_GRAU_INSTRUCAO                                   7\n",
        "COD_SITUACAO_CANDIDATURA                             2\n",
        "COD_SIT_TOT_TURNO                                    5\n",
        "COMPOSICAO_LEGENDA                 PRB / PMN / PT do B\n",
        "CPF_CANDIDATO                              50908154291\n",
        "DESCRICAO_CARGO                      DEPUTADO ESTADUAL\n",
        "DESCRICAO_COR_RACA                               PARDA\n",
        "DESCRICAO_ESTADO_CIVIL                       CASADO(A)\n",
        "DESCRICAO_GRAU_INSTRUCAO           SUPERIOR INCOMPLETO\n",
        "DESCRICAO_NACIONALIDADE                BRASILEIRA NATA\n",
        "DESCRICAO_OCUPACAO                         COMERCI\u00c1RIO\n",
        "DESCRICAO_SEXO                                FEMININO\n",
        "DESCRICAO_UE                                  ROND\u00d4NIA\n",
        "DESC_SIT_TOT_TURNO                            SUPLENTE\n",
        "DESPESA_MAX_CAMPANHA                             9e+07\n",
        "DES_SITUACAO_CANDIDATURA                      DEFERIDO\n",
        "IDADE_DATA_ELEICAO                                  36\n",
        "NM_EMAIL                                        #NULO#\n",
        "NOME_CANDIDATO                  LUCIANA NOVO FERNANDES\n",
        "NOME_MUNICIPIO_NASCIMENTO                       MANAUS\n",
        "NOME_URNA_CANDIDATO                  LUCIANA FERNANDES\n",
        "NUMERO_BENS                                        NaN\n",
        "NUMERO_CANDIDATO                                 70425\n",
        "NUMERO_PARTIDO                                      70\n",
        "NUM_TITULO_ELEITORAL_CANDIDATO             17432782224\n",
        "SEQUENCIAL_CANDIDATO                      220000000182\n",
        "SIGLA_PARTIDO                                  PT do B\n",
        "SIGLA_UE                                            RO\n",
        "SIGLA_UF                                            RO\n",
        "SIGLA_UF_NASCIMENTO                                 AM\n",
        "VALOR_BEM                                          NaN\n",
        "DESCRICAO_CATEGORIA                         batalhador\n",
        "TAMANHO_NOME                                         3\n",
        "TAMANHO_NOME_URNA                                    2\n",
        "TAMANHO_LEGENDA                                      3\n",
        "NUM_ELEICOES_ANTERIORES                              0\n",
        "TOTAL_VOTOS_ANTERIORES                               0\n",
        "TOTAL_VOTOS                                          0\n",
        "\n",
        "[46 rows x 1 columns]"
       ]
      }
     ],
     "prompt_number": 50
    },
    {
     "cell_type": "heading",
     "level": 3,
     "metadata": {},
     "source": [
      "Outros testes aleat\u00f3rios"
     ]
    },
    {
     "cell_type": "code",
     "collapsed": false,
     "input": [
      "cand18.groupby('DS_GENERO').size()"
     ],
     "language": "python",
     "metadata": {},
     "outputs": [
      {
       "metadata": {},
       "output_type": "pyout",
       "prompt_number": 3,
       "text": [
        "DS_GENERO\n",
        "FEMININO      8554\n",
        "MASCULINO    19307\n",
        "dtype: int64"
       ]
      }
     ],
     "prompt_number": 3
    },
    {
     "cell_type": "code",
     "collapsed": false,
     "input": [],
     "language": "python",
     "metadata": {},
     "outputs": []
    }
   ],
   "metadata": {}
  }
 ]
}