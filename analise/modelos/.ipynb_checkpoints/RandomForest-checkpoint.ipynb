{
 "metadata": {
  "name": ""
 },
 "nbformat": 3,
 "nbformat_minor": 0,
 "worksheets": [
  {
   "cells": [
    {
     "cell_type": "heading",
     "level": 3,
     "metadata": {},
     "source": [
      "Preliminares"
     ]
    },
    {
     "cell_type": "code",
     "collapsed": false,
     "input": [
      "import pandas as pd\n",
      "import numpy as np\n",
      "from sklearn.metrics import confusion_matrix"
     ],
     "language": "python",
     "metadata": {},
     "outputs": [],
     "prompt_number": 14
    },
    {
     "cell_type": "code",
     "collapsed": false,
     "input": [
      "# Legenda para os c\u00f3digos:\n",
      "CodDescDict = {'CODIGO_CARGO': {6: 'DEPUTADO FEDERAL',7: 'DEPUTADO ESTADUAL',\n",
      "  8: 'DEPUTADO DISTRITAL',13: 'VEREADOR'},\n",
      " 'CODIGO_COR_RACA': {1: 'BRANCA',2: 'PRETA',3: 'PARDA',4: 'AMARELA',\n",
      "  5: 'IND\\xc3\\x8dGENA'},\n",
      " 'CODIGO_ESTADO_CIVIL': {0: 'N\\xc3\\x83O INFORMADO',1: 'SOLTEIRO(A)',\n",
      "  3: 'CASADO(A)',5: 'VI\\xc3\\x9aVO(A)',7: 'SEPARADO(A) JUDICIALMENTE',\n",
      "  9: 'DIVORCIADO(A)'},\n",
      " 'CODIGO_NACIONALIDADE': {0: 'N\\xc3\\x83O INFORMADA',1: 'BRASILEIRA NATA',\n",
      "  2: 'BRASILEIRA (NATURALIZADA)',3: 'PORTUGUESA COM IGUALDADE DE DIREITOS',\n",
      "  4: 'ESTRANGEIRO'},\n",
      " 'CODIGO_SEXO': {0: 'N\\xc3\\x83O INFORMADO', 2: 'MASCULINO', 4: 'FEMININO'},\n",
      " 'COD_GRAU_INSTRUCAO': {0: 'N\\xc3\\x83O INFORMADO',1: 'ANALFABETO',\n",
      "  2: 'L\\xc3\\x8a E ESCREVE',3: 'FUNDAMENTAL INCOMPLETO',\n",
      "  4: 'FUNDAMENTAL COMPLETO',5: 'M\\xc3\\x89DIO INCOMPLETO',\n",
      "  6: 'M\\xc3\\x89DIO COMPLETO',7: 'SUPERIOR INCOMPLETO',8: 'SUPERIOR COMPLETO'},\n",
      " 'COD_SITUACAO_CANDIDATURA': {2: 'DEFERIDO',4: 'INDEFERIDO COM RECURSO',\n",
      "  16: 'DEFERIDO COM RECURSO'},\n",
      " 'NUMERO_PARTIDO': {10: 'PRB',11: 'PP',12: 'PDT',13: 'PT',14: 'PTB',\n",
      "  15: 'PMDB',16: 'PSTU',17: 'PSL',18: 'REDE',19: 'PTN',20: 'PSC',\n",
      "  21: 'PCB',22: 'PR',23: 'PPS',25: 'DEM',26: 'PAN',27: 'PSDC',28: 'PRTB',\n",
      "  29: 'PCO',30: 'NOVO',31: 'PHS',33: 'PMN',35: 'PMB',36: 'PTC',40: 'PSB',\n",
      "  43: 'PV',44: 'PRP',45: 'PSDB',50: 'PSOL',51: 'PEN',54: 'PPL',55: 'PSD',\n",
      "  56: 'PRONA',65: 'PC do B',70: 'PT do B',77: 'SD',90: 'PROS'}}"
     ],
     "language": "python",
     "metadata": {},
     "outputs": [],
     "prompt_number": 2
    },
    {
     "cell_type": "code",
     "collapsed": false,
     "input": [
      "# Fun\u00e7\u00f5es:\n",
      "\n",
      "# Fun\u00e7\u00e3o que retorna n\u00famero e completeza e pureza em %:\n",
      "def NumComplPur(y_true, y_pred):\n",
      "    cm = confusion_matrix(y_true, y_pred)\n",
      "    return [np.sum(cm[:,1]),float(cm[1,1])/np.sum(cm[1,1]+cm[1,0])*100,float(cm[1,1])/np.sum(cm[1,1]+cm[0,1])*100]\n",
      "\n",
      "def NumComplPurPrint(y_true, y_pred):\n",
      "    n,c,p = NumComplPur(y_true, y_pred)\n",
      "    print '# de selecionados como fantasmas: {}'.format(n)\n",
      "    print 'Pureza dos selecionados: {:.2f}%'.format(p)\n",
      "    print 'Completeza:              {:.2f}%'.format(c)"
     ],
     "language": "python",
     "metadata": {},
     "outputs": [],
     "prompt_number": 15
    },
    {
     "cell_type": "heading",
     "level": 3,
     "metadata": {},
     "source": [
      "Carrega base de dados"
     ]
    },
    {
     "cell_type": "code",
     "collapsed": false,
     "input": [
      "# Carrega a base de dados j\u00e1 selecionados:\n",
      "#base = pd.read_csv('../dadosParaModelar/deputados2010.csv')\n",
      "base = pd.read_csv('../../dados/concatenados/completa+bens.csv',sep='>')\n",
      "\n",
      "# IPCA para deflacionar valores (todos em outubro, com exce\u00e7\u00e3o de 2018 (em junho)):\n",
      "anos   = [2004,2006,2008,2010,2012,2014,2016, 2018]\n",
      "ipca   = np.array([608.7, 668.6, 740.8, 812.0, 915.6, 1033.0, 1224.9,1300.0])\n",
      "deflate = dict(zip(anos,ipca[-1]/ipca))\n",
      "DeflacBem = base.VALOR_BEM*(base.ANO_ELEICAO.map(deflate))\n",
      "# COLOCA VALORES DEFLACIONADOS NA BASE:\n",
      "base['VALOR_BEM_DEFLAC'] = DeflacBem\n",
      "\n",
      "# Carrega categorias de profiss\u00f5es:\n",
      "profBase = pd.read_csv('../profissoes-v2.txt',sep=';')\n",
      "profDict = profBase.groupby('PROFISSAO')['CATEGORIA'].unique().apply(lambda x: x[-1]).to_dict()"
     ],
     "language": "python",
     "metadata": {},
     "outputs": [
      {
       "output_type": "stream",
       "stream": "stderr",
       "text": [
        "/usr/lib/python2.7/dist-packages/pandas/io/parsers.py:1070: DtypeWarning: Columns (12,14,25,35) have mixed types. Specify dtype option on import or set low_memory=False.\n",
        "  data = self._reader.read(nrows)\n"
       ]
      }
     ],
     "prompt_number": 4
    },
    {
     "cell_type": "heading",
     "level": 3,
     "metadata": {},
     "source": [
      "Seleciona e prepara os dados"
     ]
    },
    {
     "cell_type": "code",
     "collapsed": false,
     "input": [
      "# Seleciona dados relevantes:\n",
      "DataToModel = base.loc[(base.CODIGO_CARGO.isin([6,7])) & \\\n",
      "                       ((base.ANO_ELEICAO==2010) | (base.ANO_ELEICAO==2014)) & \\\n",
      "#DataToModel = base.loc[((base.ANO_ELEICAO>2009) | (base.ANO_ELEICAO<=2016)) & \\\n",
      "                       (base.CODIGO_SEXO==4)]\\\n",
      "[['ANO_ELEICAO','CODIGO_CARGO','CODIGO_ESTADO_CIVIL','CODIGO_NACIONALIDADE','COD_GRAU_INSTRUCAO',\\\n",
      "#[['ANO_ELEICAO','CODIGO_ESTADO_CIVIL','CODIGO_NACIONALIDADE','COD_GRAU_INSTRUCAO',\\\n",
      "  'COD_SITUACAO_CANDIDATURA','DESPESA_MAX_CAMPANHA','IDADE_DATA_ELEICAO','NUMERO_PARTIDO','SIGLA_UF',\\\n",
      "  'DESCRICAO_OCUPACAO', 'TAMANHO_NOME', 'TAMANHO_NOME_URNA', 'NUM_ELEICOES_ANTERIORES',\\\n",
      "  'TOTAL_VOTOS_ANTERIORES','VALOR_BEM_DEFLAC','NUMERO_BENS','TOTAL_VOTOS']]\n",
      "\n",
      "# Codifica as vari\u00e1veis que ainda est\u00e3o em forma de texto:\n",
      "from sklearn.preprocessing import LabelEncoder\n",
      "encoderUF = LabelEncoder()\n",
      "DataToModel.SIGLA_UF = encoderUF.fit_transform(DataToModel.SIGLA_UF)\n",
      "encoderCAT = LabelEncoder()\n",
      "DataToModel = DataToModel.replace({'DESCRICAO_OCUPACAO': profDict})\n",
      "DataToModel.DESCRICAO_OCUPACAO = encoderCAT.fit_transform(DataToModel.DESCRICAO_OCUPACAO)\n",
      "\n",
      "# E ajusta as problem\u00e1ticas:\n",
      "DataToModel.TOTAL_VOTOS[DataToModel.TOTAL_VOTOS.isnull()==True] = -1\n",
      "DataToModel.TOTAL_VOTOS_ANTERIORES[DataToModel.TOTAL_VOTOS_ANTERIORES.isnull()==True] = -1\n",
      "DataToModel.NUMERO_BENS[DataToModel.NUMERO_BENS.isnull()==True] = -1\n",
      "DataToModel.VALOR_BEM_DEFLAC[DataToModel.VALOR_BEM_DEFLAC.isnull()==True] = -1\n",
      "#DataToModel.VALOR_BEM[DataToModel.VALOR_BEM.isnull()==True] = -1\n",
      "#DataToModel.TOTAL_VOTOS_ANTERIORES = np.nan_to_num(DataToModel.TOTAL_VOTOS_ANTERIORES)\n",
      "#DataToModel.NUMERO_BENS = np.nan_to_num(DataToModel.NUMERO_BENS)\n",
      "#DataToModel.VALOR_BEM = np.nan_to_num(DataToModel.VALOR_BEM)\n",
      "\n",
      "# Define o crit\u00e9rio para ser fantasma:\n",
      "DataToModel.TOTAL_VOTOS = ((DataToModel.TOTAL_VOTOS>=0) & \\\n",
      "                           (DataToModel.TOTAL_VOTOS<=5)).astype(int)"
     ],
     "language": "python",
     "metadata": {},
     "outputs": [],
     "prompt_number": 5
    },
    {
     "cell_type": "code",
     "collapsed": false,
     "input": [
      "# Separa dados dispon\u00edveis de futuros:\n",
      "\n",
      "# Dispon\u00edveis:\n",
      "X = DataToModel.loc[DataToModel.ANO_ELEICAO<2016].iloc[:,1:-1].values\n",
      "y = DataToModel.loc[DataToModel.ANO_ELEICAO<2016].iloc[:,-1].values\n",
      "# Futuros:\n",
      "last_X = DataToModel.loc[DataToModel.ANO_ELEICAO==2014].iloc[:,1:-1].values\n",
      "last_y = DataToModel.loc[DataToModel.ANO_ELEICAO==2014].iloc[:,-1].values"
     ],
     "language": "python",
     "metadata": {},
     "outputs": [],
     "prompt_number": 6
    },
    {
     "cell_type": "heading",
     "level": 3,
     "metadata": {},
     "source": [
      "Split & Treinamento"
     ]
    },
    {
     "cell_type": "code",
     "collapsed": false,
     "input": [
      "########################################\n",
      "### Treinamento e previs\u00e3o do modelo ###\n",
      "########################################\n",
      "\n",
      "# Divide os dados entre treinamento e teste:\n",
      "from sklearn.cross_validation import train_test_split\n",
      "X_train, X_test, y_train, y_test = train_test_split(X, y, test_size = 0.25)\n",
      "\n",
      "# Treina o modelo nos dados:\n",
      "# Se selecionarmos min_samples_leaf=2, parece que o modelo se torna, na \n",
      "# maioria das vezes, bem criterioso (alta pureza mas baixo n\u00famero de \n",
      "# selecionados).\n",
      "from sklearn.ensemble import RandomForestClassifier\n",
      "classifier = RandomForestClassifier(n_estimators = 400, criterion = 'entropy',\\\n",
      "                                    n_jobs=-1)\n",
      "classifier.fit(X_train, y_train)"
     ],
     "language": "python",
     "metadata": {},
     "outputs": [
      {
       "metadata": {},
       "output_type": "pyout",
       "prompt_number": 12,
       "text": [
        "RandomForestClassifier(bootstrap=True, class_weight=None, criterion='entropy',\n",
        "            max_depth=None, max_features='auto', max_leaf_nodes=None,\n",
        "            min_impurity_decrease=0.0, min_impurity_split=None,\n",
        "            min_samples_leaf=1, min_samples_split=2,\n",
        "            min_weight_fraction_leaf=0.0, n_estimators=400, n_jobs=-1,\n",
        "            oob_score=False, random_state=None, verbose=0,\n",
        "            warm_start=False)"
       ]
      }
     ],
     "prompt_number": 12
    },
    {
     "cell_type": "heading",
     "level": 3,
     "metadata": {},
     "source": [
      "Teste do modelo"
     ]
    },
    {
     "cell_type": "code",
     "collapsed": false,
     "input": [
      "################################################################\n",
      "### An\u00e1lise dos resultados e compara\u00e7\u00e3o com amostra de teste ###\n",
      "################################################################\n",
      "\n",
      "# Prediz para a amostra de testes se s\u00e3o fantasmas ou n\u00e3o:\n",
      "y_pred = classifier.predict(X_test)\n",
      "NumComplPurPrint(y_test,y_pred)"
     ],
     "language": "python",
     "metadata": {},
     "outputs": [
      {
       "output_type": "stream",
       "stream": "stdout",
       "text": [
        "# de selecionados como fantasmas: 6\n",
        "Pureza dos selecionados: 83.33%\n",
        "Completeza:              3.73%\n"
       ]
      }
     ],
     "prompt_number": 16
    },
    {
     "cell_type": "code",
     "collapsed": false,
     "input": [
      "# Teste com ano deixado de fora:\n",
      "last_y_pred = classifier.predict(last_X)\n",
      "NumComplPurPrint(last_y,last_y_pred)"
     ],
     "language": "python",
     "metadata": {},
     "outputs": [
      {
       "output_type": "stream",
       "stream": "stdout",
       "text": [
        "# de selecionados como fantasmas: 265\n",
        "Pureza dos selecionados: 99.62%\n",
        "Completeza:              75.64%\n"
       ]
      }
     ],
     "prompt_number": 17
    },
    {
     "cell_type": "code",
     "collapsed": false,
     "input": [
      "\n",
      "# Vamos usar valida\u00e7ao k-fold (do udemy):\n",
      "#from sklearn.model_selection import cross_val_score\n",
      "#accuracies = cross_val_score(classifier, X_train, y_train, cv=10, n_jobs=5)\n",
      "\n",
      "# Cross-validation:\n",
      "from sklearn.cross_validation import KFold\n",
      "ncpKfold = []\n",
      "kf = KFold(len(y_train), n_folds=10)\n",
      "for train_index, test_index in kf:\n",
      "   kf_X_train, kf_X_test = X_train[train_index], X_train[test_index]\n",
      "   kf_y_train, kf_y_test = y_train[train_index], y_train[test_index]\n",
      "   classifier.fit(kf_X_train, kf_y_train)\n",
      "   ncpKfold.append(NumComplPur(kf_y_test, classifier.predict(kf_X_test)))\n",
      "ncpMean = np.mean(ncpKfold,axis=0)\n",
      "ncpDev  =  np.std(ncpKfold,axis=0,ddof=1)\n",
      "print '== Cross-validation =='\n",
      "print 'N\u00fam.:   {}'.format(ncpMean[0],ncpDev[0])\n",
      "print 'Pureza: {:.2f} +/- {:.2f} %'.format(ncpMean[2],ncpDev[2])\n",
      "print 'Compl.: {:.2f} +/- {:.2f} %'.format(ncpMean[1],ncpDev[1])"
     ],
     "language": "python",
     "metadata": {},
     "outputs": [
      {
       "output_type": "stream",
       "stream": "stdout",
       "text": [
        "== Cross-validation ==\n",
        "N\u00fam.:   4.6\n",
        "Pureza: 41.42 +/- 23.15 %\n",
        "Compl.: 5.10 +/- 2.59 %\n"
       ]
      }
     ],
     "prompt_number": 18
    },
    {
     "cell_type": "code",
     "collapsed": false,
     "input": [
      "####################\n",
      "### Optimization ###\n",
      "####################\n",
      "\n",
      "# Apply grid search\n",
      "from sklearn.model_selection import GridSearchCV\n",
      "hyper_pars = [{'n_estimators':[380,390,400,410,420],\n",
      "               'criterion':['entropy']}]\n",
      "grid_search = GridSearchCV(estimator = classifier, \n",
      "                           param_grid = hyper_pars,\n",
      "                           scoring = 'accuracy',\n",
      "                           cv = 10,\n",
      "                           n_jobs=4)\n",
      "grid_search = grid_search.fit(X_train,y_train)\n",
      "print grid_search.best_score_\n",
      "print grid_search.best_params_"
     ],
     "language": "python",
     "metadata": {},
     "outputs": [
      {
       "output_type": "stream",
       "stream": "stdout",
       "text": [
        "0.947436635945\n",
        "{'n_estimators': 420, 'criterion': 'entropy'}\n"
       ]
      }
     ],
     "prompt_number": 11
    },
    {
     "cell_type": "heading",
     "level": 3,
     "metadata": {},
     "source": [
      "Caracter\u00edsticas dos selecionados"
     ]
    },
    {
     "cell_type": "code",
     "collapsed": false,
     "input": [
      "# Vamos ver as caracter\u00edsticas dos selecionados:\n",
      "Xlabels   = DataToModel.columns.values[:-1]\n",
      "Xselected = X_test[y_pred==1].astype(int)\n",
      "Yselected = y_test[y_pred==1].astype(int)\n",
      "selec = pd.DataFrame()\n",
      "for i in range(0,len(Xlabels)):\n",
      "    selec[Xlabels[i]] = pd.Series(Xselected[:,i])\n",
      "for i in [0,1,2,3,4,5,8]:    \n",
      "    selec[Xlabels[i]] = selec[Xlabels[i]].map(CodDescDict[Xlabels[i]])\n",
      "selec['SIGLA_UF'] = encoderUF.inverse_transform(selec['SIGLA_UF'])\n",
      "selec['DESCRICAO_CATEGORIA'] = \\\n",
      "encoderCAT.inverse_transform(selec['DESCRICAO_CATEGORIA'])\n",
      "selec['FANTASMA'] = pd.Series(Yselected)\n",
      "selec.transpose()"
     ],
     "language": "python",
     "metadata": {},
     "outputs": []
    }
   ],
   "metadata": {}
  }
 ]
}