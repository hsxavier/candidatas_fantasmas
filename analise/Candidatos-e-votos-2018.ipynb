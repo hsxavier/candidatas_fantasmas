{
 "metadata": {
  "name": ""
 },
 "nbformat": 3,
 "nbformat_minor": 0,
 "worksheets": [
  {
   "cells": [
    {
     "cell_type": "code",
     "collapsed": false,
     "input": [
      "import pandas as pd\n",
      "import numpy as np\n",
      "from glob import glob"
     ],
     "language": "python",
     "metadata": {},
     "outputs": [],
     "prompt_number": 1
    },
    {
     "cell_type": "code",
     "collapsed": false,
     "input": [
      "# Carrega bases de dados de candidatos:\n",
      "candFiles = glob('../dados/consulta_cand_2018/2018-09-16/consulta_cand_2018_??.csv')\n",
      "candFiles.sort()\n",
      "candByUF = [pd.read_csv(f, sep=';') for f in candFiles]"
     ],
     "language": "python",
     "metadata": {},
     "outputs": [],
     "prompt_number": 2
    },
    {
     "cell_type": "code",
     "collapsed": false,
     "input": [
      "# Carrega base de dados de votos:\n",
      "votoFiles = glob('../dados/votacao_candidato_munzona_2018/votacao_candidato_munzona_2018_??.csv')\n",
      "votoFiles.sort()\n",
      "votoByUF = [pd.read_csv(f, sep=';',usecols=[18,37]) for f in votoFiles]"
     ],
     "language": "python",
     "metadata": {},
     "outputs": [],
     "prompt_number": 3
    },
    {
     "cell_type": "code",
     "collapsed": false,
     "input": [
      "# Totaliza votos do candidato:\n",
      "votosTotaisByUF = [v.groupby('SQ_CANDIDATO')['QT_VOTOS_NOMINAIS'].sum() for v in votoByUF]"
     ],
     "language": "python",
     "metadata": {},
     "outputs": [],
     "prompt_number": 11
    },
    {
     "cell_type": "code",
     "collapsed": false,
     "input": [
      "# Junta base de dados de candidatos e votos e concatena estados:\n",
      "baseByUF = [c.join(v, on='SQ_CANDIDATO') for c,v in zip(candByUF,votosTotaisByUF)]\n",
      "base = pd.concat(baseByUF, ignore_index=True).fillna(0)"
     ],
     "language": "python",
     "metadata": {},
     "outputs": [],
     "prompt_number": 22
    },
    {
     "cell_type": "code",
     "collapsed": false,
     "input": [
      "# Seleciona candidatos a deputados aptos: \n",
      "deputados = base.loc[(base['CD_CARGO'].isin([6,7,8])) & (base['CD_SITUACAO_CANDIDATURA'].isin([1,12]))]"
     ],
     "language": "python",
     "metadata": {},
     "outputs": [],
     "prompt_number": 36
    },
    {
     "cell_type": "code",
     "collapsed": false,
     "input": [
      "# Calcula a chance de pegar um candidato com 5 votos ou menos de maneira aleat\u00f3ria:\n",
      "float(len(deputados.loc[deputados.QT_VOTOS_NOMINAIS<=5]))/len(deputados)"
     ],
     "language": "python",
     "metadata": {},
     "outputs": [
      {
       "metadata": {},
       "output_type": "pyout",
       "prompt_number": 37,
       "text": [
        "0.053864168618266976"
       ]
      }
     ],
     "prompt_number": 37
    },
    {
     "cell_type": "code",
     "collapsed": false,
     "input": [
      "# O quanto que acertamos:\n",
      "11.0/44"
     ],
     "language": "python",
     "metadata": {},
     "outputs": [
      {
       "metadata": {},
       "output_type": "pyout",
       "prompt_number": 41,
       "text": [
        "0.25"
       ]
      }
     ],
     "prompt_number": 41
    }
   ],
   "metadata": {}
  }
 ]
}